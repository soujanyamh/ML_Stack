{
 "cells": [
  {
   "cell_type": "code",
   "execution_count": 1,
   "id": "9ec6dcd9",
   "metadata": {
    "_cell_guid": "b1076dfc-b9ad-4769-8c92-a6c4dae69d19",
    "_uuid": "8f2839f25d086af736a60e9eeb907d3b93b6e0e5",
    "execution": {
     "iopub.execute_input": "2022-07-22T06:13:47.322885Z",
     "iopub.status.busy": "2022-07-22T06:13:47.322432Z",
     "iopub.status.idle": "2022-07-22T06:13:48.546006Z",
     "shell.execute_reply": "2022-07-22T06:13:48.544863Z"
    },
    "papermill": {
     "duration": 1.23727,
     "end_time": "2022-07-22T06:13:48.549067",
     "exception": false,
     "start_time": "2022-07-22T06:13:47.311797",
     "status": "completed"
    },
    "tags": []
   },
   "outputs": [],
   "source": [
    "import numpy as np\n",
    "import pandas as pd\n",
    "\n",
    "from sklearn.preprocessing import StandardScaler\n",
    "from sklearn.model_selection import train_test_split\n",
    "\n",
    "from sklearn.linear_model import LinearRegression, LogisticRegression"
   ]
  },
  {
   "cell_type": "code",
   "execution_count": 2,
   "id": "a33c46a2",
   "metadata": {
    "execution": {
     "iopub.execute_input": "2022-07-22T06:13:48.567018Z",
     "iopub.status.busy": "2022-07-22T06:13:48.566549Z",
     "iopub.status.idle": "2022-07-22T06:13:48.586501Z",
     "shell.execute_reply": "2022-07-22T06:13:48.585579Z"
    },
    "papermill": {
     "duration": 0.031635,
     "end_time": "2022-07-22T06:13:48.589104",
     "exception": false,
     "start_time": "2022-07-22T06:13:48.557469",
     "status": "completed"
    },
    "tags": []
   },
   "outputs": [],
   "source": [
    "data = pd.read_csv('../input/dissolved-oxygen-prediction-in-river-water/train.csv')"
   ]
  },
  {
   "cell_type": "code",
   "execution_count": 3,
   "id": "b90aadd0",
   "metadata": {
    "execution": {
     "iopub.execute_input": "2022-07-22T06:13:48.606434Z",
     "iopub.status.busy": "2022-07-22T06:13:48.605628Z",
     "iopub.status.idle": "2022-07-22T06:13:48.651524Z",
     "shell.execute_reply": "2022-07-22T06:13:48.650710Z"
    },
    "papermill": {
     "duration": 0.057108,
     "end_time": "2022-07-22T06:13:48.653797",
     "exception": false,
     "start_time": "2022-07-22T06:13:48.596689",
     "status": "completed"
    },
    "tags": []
   },
   "outputs": [
    {
     "data": {
      "text/html": [
       "<div>\n",
       "<style scoped>\n",
       "    .dataframe tbody tr th:only-of-type {\n",
       "        vertical-align: middle;\n",
       "    }\n",
       "\n",
       "    .dataframe tbody tr th {\n",
       "        vertical-align: top;\n",
       "    }\n",
       "\n",
       "    .dataframe thead th {\n",
       "        text-align: right;\n",
       "    }\n",
       "</style>\n",
       "<table border=\"1\" class=\"dataframe\">\n",
       "  <thead>\n",
       "    <tr style=\"text-align: right;\">\n",
       "      <th></th>\n",
       "      <th>Id</th>\n",
       "      <th>target</th>\n",
       "      <th>O2_1</th>\n",
       "      <th>O2_2</th>\n",
       "      <th>O2_3</th>\n",
       "      <th>O2_4</th>\n",
       "      <th>O2_5</th>\n",
       "      <th>O2_6</th>\n",
       "      <th>O2_7</th>\n",
       "      <th>NH4_1</th>\n",
       "      <th>...</th>\n",
       "      <th>NO3_5</th>\n",
       "      <th>NO3_6</th>\n",
       "      <th>NO3_7</th>\n",
       "      <th>BOD5_1</th>\n",
       "      <th>BOD5_2</th>\n",
       "      <th>BOD5_3</th>\n",
       "      <th>BOD5_4</th>\n",
       "      <th>BOD5_5</th>\n",
       "      <th>BOD5_6</th>\n",
       "      <th>BOD5_7</th>\n",
       "    </tr>\n",
       "  </thead>\n",
       "  <tbody>\n",
       "    <tr>\n",
       "      <th>0</th>\n",
       "      <td>0</td>\n",
       "      <td>12.58</td>\n",
       "      <td>9.875</td>\n",
       "      <td>9.20</td>\n",
       "      <td>NaN</td>\n",
       "      <td>NaN</td>\n",
       "      <td>NaN</td>\n",
       "      <td>NaN</td>\n",
       "      <td>NaN</td>\n",
       "      <td>0.690</td>\n",
       "      <td>...</td>\n",
       "      <td>NaN</td>\n",
       "      <td>NaN</td>\n",
       "      <td>NaN</td>\n",
       "      <td>4.80</td>\n",
       "      <td>5.850</td>\n",
       "      <td>NaN</td>\n",
       "      <td>NaN</td>\n",
       "      <td>NaN</td>\n",
       "      <td>NaN</td>\n",
       "      <td>NaN</td>\n",
       "    </tr>\n",
       "    <tr>\n",
       "      <th>1</th>\n",
       "      <td>3</td>\n",
       "      <td>9.37</td>\n",
       "      <td>10.300</td>\n",
       "      <td>10.75</td>\n",
       "      <td>NaN</td>\n",
       "      <td>NaN</td>\n",
       "      <td>NaN</td>\n",
       "      <td>NaN</td>\n",
       "      <td>NaN</td>\n",
       "      <td>0.710</td>\n",
       "      <td>...</td>\n",
       "      <td>NaN</td>\n",
       "      <td>NaN</td>\n",
       "      <td>NaN</td>\n",
       "      <td>5.88</td>\n",
       "      <td>6.835</td>\n",
       "      <td>NaN</td>\n",
       "      <td>NaN</td>\n",
       "      <td>NaN</td>\n",
       "      <td>NaN</td>\n",
       "      <td>NaN</td>\n",
       "    </tr>\n",
       "    <tr>\n",
       "      <th>2</th>\n",
       "      <td>4</td>\n",
       "      <td>8.35</td>\n",
       "      <td>8.290</td>\n",
       "      <td>7.90</td>\n",
       "      <td>NaN</td>\n",
       "      <td>NaN</td>\n",
       "      <td>NaN</td>\n",
       "      <td>NaN</td>\n",
       "      <td>NaN</td>\n",
       "      <td>2.210</td>\n",
       "      <td>...</td>\n",
       "      <td>NaN</td>\n",
       "      <td>NaN</td>\n",
       "      <td>NaN</td>\n",
       "      <td>3.20</td>\n",
       "      <td>2.700</td>\n",
       "      <td>NaN</td>\n",
       "      <td>NaN</td>\n",
       "      <td>NaN</td>\n",
       "      <td>NaN</td>\n",
       "      <td>NaN</td>\n",
       "    </tr>\n",
       "    <tr>\n",
       "      <th>3</th>\n",
       "      <td>5</td>\n",
       "      <td>9.57</td>\n",
       "      <td>8.820</td>\n",
       "      <td>6.80</td>\n",
       "      <td>NaN</td>\n",
       "      <td>NaN</td>\n",
       "      <td>NaN</td>\n",
       "      <td>NaN</td>\n",
       "      <td>NaN</td>\n",
       "      <td>0.595</td>\n",
       "      <td>...</td>\n",
       "      <td>NaN</td>\n",
       "      <td>NaN</td>\n",
       "      <td>NaN</td>\n",
       "      <td>7.70</td>\n",
       "      <td>7.055</td>\n",
       "      <td>NaN</td>\n",
       "      <td>NaN</td>\n",
       "      <td>NaN</td>\n",
       "      <td>NaN</td>\n",
       "      <td>NaN</td>\n",
       "    </tr>\n",
       "    <tr>\n",
       "      <th>4</th>\n",
       "      <td>6</td>\n",
       "      <td>6.00</td>\n",
       "      <td>6.000</td>\n",
       "      <td>6.50</td>\n",
       "      <td>NaN</td>\n",
       "      <td>NaN</td>\n",
       "      <td>NaN</td>\n",
       "      <td>NaN</td>\n",
       "      <td>NaN</td>\n",
       "      <td>0.600</td>\n",
       "      <td>...</td>\n",
       "      <td>NaN</td>\n",
       "      <td>NaN</td>\n",
       "      <td>NaN</td>\n",
       "      <td>5.50</td>\n",
       "      <td>5.300</td>\n",
       "      <td>NaN</td>\n",
       "      <td>NaN</td>\n",
       "      <td>NaN</td>\n",
       "      <td>NaN</td>\n",
       "      <td>NaN</td>\n",
       "    </tr>\n",
       "    <tr>\n",
       "      <th>...</th>\n",
       "      <td>...</td>\n",
       "      <td>...</td>\n",
       "      <td>...</td>\n",
       "      <td>...</td>\n",
       "      <td>...</td>\n",
       "      <td>...</td>\n",
       "      <td>...</td>\n",
       "      <td>...</td>\n",
       "      <td>...</td>\n",
       "      <td>...</td>\n",
       "      <td>...</td>\n",
       "      <td>...</td>\n",
       "      <td>...</td>\n",
       "      <td>...</td>\n",
       "      <td>...</td>\n",
       "      <td>...</td>\n",
       "      <td>...</td>\n",
       "      <td>...</td>\n",
       "      <td>...</td>\n",
       "      <td>...</td>\n",
       "      <td>...</td>\n",
       "    </tr>\n",
       "    <tr>\n",
       "      <th>142</th>\n",
       "      <td>208</td>\n",
       "      <td>6.80</td>\n",
       "      <td>7.700</td>\n",
       "      <td>7.50</td>\n",
       "      <td>NaN</td>\n",
       "      <td>NaN</td>\n",
       "      <td>NaN</td>\n",
       "      <td>NaN</td>\n",
       "      <td>NaN</td>\n",
       "      <td>0.380</td>\n",
       "      <td>...</td>\n",
       "      <td>NaN</td>\n",
       "      <td>NaN</td>\n",
       "      <td>NaN</td>\n",
       "      <td>5.00</td>\n",
       "      <td>5.800</td>\n",
       "      <td>NaN</td>\n",
       "      <td>NaN</td>\n",
       "      <td>NaN</td>\n",
       "      <td>NaN</td>\n",
       "      <td>NaN</td>\n",
       "    </tr>\n",
       "    <tr>\n",
       "      <th>143</th>\n",
       "      <td>211</td>\n",
       "      <td>5.30</td>\n",
       "      <td>6.300</td>\n",
       "      <td>5.65</td>\n",
       "      <td>NaN</td>\n",
       "      <td>NaN</td>\n",
       "      <td>NaN</td>\n",
       "      <td>NaN</td>\n",
       "      <td>NaN</td>\n",
       "      <td>0.370</td>\n",
       "      <td>...</td>\n",
       "      <td>NaN</td>\n",
       "      <td>NaN</td>\n",
       "      <td>NaN</td>\n",
       "      <td>8.00</td>\n",
       "      <td>8.000</td>\n",
       "      <td>NaN</td>\n",
       "      <td>NaN</td>\n",
       "      <td>NaN</td>\n",
       "      <td>NaN</td>\n",
       "      <td>NaN</td>\n",
       "    </tr>\n",
       "    <tr>\n",
       "      <th>144</th>\n",
       "      <td>212</td>\n",
       "      <td>8.60</td>\n",
       "      <td>8.600</td>\n",
       "      <td>11.00</td>\n",
       "      <td>NaN</td>\n",
       "      <td>NaN</td>\n",
       "      <td>NaN</td>\n",
       "      <td>NaN</td>\n",
       "      <td>NaN</td>\n",
       "      <td>2.400</td>\n",
       "      <td>...</td>\n",
       "      <td>NaN</td>\n",
       "      <td>NaN</td>\n",
       "      <td>NaN</td>\n",
       "      <td>6.80</td>\n",
       "      <td>7.200</td>\n",
       "      <td>NaN</td>\n",
       "      <td>NaN</td>\n",
       "      <td>NaN</td>\n",
       "      <td>NaN</td>\n",
       "      <td>NaN</td>\n",
       "    </tr>\n",
       "    <tr>\n",
       "      <th>145</th>\n",
       "      <td>213</td>\n",
       "      <td>9.90</td>\n",
       "      <td>9.600</td>\n",
       "      <td>14.10</td>\n",
       "      <td>NaN</td>\n",
       "      <td>NaN</td>\n",
       "      <td>NaN</td>\n",
       "      <td>NaN</td>\n",
       "      <td>NaN</td>\n",
       "      <td>0.310</td>\n",
       "      <td>...</td>\n",
       "      <td>NaN</td>\n",
       "      <td>NaN</td>\n",
       "      <td>NaN</td>\n",
       "      <td>5.20</td>\n",
       "      <td>7.800</td>\n",
       "      <td>NaN</td>\n",
       "      <td>NaN</td>\n",
       "      <td>NaN</td>\n",
       "      <td>NaN</td>\n",
       "      <td>NaN</td>\n",
       "    </tr>\n",
       "    <tr>\n",
       "      <th>146</th>\n",
       "      <td>214</td>\n",
       "      <td>6.50</td>\n",
       "      <td>6.500</td>\n",
       "      <td>7.70</td>\n",
       "      <td>NaN</td>\n",
       "      <td>NaN</td>\n",
       "      <td>NaN</td>\n",
       "      <td>NaN</td>\n",
       "      <td>NaN</td>\n",
       "      <td>0.190</td>\n",
       "      <td>...</td>\n",
       "      <td>NaN</td>\n",
       "      <td>NaN</td>\n",
       "      <td>NaN</td>\n",
       "      <td>3.40</td>\n",
       "      <td>4.100</td>\n",
       "      <td>NaN</td>\n",
       "      <td>NaN</td>\n",
       "      <td>NaN</td>\n",
       "      <td>NaN</td>\n",
       "      <td>NaN</td>\n",
       "    </tr>\n",
       "  </tbody>\n",
       "</table>\n",
       "<p>147 rows × 37 columns</p>\n",
       "</div>"
      ],
      "text/plain": [
       "      Id  target    O2_1   O2_2  O2_3  O2_4  O2_5  O2_6  O2_7  NH4_1  ...  \\\n",
       "0      0   12.58   9.875   9.20   NaN   NaN   NaN   NaN   NaN  0.690  ...   \n",
       "1      3    9.37  10.300  10.75   NaN   NaN   NaN   NaN   NaN  0.710  ...   \n",
       "2      4    8.35   8.290   7.90   NaN   NaN   NaN   NaN   NaN  2.210  ...   \n",
       "3      5    9.57   8.820   6.80   NaN   NaN   NaN   NaN   NaN  0.595  ...   \n",
       "4      6    6.00   6.000   6.50   NaN   NaN   NaN   NaN   NaN  0.600  ...   \n",
       "..   ...     ...     ...    ...   ...   ...   ...   ...   ...    ...  ...   \n",
       "142  208    6.80   7.700   7.50   NaN   NaN   NaN   NaN   NaN  0.380  ...   \n",
       "143  211    5.30   6.300   5.65   NaN   NaN   NaN   NaN   NaN  0.370  ...   \n",
       "144  212    8.60   8.600  11.00   NaN   NaN   NaN   NaN   NaN  2.400  ...   \n",
       "145  213    9.90   9.600  14.10   NaN   NaN   NaN   NaN   NaN  0.310  ...   \n",
       "146  214    6.50   6.500   7.70   NaN   NaN   NaN   NaN   NaN  0.190  ...   \n",
       "\n",
       "     NO3_5  NO3_6  NO3_7  BOD5_1  BOD5_2  BOD5_3  BOD5_4  BOD5_5  BOD5_6  \\\n",
       "0      NaN    NaN    NaN    4.80   5.850     NaN     NaN     NaN     NaN   \n",
       "1      NaN    NaN    NaN    5.88   6.835     NaN     NaN     NaN     NaN   \n",
       "2      NaN    NaN    NaN    3.20   2.700     NaN     NaN     NaN     NaN   \n",
       "3      NaN    NaN    NaN    7.70   7.055     NaN     NaN     NaN     NaN   \n",
       "4      NaN    NaN    NaN    5.50   5.300     NaN     NaN     NaN     NaN   \n",
       "..     ...    ...    ...     ...     ...     ...     ...     ...     ...   \n",
       "142    NaN    NaN    NaN    5.00   5.800     NaN     NaN     NaN     NaN   \n",
       "143    NaN    NaN    NaN    8.00   8.000     NaN     NaN     NaN     NaN   \n",
       "144    NaN    NaN    NaN    6.80   7.200     NaN     NaN     NaN     NaN   \n",
       "145    NaN    NaN    NaN    5.20   7.800     NaN     NaN     NaN     NaN   \n",
       "146    NaN    NaN    NaN    3.40   4.100     NaN     NaN     NaN     NaN   \n",
       "\n",
       "     BOD5_7  \n",
       "0       NaN  \n",
       "1       NaN  \n",
       "2       NaN  \n",
       "3       NaN  \n",
       "4       NaN  \n",
       "..      ...  \n",
       "142     NaN  \n",
       "143     NaN  \n",
       "144     NaN  \n",
       "145     NaN  \n",
       "146     NaN  \n",
       "\n",
       "[147 rows x 37 columns]"
      ]
     },
     "execution_count": 3,
     "metadata": {},
     "output_type": "execute_result"
    }
   ],
   "source": [
    "data"
   ]
  },
  {
   "cell_type": "code",
   "execution_count": 4,
   "id": "5846f139",
   "metadata": {
    "execution": {
     "iopub.execute_input": "2022-07-22T06:13:48.672130Z",
     "iopub.status.busy": "2022-07-22T06:13:48.671743Z",
     "iopub.status.idle": "2022-07-22T06:13:48.682292Z",
     "shell.execute_reply": "2022-07-22T06:13:48.681223Z"
    },
    "papermill": {
     "duration": 0.022734,
     "end_time": "2022-07-22T06:13:48.684757",
     "exception": false,
     "start_time": "2022-07-22T06:13:48.662023",
     "status": "completed"
    },
    "tags": []
   },
   "outputs": [],
   "source": [
    "data.drop('Id', axis=1, inplace=True)"
   ]
  },
  {
   "cell_type": "code",
   "execution_count": 5,
   "id": "7d0faf65",
   "metadata": {
    "execution": {
     "iopub.execute_input": "2022-07-22T06:13:48.703578Z",
     "iopub.status.busy": "2022-07-22T06:13:48.702818Z",
     "iopub.status.idle": "2022-07-22T06:13:48.712376Z",
     "shell.execute_reply": "2022-07-22T06:13:48.711284Z"
    },
    "papermill": {
     "duration": 0.021725,
     "end_time": "2022-07-22T06:13:48.714819",
     "exception": false,
     "start_time": "2022-07-22T06:13:48.693094",
     "status": "completed"
    },
    "tags": []
   },
   "outputs": [
    {
     "data": {
      "text/plain": [
       "target      0\n",
       "O2_1        2\n",
       "O2_2        2\n",
       "O2_3      115\n",
       "O2_4      116\n",
       "O2_5      114\n",
       "O2_6      110\n",
       "O2_7      110\n",
       "NH4_1       2\n",
       "NH4_2       2\n",
       "NH4_3     115\n",
       "NH4_4     116\n",
       "NH4_5     114\n",
       "NH4_6     110\n",
       "NH4_7     110\n",
       "NO2_1       2\n",
       "NO2_2       2\n",
       "NO2_3     115\n",
       "NO2_4     116\n",
       "NO2_5     114\n",
       "NO2_6     110\n",
       "NO2_7     110\n",
       "NO3_1       2\n",
       "NO3_2       2\n",
       "NO3_3     115\n",
       "NO3_4     116\n",
       "NO3_5     114\n",
       "NO3_6     110\n",
       "NO3_7     110\n",
       "BOD5_1      2\n",
       "BOD5_2      2\n",
       "BOD5_3    115\n",
       "BOD5_4    116\n",
       "BOD5_5    114\n",
       "BOD5_6    110\n",
       "BOD5_7    110\n",
       "dtype: int64"
      ]
     },
     "execution_count": 5,
     "metadata": {},
     "output_type": "execute_result"
    }
   ],
   "source": [
    "data.isnull().sum()"
   ]
  },
  {
   "cell_type": "code",
   "execution_count": 6,
   "id": "258d10d0",
   "metadata": {
    "execution": {
     "iopub.execute_input": "2022-07-22T06:13:48.733982Z",
     "iopub.status.busy": "2022-07-22T06:13:48.733202Z",
     "iopub.status.idle": "2022-07-22T06:13:48.739758Z",
     "shell.execute_reply": "2022-07-22T06:13:48.738997Z"
    },
    "papermill": {
     "duration": 0.018693,
     "end_time": "2022-07-22T06:13:48.742028",
     "exception": false,
     "start_time": "2022-07-22T06:13:48.723335",
     "status": "completed"
    },
    "tags": []
   },
   "outputs": [],
   "source": [
    "null_columns = list(data.columns[data.isna().sum() > 100])"
   ]
  },
  {
   "cell_type": "code",
   "execution_count": 7,
   "id": "e2c08d6f",
   "metadata": {
    "execution": {
     "iopub.execute_input": "2022-07-22T06:13:48.760982Z",
     "iopub.status.busy": "2022-07-22T06:13:48.760224Z",
     "iopub.status.idle": "2022-07-22T06:13:48.766327Z",
     "shell.execute_reply": "2022-07-22T06:13:48.765401Z"
    },
    "papermill": {
     "duration": 0.018147,
     "end_time": "2022-07-22T06:13:48.768504",
     "exception": false,
     "start_time": "2022-07-22T06:13:48.750357",
     "status": "completed"
    },
    "tags": []
   },
   "outputs": [],
   "source": [
    "data.drop(null_columns, axis = 1, inplace = True)"
   ]
  },
  {
   "cell_type": "code",
   "execution_count": 8,
   "id": "ae5cd57b",
   "metadata": {
    "execution": {
     "iopub.execute_input": "2022-07-22T06:13:48.787689Z",
     "iopub.status.busy": "2022-07-22T06:13:48.786920Z",
     "iopub.status.idle": "2022-07-22T06:13:48.811650Z",
     "shell.execute_reply": "2022-07-22T06:13:48.810510Z"
    },
    "papermill": {
     "duration": 0.036951,
     "end_time": "2022-07-22T06:13:48.813977",
     "exception": false,
     "start_time": "2022-07-22T06:13:48.777026",
     "status": "completed"
    },
    "tags": []
   },
   "outputs": [
    {
     "data": {
      "text/html": [
       "<div>\n",
       "<style scoped>\n",
       "    .dataframe tbody tr th:only-of-type {\n",
       "        vertical-align: middle;\n",
       "    }\n",
       "\n",
       "    .dataframe tbody tr th {\n",
       "        vertical-align: top;\n",
       "    }\n",
       "\n",
       "    .dataframe thead th {\n",
       "        text-align: right;\n",
       "    }\n",
       "</style>\n",
       "<table border=\"1\" class=\"dataframe\">\n",
       "  <thead>\n",
       "    <tr style=\"text-align: right;\">\n",
       "      <th></th>\n",
       "      <th>target</th>\n",
       "      <th>O2_1</th>\n",
       "      <th>O2_2</th>\n",
       "      <th>NH4_1</th>\n",
       "      <th>NH4_2</th>\n",
       "      <th>NO2_1</th>\n",
       "      <th>NO2_2</th>\n",
       "      <th>NO3_1</th>\n",
       "      <th>NO3_2</th>\n",
       "      <th>BOD5_1</th>\n",
       "      <th>BOD5_2</th>\n",
       "    </tr>\n",
       "  </thead>\n",
       "  <tbody>\n",
       "    <tr>\n",
       "      <th>0</th>\n",
       "      <td>12.58</td>\n",
       "      <td>9.875</td>\n",
       "      <td>9.20</td>\n",
       "      <td>0.690</td>\n",
       "      <td>1.040</td>\n",
       "      <td>0.0940</td>\n",
       "      <td>0.0990</td>\n",
       "      <td>1.58</td>\n",
       "      <td>1.825</td>\n",
       "      <td>4.80</td>\n",
       "      <td>5.850</td>\n",
       "    </tr>\n",
       "    <tr>\n",
       "      <th>1</th>\n",
       "      <td>9.37</td>\n",
       "      <td>10.300</td>\n",
       "      <td>10.75</td>\n",
       "      <td>0.710</td>\n",
       "      <td>0.725</td>\n",
       "      <td>0.0585</td>\n",
       "      <td>0.0515</td>\n",
       "      <td>1.21</td>\n",
       "      <td>0.905</td>\n",
       "      <td>5.88</td>\n",
       "      <td>6.835</td>\n",
       "    </tr>\n",
       "    <tr>\n",
       "      <th>2</th>\n",
       "      <td>8.35</td>\n",
       "      <td>8.290</td>\n",
       "      <td>7.90</td>\n",
       "      <td>2.210</td>\n",
       "      <td>2.210</td>\n",
       "      <td>0.1000</td>\n",
       "      <td>0.1100</td>\n",
       "      <td>1.34</td>\n",
       "      <td>1.250</td>\n",
       "      <td>3.20</td>\n",
       "      <td>2.700</td>\n",
       "    </tr>\n",
       "    <tr>\n",
       "      <th>3</th>\n",
       "      <td>9.57</td>\n",
       "      <td>8.820</td>\n",
       "      <td>6.80</td>\n",
       "      <td>0.595</td>\n",
       "      <td>0.675</td>\n",
       "      <td>0.0460</td>\n",
       "      <td>0.0535</td>\n",
       "      <td>0.59</td>\n",
       "      <td>0.790</td>\n",
       "      <td>7.70</td>\n",
       "      <td>7.055</td>\n",
       "    </tr>\n",
       "    <tr>\n",
       "      <th>4</th>\n",
       "      <td>6.00</td>\n",
       "      <td>6.000</td>\n",
       "      <td>6.50</td>\n",
       "      <td>0.600</td>\n",
       "      <td>0.900</td>\n",
       "      <td>0.1800</td>\n",
       "      <td>0.3400</td>\n",
       "      <td>1.36</td>\n",
       "      <td>1.820</td>\n",
       "      <td>5.50</td>\n",
       "      <td>5.300</td>\n",
       "    </tr>\n",
       "    <tr>\n",
       "      <th>...</th>\n",
       "      <td>...</td>\n",
       "      <td>...</td>\n",
       "      <td>...</td>\n",
       "      <td>...</td>\n",
       "      <td>...</td>\n",
       "      <td>...</td>\n",
       "      <td>...</td>\n",
       "      <td>...</td>\n",
       "      <td>...</td>\n",
       "      <td>...</td>\n",
       "      <td>...</td>\n",
       "    </tr>\n",
       "    <tr>\n",
       "      <th>142</th>\n",
       "      <td>6.80</td>\n",
       "      <td>7.700</td>\n",
       "      <td>7.50</td>\n",
       "      <td>0.380</td>\n",
       "      <td>1.900</td>\n",
       "      <td>0.6200</td>\n",
       "      <td>0.0640</td>\n",
       "      <td>2.80</td>\n",
       "      <td>3.330</td>\n",
       "      <td>5.00</td>\n",
       "      <td>5.800</td>\n",
       "    </tr>\n",
       "    <tr>\n",
       "      <th>143</th>\n",
       "      <td>5.30</td>\n",
       "      <td>6.300</td>\n",
       "      <td>5.65</td>\n",
       "      <td>0.370</td>\n",
       "      <td>0.500</td>\n",
       "      <td>0.6900</td>\n",
       "      <td>0.9500</td>\n",
       "      <td>4.37</td>\n",
       "      <td>3.160</td>\n",
       "      <td>8.00</td>\n",
       "      <td>8.000</td>\n",
       "    </tr>\n",
       "    <tr>\n",
       "      <th>144</th>\n",
       "      <td>8.60</td>\n",
       "      <td>8.600</td>\n",
       "      <td>11.00</td>\n",
       "      <td>2.400</td>\n",
       "      <td>3.600</td>\n",
       "      <td>0.1500</td>\n",
       "      <td>0.1400</td>\n",
       "      <td>0.53</td>\n",
       "      <td>3.000</td>\n",
       "      <td>6.80</td>\n",
       "      <td>7.200</td>\n",
       "    </tr>\n",
       "    <tr>\n",
       "      <th>145</th>\n",
       "      <td>9.90</td>\n",
       "      <td>9.600</td>\n",
       "      <td>14.10</td>\n",
       "      <td>0.310</td>\n",
       "      <td>0.500</td>\n",
       "      <td>0.2100</td>\n",
       "      <td>0.0800</td>\n",
       "      <td>3.10</td>\n",
       "      <td>3.500</td>\n",
       "      <td>5.20</td>\n",
       "      <td>7.800</td>\n",
       "    </tr>\n",
       "    <tr>\n",
       "      <th>146</th>\n",
       "      <td>6.50</td>\n",
       "      <td>6.500</td>\n",
       "      <td>7.70</td>\n",
       "      <td>0.190</td>\n",
       "      <td>0.260</td>\n",
       "      <td>0.1300</td>\n",
       "      <td>0.0720</td>\n",
       "      <td>0.00</td>\n",
       "      <td>0.000</td>\n",
       "      <td>3.40</td>\n",
       "      <td>4.100</td>\n",
       "    </tr>\n",
       "  </tbody>\n",
       "</table>\n",
       "<p>147 rows × 11 columns</p>\n",
       "</div>"
      ],
      "text/plain": [
       "     target    O2_1   O2_2  NH4_1  NH4_2   NO2_1   NO2_2  NO3_1  NO3_2  \\\n",
       "0     12.58   9.875   9.20  0.690  1.040  0.0940  0.0990   1.58  1.825   \n",
       "1      9.37  10.300  10.75  0.710  0.725  0.0585  0.0515   1.21  0.905   \n",
       "2      8.35   8.290   7.90  2.210  2.210  0.1000  0.1100   1.34  1.250   \n",
       "3      9.57   8.820   6.80  0.595  0.675  0.0460  0.0535   0.59  0.790   \n",
       "4      6.00   6.000   6.50  0.600  0.900  0.1800  0.3400   1.36  1.820   \n",
       "..      ...     ...    ...    ...    ...     ...     ...    ...    ...   \n",
       "142    6.80   7.700   7.50  0.380  1.900  0.6200  0.0640   2.80  3.330   \n",
       "143    5.30   6.300   5.65  0.370  0.500  0.6900  0.9500   4.37  3.160   \n",
       "144    8.60   8.600  11.00  2.400  3.600  0.1500  0.1400   0.53  3.000   \n",
       "145    9.90   9.600  14.10  0.310  0.500  0.2100  0.0800   3.10  3.500   \n",
       "146    6.50   6.500   7.70  0.190  0.260  0.1300  0.0720   0.00  0.000   \n",
       "\n",
       "     BOD5_1  BOD5_2  \n",
       "0      4.80   5.850  \n",
       "1      5.88   6.835  \n",
       "2      3.20   2.700  \n",
       "3      7.70   7.055  \n",
       "4      5.50   5.300  \n",
       "..      ...     ...  \n",
       "142    5.00   5.800  \n",
       "143    8.00   8.000  \n",
       "144    6.80   7.200  \n",
       "145    5.20   7.800  \n",
       "146    3.40   4.100  \n",
       "\n",
       "[147 rows x 11 columns]"
      ]
     },
     "execution_count": 8,
     "metadata": {},
     "output_type": "execute_result"
    }
   ],
   "source": [
    "data"
   ]
  },
  {
   "cell_type": "code",
   "execution_count": 9,
   "id": "974d219a",
   "metadata": {
    "execution": {
     "iopub.execute_input": "2022-07-22T06:13:48.833810Z",
     "iopub.status.busy": "2022-07-22T06:13:48.833086Z",
     "iopub.status.idle": "2022-07-22T06:13:48.841571Z",
     "shell.execute_reply": "2022-07-22T06:13:48.840773Z"
    },
    "papermill": {
     "duration": 0.020961,
     "end_time": "2022-07-22T06:13:48.843676",
     "exception": false,
     "start_time": "2022-07-22T06:13:48.822715",
     "status": "completed"
    },
    "tags": []
   },
   "outputs": [
    {
     "data": {
      "text/plain": [
       "target    0\n",
       "O2_1      2\n",
       "O2_2      2\n",
       "NH4_1     2\n",
       "NH4_2     2\n",
       "NO2_1     2\n",
       "NO2_2     2\n",
       "NO3_1     2\n",
       "NO3_2     2\n",
       "BOD5_1    2\n",
       "BOD5_2    2\n",
       "dtype: int64"
      ]
     },
     "execution_count": 9,
     "metadata": {},
     "output_type": "execute_result"
    }
   ],
   "source": [
    "data.isnull().sum()"
   ]
  },
  {
   "cell_type": "code",
   "execution_count": 10,
   "id": "b6b12fa6",
   "metadata": {
    "execution": {
     "iopub.execute_input": "2022-07-22T06:13:48.864310Z",
     "iopub.status.busy": "2022-07-22T06:13:48.863890Z",
     "iopub.status.idle": "2022-07-22T06:13:48.874406Z",
     "shell.execute_reply": "2022-07-22T06:13:48.872370Z"
    },
    "papermill": {
     "duration": 0.02502,
     "end_time": "2022-07-22T06:13:48.878423",
     "exception": false,
     "start_time": "2022-07-22T06:13:48.853403",
     "status": "completed"
    },
    "tags": []
   },
   "outputs": [
    {
     "name": "stdout",
     "output_type": "stream",
     "text": [
      "Columns with missing values: 10\n",
      "Rows with missing values: 3\n"
     ]
    }
   ],
   "source": [
    "print(\"Columns with missing values:\", (data.isna().sum(axis=0) != 0).sum())\n",
    "print(\"Rows with missing values:\", (data.isna().sum(axis=1) != 0).sum())\n",
    "\n"
   ]
  },
  {
   "cell_type": "code",
   "execution_count": 11,
   "id": "678bd843",
   "metadata": {
    "execution": {
     "iopub.execute_input": "2022-07-22T06:13:48.899196Z",
     "iopub.status.busy": "2022-07-22T06:13:48.898438Z",
     "iopub.status.idle": "2022-07-22T06:13:48.905992Z",
     "shell.execute_reply": "2022-07-22T06:13:48.904678Z"
    },
    "papermill": {
     "duration": 0.020479,
     "end_time": "2022-07-22T06:13:48.908485",
     "exception": false,
     "start_time": "2022-07-22T06:13:48.888006",
     "status": "completed"
    },
    "tags": []
   },
   "outputs": [],
   "source": [
    "data.dropna(axis=0, inplace=True)"
   ]
  },
  {
   "cell_type": "code",
   "execution_count": 12,
   "id": "4da44903",
   "metadata": {
    "execution": {
     "iopub.execute_input": "2022-07-22T06:13:48.928805Z",
     "iopub.status.busy": "2022-07-22T06:13:48.928433Z",
     "iopub.status.idle": "2022-07-22T06:13:48.936453Z",
     "shell.execute_reply": "2022-07-22T06:13:48.935372Z"
    },
    "papermill": {
     "duration": 0.020794,
     "end_time": "2022-07-22T06:13:48.938772",
     "exception": false,
     "start_time": "2022-07-22T06:13:48.917978",
     "status": "completed"
    },
    "tags": []
   },
   "outputs": [
    {
     "data": {
      "text/plain": [
       "0"
      ]
     },
     "execution_count": 12,
     "metadata": {},
     "output_type": "execute_result"
    }
   ],
   "source": [
    "data.isnull().sum().sum()"
   ]
  },
  {
   "cell_type": "code",
   "execution_count": 13,
   "id": "03ee6d8b",
   "metadata": {
    "execution": {
     "iopub.execute_input": "2022-07-22T06:13:48.959098Z",
     "iopub.status.busy": "2022-07-22T06:13:48.958727Z",
     "iopub.status.idle": "2022-07-22T06:13:48.985102Z",
     "shell.execute_reply": "2022-07-22T06:13:48.984203Z"
    },
    "papermill": {
     "duration": 0.038645,
     "end_time": "2022-07-22T06:13:48.986999",
     "exception": false,
     "start_time": "2022-07-22T06:13:48.948354",
     "status": "completed"
    },
    "tags": []
   },
   "outputs": [
    {
     "data": {
      "text/html": [
       "<div>\n",
       "<style scoped>\n",
       "    .dataframe tbody tr th:only-of-type {\n",
       "        vertical-align: middle;\n",
       "    }\n",
       "\n",
       "    .dataframe tbody tr th {\n",
       "        vertical-align: top;\n",
       "    }\n",
       "\n",
       "    .dataframe thead th {\n",
       "        text-align: right;\n",
       "    }\n",
       "</style>\n",
       "<table border=\"1\" class=\"dataframe\">\n",
       "  <thead>\n",
       "    <tr style=\"text-align: right;\">\n",
       "      <th></th>\n",
       "      <th>target</th>\n",
       "      <th>O2_1</th>\n",
       "      <th>O2_2</th>\n",
       "      <th>NH4_1</th>\n",
       "      <th>NH4_2</th>\n",
       "      <th>NO2_1</th>\n",
       "      <th>NO2_2</th>\n",
       "      <th>NO3_1</th>\n",
       "      <th>NO3_2</th>\n",
       "      <th>BOD5_1</th>\n",
       "      <th>BOD5_2</th>\n",
       "    </tr>\n",
       "  </thead>\n",
       "  <tbody>\n",
       "    <tr>\n",
       "      <th>0</th>\n",
       "      <td>12.58</td>\n",
       "      <td>9.875</td>\n",
       "      <td>9.20</td>\n",
       "      <td>0.690</td>\n",
       "      <td>1.040</td>\n",
       "      <td>0.0940</td>\n",
       "      <td>0.0990</td>\n",
       "      <td>1.58</td>\n",
       "      <td>1.825</td>\n",
       "      <td>4.80</td>\n",
       "      <td>5.850</td>\n",
       "    </tr>\n",
       "    <tr>\n",
       "      <th>1</th>\n",
       "      <td>9.37</td>\n",
       "      <td>10.300</td>\n",
       "      <td>10.75</td>\n",
       "      <td>0.710</td>\n",
       "      <td>0.725</td>\n",
       "      <td>0.0585</td>\n",
       "      <td>0.0515</td>\n",
       "      <td>1.21</td>\n",
       "      <td>0.905</td>\n",
       "      <td>5.88</td>\n",
       "      <td>6.835</td>\n",
       "    </tr>\n",
       "    <tr>\n",
       "      <th>2</th>\n",
       "      <td>8.35</td>\n",
       "      <td>8.290</td>\n",
       "      <td>7.90</td>\n",
       "      <td>2.210</td>\n",
       "      <td>2.210</td>\n",
       "      <td>0.1000</td>\n",
       "      <td>0.1100</td>\n",
       "      <td>1.34</td>\n",
       "      <td>1.250</td>\n",
       "      <td>3.20</td>\n",
       "      <td>2.700</td>\n",
       "    </tr>\n",
       "    <tr>\n",
       "      <th>3</th>\n",
       "      <td>9.57</td>\n",
       "      <td>8.820</td>\n",
       "      <td>6.80</td>\n",
       "      <td>0.595</td>\n",
       "      <td>0.675</td>\n",
       "      <td>0.0460</td>\n",
       "      <td>0.0535</td>\n",
       "      <td>0.59</td>\n",
       "      <td>0.790</td>\n",
       "      <td>7.70</td>\n",
       "      <td>7.055</td>\n",
       "    </tr>\n",
       "    <tr>\n",
       "      <th>4</th>\n",
       "      <td>6.00</td>\n",
       "      <td>6.000</td>\n",
       "      <td>6.50</td>\n",
       "      <td>0.600</td>\n",
       "      <td>0.900</td>\n",
       "      <td>0.1800</td>\n",
       "      <td>0.3400</td>\n",
       "      <td>1.36</td>\n",
       "      <td>1.820</td>\n",
       "      <td>5.50</td>\n",
       "      <td>5.300</td>\n",
       "    </tr>\n",
       "    <tr>\n",
       "      <th>...</th>\n",
       "      <td>...</td>\n",
       "      <td>...</td>\n",
       "      <td>...</td>\n",
       "      <td>...</td>\n",
       "      <td>...</td>\n",
       "      <td>...</td>\n",
       "      <td>...</td>\n",
       "      <td>...</td>\n",
       "      <td>...</td>\n",
       "      <td>...</td>\n",
       "      <td>...</td>\n",
       "    </tr>\n",
       "    <tr>\n",
       "      <th>142</th>\n",
       "      <td>6.80</td>\n",
       "      <td>7.700</td>\n",
       "      <td>7.50</td>\n",
       "      <td>0.380</td>\n",
       "      <td>1.900</td>\n",
       "      <td>0.6200</td>\n",
       "      <td>0.0640</td>\n",
       "      <td>2.80</td>\n",
       "      <td>3.330</td>\n",
       "      <td>5.00</td>\n",
       "      <td>5.800</td>\n",
       "    </tr>\n",
       "    <tr>\n",
       "      <th>143</th>\n",
       "      <td>5.30</td>\n",
       "      <td>6.300</td>\n",
       "      <td>5.65</td>\n",
       "      <td>0.370</td>\n",
       "      <td>0.500</td>\n",
       "      <td>0.6900</td>\n",
       "      <td>0.9500</td>\n",
       "      <td>4.37</td>\n",
       "      <td>3.160</td>\n",
       "      <td>8.00</td>\n",
       "      <td>8.000</td>\n",
       "    </tr>\n",
       "    <tr>\n",
       "      <th>144</th>\n",
       "      <td>8.60</td>\n",
       "      <td>8.600</td>\n",
       "      <td>11.00</td>\n",
       "      <td>2.400</td>\n",
       "      <td>3.600</td>\n",
       "      <td>0.1500</td>\n",
       "      <td>0.1400</td>\n",
       "      <td>0.53</td>\n",
       "      <td>3.000</td>\n",
       "      <td>6.80</td>\n",
       "      <td>7.200</td>\n",
       "    </tr>\n",
       "    <tr>\n",
       "      <th>145</th>\n",
       "      <td>9.90</td>\n",
       "      <td>9.600</td>\n",
       "      <td>14.10</td>\n",
       "      <td>0.310</td>\n",
       "      <td>0.500</td>\n",
       "      <td>0.2100</td>\n",
       "      <td>0.0800</td>\n",
       "      <td>3.10</td>\n",
       "      <td>3.500</td>\n",
       "      <td>5.20</td>\n",
       "      <td>7.800</td>\n",
       "    </tr>\n",
       "    <tr>\n",
       "      <th>146</th>\n",
       "      <td>6.50</td>\n",
       "      <td>6.500</td>\n",
       "      <td>7.70</td>\n",
       "      <td>0.190</td>\n",
       "      <td>0.260</td>\n",
       "      <td>0.1300</td>\n",
       "      <td>0.0720</td>\n",
       "      <td>0.00</td>\n",
       "      <td>0.000</td>\n",
       "      <td>3.40</td>\n",
       "      <td>4.100</td>\n",
       "    </tr>\n",
       "  </tbody>\n",
       "</table>\n",
       "<p>144 rows × 11 columns</p>\n",
       "</div>"
      ],
      "text/plain": [
       "     target    O2_1   O2_2  NH4_1  NH4_2   NO2_1   NO2_2  NO3_1  NO3_2  \\\n",
       "0     12.58   9.875   9.20  0.690  1.040  0.0940  0.0990   1.58  1.825   \n",
       "1      9.37  10.300  10.75  0.710  0.725  0.0585  0.0515   1.21  0.905   \n",
       "2      8.35   8.290   7.90  2.210  2.210  0.1000  0.1100   1.34  1.250   \n",
       "3      9.57   8.820   6.80  0.595  0.675  0.0460  0.0535   0.59  0.790   \n",
       "4      6.00   6.000   6.50  0.600  0.900  0.1800  0.3400   1.36  1.820   \n",
       "..      ...     ...    ...    ...    ...     ...     ...    ...    ...   \n",
       "142    6.80   7.700   7.50  0.380  1.900  0.6200  0.0640   2.80  3.330   \n",
       "143    5.30   6.300   5.65  0.370  0.500  0.6900  0.9500   4.37  3.160   \n",
       "144    8.60   8.600  11.00  2.400  3.600  0.1500  0.1400   0.53  3.000   \n",
       "145    9.90   9.600  14.10  0.310  0.500  0.2100  0.0800   3.10  3.500   \n",
       "146    6.50   6.500   7.70  0.190  0.260  0.1300  0.0720   0.00  0.000   \n",
       "\n",
       "     BOD5_1  BOD5_2  \n",
       "0      4.80   5.850  \n",
       "1      5.88   6.835  \n",
       "2      3.20   2.700  \n",
       "3      7.70   7.055  \n",
       "4      5.50   5.300  \n",
       "..      ...     ...  \n",
       "142    5.00   5.800  \n",
       "143    8.00   8.000  \n",
       "144    6.80   7.200  \n",
       "145    5.20   7.800  \n",
       "146    3.40   4.100  \n",
       "\n",
       "[144 rows x 11 columns]"
      ]
     },
     "execution_count": 13,
     "metadata": {},
     "output_type": "execute_result"
    }
   ],
   "source": [
    "data"
   ]
  },
  {
   "cell_type": "code",
   "execution_count": 14,
   "id": "4d9c86e5",
   "metadata": {
    "execution": {
     "iopub.execute_input": "2022-07-22T06:13:49.007753Z",
     "iopub.status.busy": "2022-07-22T06:13:49.007086Z",
     "iopub.status.idle": "2022-07-22T06:13:49.014470Z",
     "shell.execute_reply": "2022-07-22T06:13:49.013412Z"
    },
    "papermill": {
     "duration": 0.020601,
     "end_time": "2022-07-22T06:13:49.016941",
     "exception": false,
     "start_time": "2022-07-22T06:13:48.996340",
     "status": "completed"
    },
    "tags": []
   },
   "outputs": [],
   "source": [
    "y = data['target']\n",
    "X = data.drop('target', axis=1)"
   ]
  },
  {
   "cell_type": "code",
   "execution_count": 15,
   "id": "133c382d",
   "metadata": {
    "execution": {
     "iopub.execute_input": "2022-07-22T06:13:49.038473Z",
     "iopub.status.busy": "2022-07-22T06:13:49.037635Z",
     "iopub.status.idle": "2022-07-22T06:13:49.045411Z",
     "shell.execute_reply": "2022-07-22T06:13:49.044599Z"
    },
    "papermill": {
     "duration": 0.020886,
     "end_time": "2022-07-22T06:13:49.047769",
     "exception": false,
     "start_time": "2022-07-22T06:13:49.026883",
     "status": "completed"
    },
    "tags": []
   },
   "outputs": [],
   "source": [
    "scaler = StandardScaler()\n",
    "X = scaler.fit_transform(X)"
   ]
  },
  {
   "cell_type": "code",
   "execution_count": 16,
   "id": "5c7073f9",
   "metadata": {
    "execution": {
     "iopub.execute_input": "2022-07-22T06:13:49.069612Z",
     "iopub.status.busy": "2022-07-22T06:13:49.068847Z",
     "iopub.status.idle": "2022-07-22T06:13:49.074289Z",
     "shell.execute_reply": "2022-07-22T06:13:49.073299Z"
    },
    "papermill": {
     "duration": 0.019433,
     "end_time": "2022-07-22T06:13:49.076536",
     "exception": false,
     "start_time": "2022-07-22T06:13:49.057103",
     "status": "completed"
    },
    "tags": []
   },
   "outputs": [],
   "source": [
    "X_train, X_test, y_train, y_test = train_test_split(X, y, train_size = 0.7)"
   ]
  },
  {
   "cell_type": "code",
   "execution_count": 17,
   "id": "71949f07",
   "metadata": {
    "execution": {
     "iopub.execute_input": "2022-07-22T06:13:49.097486Z",
     "iopub.status.busy": "2022-07-22T06:13:49.096797Z",
     "iopub.status.idle": "2022-07-22T06:13:49.121800Z",
     "shell.execute_reply": "2022-07-22T06:13:49.120637Z"
    },
    "papermill": {
     "duration": 0.03817,
     "end_time": "2022-07-22T06:13:49.124186",
     "exception": false,
     "start_time": "2022-07-22T06:13:49.086016",
     "status": "completed"
    },
    "tags": []
   },
   "outputs": [
    {
     "data": {
      "text/plain": [
       "LinearRegression()"
      ]
     },
     "execution_count": 17,
     "metadata": {},
     "output_type": "execute_result"
    }
   ],
   "source": [
    "model = LinearRegression()\n",
    "model.fit(X_train,y_train)"
   ]
  },
  {
   "cell_type": "code",
   "execution_count": 18,
   "id": "a5aa47f4",
   "metadata": {
    "execution": {
     "iopub.execute_input": "2022-07-22T06:13:49.145747Z",
     "iopub.status.busy": "2022-07-22T06:13:49.144753Z",
     "iopub.status.idle": "2022-07-22T06:13:49.151425Z",
     "shell.execute_reply": "2022-07-22T06:13:49.150629Z"
    },
    "papermill": {
     "duration": 0.020078,
     "end_time": "2022-07-22T06:13:49.153715",
     "exception": false,
     "start_time": "2022-07-22T06:13:49.133637",
     "status": "completed"
    },
    "tags": []
   },
   "outputs": [],
   "source": [
    "model_R2 =  model.score(X_test, y_test)"
   ]
  },
  {
   "cell_type": "code",
   "execution_count": 19,
   "id": "3283423f",
   "metadata": {
    "execution": {
     "iopub.execute_input": "2022-07-22T06:13:49.174656Z",
     "iopub.status.busy": "2022-07-22T06:13:49.174227Z",
     "iopub.status.idle": "2022-07-22T06:13:49.178812Z",
     "shell.execute_reply": "2022-07-22T06:13:49.178002Z"
    },
    "papermill": {
     "duration": 0.018412,
     "end_time": "2022-07-22T06:13:49.181746",
     "exception": false,
     "start_time": "2022-07-22T06:13:49.163334",
     "status": "completed"
    },
    "tags": []
   },
   "outputs": [
    {
     "name": "stdout",
     "output_type": "stream",
     "text": [
      "0.4824668850407072\n"
     ]
    }
   ],
   "source": [
    "print(model_R2)"
   ]
  },
  {
   "cell_type": "markdown",
   "id": "cd26f50f",
   "metadata": {
    "papermill": {
     "duration": 0.009121,
     "end_time": "2022-07-22T06:13:49.200301",
     "exception": false,
     "start_time": "2022-07-22T06:13:49.191180",
     "status": "completed"
    },
    "tags": []
   },
   "source": [
    "**NEW PROBLEM: predicting high or low dissolved oxygen**"
   ]
  },
  {
   "cell_type": "code",
   "execution_count": 20,
   "id": "31881f76",
   "metadata": {
    "execution": {
     "iopub.execute_input": "2022-07-22T06:13:49.221245Z",
     "iopub.status.busy": "2022-07-22T06:13:49.220512Z",
     "iopub.status.idle": "2022-07-22T06:13:49.228311Z",
     "shell.execute_reply": "2022-07-22T06:13:49.227232Z"
    },
    "papermill": {
     "duration": 0.020655,
     "end_time": "2022-07-22T06:13:49.230405",
     "exception": false,
     "start_time": "2022-07-22T06:13:49.209750",
     "status": "completed"
    },
    "tags": []
   },
   "outputs": [
    {
     "data": {
      "text/plain": [
       "0      12.58\n",
       "1       9.37\n",
       "2       8.35\n",
       "3       9.57\n",
       "4       6.00\n",
       "       ...  \n",
       "142     6.80\n",
       "143     5.30\n",
       "144     8.60\n",
       "145     9.90\n",
       "146     6.50\n",
       "Name: target, Length: 144, dtype: float64"
      ]
     },
     "execution_count": 20,
     "metadata": {},
     "output_type": "execute_result"
    }
   ],
   "source": [
    "y"
   ]
  },
  {
   "cell_type": "code",
   "execution_count": 21,
   "id": "accdc5b0",
   "metadata": {
    "execution": {
     "iopub.execute_input": "2022-07-22T06:13:49.251779Z",
     "iopub.status.busy": "2022-07-22T06:13:49.251390Z",
     "iopub.status.idle": "2022-07-22T06:13:49.257642Z",
     "shell.execute_reply": "2022-07-22T06:13:49.256844Z"
    },
    "papermill": {
     "duration": 0.019753,
     "end_time": "2022-07-22T06:13:49.259640",
     "exception": false,
     "start_time": "2022-07-22T06:13:49.239887",
     "status": "completed"
    },
    "tags": []
   },
   "outputs": [
    {
     "data": {
      "text/plain": [
       "9.145763888888888"
      ]
     },
     "execution_count": 21,
     "metadata": {},
     "output_type": "execute_result"
    }
   ],
   "source": [
    "y.mean()"
   ]
  },
  {
   "cell_type": "code",
   "execution_count": 22,
   "id": "ba75f330",
   "metadata": {
    "execution": {
     "iopub.execute_input": "2022-07-22T06:13:49.281639Z",
     "iopub.status.busy": "2022-07-22T06:13:49.281056Z",
     "iopub.status.idle": "2022-07-22T06:13:49.290611Z",
     "shell.execute_reply": "2022-07-22T06:13:49.289425Z"
    },
    "papermill": {
     "duration": 0.023468,
     "end_time": "2022-07-22T06:13:49.293040",
     "exception": false,
     "start_time": "2022-07-22T06:13:49.269572",
     "status": "completed"
    },
    "tags": []
   },
   "outputs": [],
   "source": [
    "y_new = pd.qcut(y, q=2, labels=[1,0])"
   ]
  },
  {
   "cell_type": "code",
   "execution_count": 23,
   "id": "f1e007bf",
   "metadata": {
    "execution": {
     "iopub.execute_input": "2022-07-22T06:13:49.314346Z",
     "iopub.status.busy": "2022-07-22T06:13:49.313940Z",
     "iopub.status.idle": "2022-07-22T06:13:49.323176Z",
     "shell.execute_reply": "2022-07-22T06:13:49.322298Z"
    },
    "papermill": {
     "duration": 0.022368,
     "end_time": "2022-07-22T06:13:49.325154",
     "exception": false,
     "start_time": "2022-07-22T06:13:49.302786",
     "status": "completed"
    },
    "tags": []
   },
   "outputs": [
    {
     "data": {
      "text/plain": [
       "0      0\n",
       "1      0\n",
       "2      1\n",
       "3      0\n",
       "4      1\n",
       "      ..\n",
       "142    1\n",
       "143    1\n",
       "144    1\n",
       "145    0\n",
       "146    1\n",
       "Name: target, Length: 144, dtype: category\n",
       "Categories (2, int64): [1 < 0]"
      ]
     },
     "execution_count": 23,
     "metadata": {},
     "output_type": "execute_result"
    }
   ],
   "source": [
    "y_new"
   ]
  },
  {
   "cell_type": "code",
   "execution_count": 24,
   "id": "3587b8f0",
   "metadata": {
    "execution": {
     "iopub.execute_input": "2022-07-22T06:13:49.347084Z",
     "iopub.status.busy": "2022-07-22T06:13:49.346630Z",
     "iopub.status.idle": "2022-07-22T06:13:49.352929Z",
     "shell.execute_reply": "2022-07-22T06:13:49.351728Z"
    },
    "papermill": {
     "duration": 0.02023,
     "end_time": "2022-07-22T06:13:49.355323",
     "exception": false,
     "start_time": "2022-07-22T06:13:49.335093",
     "status": "completed"
    },
    "tags": []
   },
   "outputs": [],
   "source": [
    "X_train, X_test, y_train, y_test = train_test_split(X, y_new, train_size = 0.7)"
   ]
  },
  {
   "cell_type": "code",
   "execution_count": 25,
   "id": "928c153e",
   "metadata": {
    "execution": {
     "iopub.execute_input": "2022-07-22T06:13:49.377878Z",
     "iopub.status.busy": "2022-07-22T06:13:49.377246Z",
     "iopub.status.idle": "2022-07-22T06:13:49.390754Z",
     "shell.execute_reply": "2022-07-22T06:13:49.389789Z"
    },
    "papermill": {
     "duration": 0.027459,
     "end_time": "2022-07-22T06:13:49.393073",
     "exception": false,
     "start_time": "2022-07-22T06:13:49.365614",
     "status": "completed"
    },
    "tags": []
   },
   "outputs": [],
   "source": [
    "model = LogisticRegression()\n",
    "model.fit(X_train, y_train)\n",
    "model_acc = model.score(X_test, y_test)"
   ]
  },
  {
   "cell_type": "code",
   "execution_count": 26,
   "id": "82b51d35",
   "metadata": {
    "execution": {
     "iopub.execute_input": "2022-07-22T06:13:49.414574Z",
     "iopub.status.busy": "2022-07-22T06:13:49.414203Z",
     "iopub.status.idle": "2022-07-22T06:13:49.419989Z",
     "shell.execute_reply": "2022-07-22T06:13:49.418686Z"
    },
    "papermill": {
     "duration": 0.019307,
     "end_time": "2022-07-22T06:13:49.422310",
     "exception": false,
     "start_time": "2022-07-22T06:13:49.403003",
     "status": "completed"
    },
    "tags": []
   },
   "outputs": [
    {
     "name": "stdout",
     "output_type": "stream",
     "text": [
      "0.7954545454545454\n"
     ]
    }
   ],
   "source": [
    "print(model_acc)"
   ]
  },
  {
   "cell_type": "code",
   "execution_count": null,
   "id": "4292d5ca",
   "metadata": {
    "papermill": {
     "duration": 0.009886,
     "end_time": "2022-07-22T06:13:49.441982",
     "exception": false,
     "start_time": "2022-07-22T06:13:49.432096",
     "status": "completed"
    },
    "tags": []
   },
   "outputs": [],
   "source": []
  }
 ],
 "metadata": {
  "kernelspec": {
   "display_name": "Python 3",
   "language": "python",
   "name": "python3"
  },
  "language_info": {
   "codemirror_mode": {
    "name": "ipython",
    "version": 3
   },
   "file_extension": ".py",
   "mimetype": "text/x-python",
   "name": "python",
   "nbconvert_exporter": "python",
   "pygments_lexer": "ipython3",
   "version": "3.7.12"
  },
  "papermill": {
   "default_parameters": {},
   "duration": 12.767392,
   "end_time": "2022-07-22T06:13:50.173101",
   "environment_variables": {},
   "exception": null,
   "input_path": "__notebook__.ipynb",
   "output_path": "__notebook__.ipynb",
   "parameters": {},
   "start_time": "2022-07-22T06:13:37.405709",
   "version": "2.3.4"
  }
 },
 "nbformat": 4,
 "nbformat_minor": 5
}
