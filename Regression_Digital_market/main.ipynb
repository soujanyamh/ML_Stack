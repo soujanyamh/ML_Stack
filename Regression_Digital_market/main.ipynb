{
 "cells": [
  {
   "cell_type": "code",
   "execution_count": 1,
   "id": "878da3ab",
   "metadata": {
    "_cell_guid": "b1076dfc-b9ad-4769-8c92-a6c4dae69d19",
    "_uuid": "8f2839f25d086af736a60e9eeb907d3b93b6e0e5",
    "execution": {
     "iopub.execute_input": "2023-04-11T14:52:14.631465Z",
     "iopub.status.busy": "2023-04-11T14:52:14.631006Z",
     "iopub.status.idle": "2023-04-11T14:52:16.091290Z",
     "shell.execute_reply": "2023-04-11T14:52:16.089692Z"
    },
    "papermill": {
     "duration": 1.479609,
     "end_time": "2023-04-11T14:52:16.093909",
     "exception": false,
     "start_time": "2023-04-11T14:52:14.614300",
     "status": "completed"
    },
    "tags": []
   },
   "outputs": [
    {
     "name": "stdout",
     "output_type": "stream",
     "text": [
      "/kaggle/input/bitcoin-and-stock-exchanges/Dataset.csv\n"
     ]
    }
   ],
   "source": [
    "# This Python 3 environment comes with many helpful analytics libraries installed\n",
    "# It is defined by the kaggle/python Docker image: https://github.com/kaggle/docker-python\n",
    "# For example, here's several helpful packages to load\n",
    "\n",
    "import numpy as np # linear algebra\n",
    "import pandas as pd # data processing, CSV file I/O (e.g. pd.read_csv)\n",
    "import matplotlib.pyplot as plt\n",
    "import seaborn as sns\n",
    "\n",
    "import xgboost as xgb\n",
    "from sklearn.metrics import mean_squared_error\n",
    "# Input data files are available in the read-only \"../input/\" directory\n",
    "# For example, running this (by clicking run or pressing Shift+Enter) will list all files under the input directory\n",
    "\n",
    "import os\n",
    "for dirname, _, filenames in os.walk('/kaggle/input'):\n",
    "    for filename in filenames:\n",
    "        print(os.path.join(dirname, filename))\n",
    "\n",
    "# You can write up to 20GB to the current directory (/kaggle/working/) that gets preserved as output when you create a version using \"Save & Run All\" \n",
    "# You can also write temporary files to /kaggle/temp/, but they won't be saved outside of the current session"
   ]
  },
  {
   "cell_type": "code",
   "execution_count": 2,
   "id": "4bd15846",
   "metadata": {
    "execution": {
     "iopub.execute_input": "2023-04-11T14:52:16.124847Z",
     "iopub.status.busy": "2023-04-11T14:52:16.124182Z",
     "iopub.status.idle": "2023-04-11T14:52:16.143613Z",
     "shell.execute_reply": "2023-04-11T14:52:16.142473Z"
    },
    "papermill": {
     "duration": 0.037378,
     "end_time": "2023-04-11T14:52:16.146197",
     "exception": false,
     "start_time": "2023-04-11T14:52:16.108819",
     "status": "completed"
    },
    "tags": []
   },
   "outputs": [],
   "source": [
    "df = pd.read_csv('/kaggle/input/bitcoin-and-stock-exchanges/Dataset.csv')"
   ]
  },
  {
   "cell_type": "markdown",
   "id": "bcc2408d",
   "metadata": {
    "papermill": {
     "duration": 0.014556,
     "end_time": "2023-04-11T14:52:16.175835",
     "exception": false,
     "start_time": "2023-04-11T14:52:16.161279",
     "status": "completed"
    },
    "tags": []
   },
   "source": [
    "# Exploring Data"
   ]
  },
  {
   "cell_type": "code",
   "execution_count": 3,
   "id": "11f34e6e",
   "metadata": {
    "execution": {
     "iopub.execute_input": "2023-04-11T14:52:16.206146Z",
     "iopub.status.busy": "2023-04-11T14:52:16.205672Z",
     "iopub.status.idle": "2023-04-11T14:52:16.238901Z",
     "shell.execute_reply": "2023-04-11T14:52:16.237746Z"
    },
    "papermill": {
     "duration": 0.050989,
     "end_time": "2023-04-11T14:52:16.241734",
     "exception": false,
     "start_time": "2023-04-11T14:52:16.190745",
     "status": "completed"
    },
    "tags": []
   },
   "outputs": [
    {
     "data": {
      "text/html": [
       "<div>\n",
       "<style scoped>\n",
       "    .dataframe tbody tr th:only-of-type {\n",
       "        vertical-align: middle;\n",
       "    }\n",
       "\n",
       "    .dataframe tbody tr th {\n",
       "        vertical-align: top;\n",
       "    }\n",
       "\n",
       "    .dataframe thead th {\n",
       "        text-align: right;\n",
       "    }\n",
       "</style>\n",
       "<table border=\"1\" class=\"dataframe\">\n",
       "  <thead>\n",
       "    <tr style=\"text-align: right;\">\n",
       "      <th></th>\n",
       "      <th>Date</th>\n",
       "      <th>BTC</th>\n",
       "      <th>NYSE</th>\n",
       "      <th>NASDAQ</th>\n",
       "      <th>LSE</th>\n",
       "      <th>BTC_Volume</th>\n",
       "      <th>NYSE_Volume</th>\n",
       "      <th>NASDAQ_Volume</th>\n",
       "      <th>LSE_Volume</th>\n",
       "    </tr>\n",
       "  </thead>\n",
       "  <tbody>\n",
       "    <tr>\n",
       "      <th>0</th>\n",
       "      <td>1/2/2018</td>\n",
       "      <td>14982.09961</td>\n",
       "      <td>12902.71973</td>\n",
       "      <td>7006.899902</td>\n",
       "      <td>3742.0</td>\n",
       "      <td>1.684660e+10</td>\n",
       "      <td>3397430000</td>\n",
       "      <td>1929700000</td>\n",
       "      <td>497857</td>\n",
       "    </tr>\n",
       "    <tr>\n",
       "      <th>1</th>\n",
       "      <td>1/3/2018</td>\n",
       "      <td>15201.00000</td>\n",
       "      <td>12957.28027</td>\n",
       "      <td>7065.529785</td>\n",
       "      <td>3749.0</td>\n",
       "      <td>1.687190e+10</td>\n",
       "      <td>3544030000</td>\n",
       "      <td>2173130000</td>\n",
       "      <td>1009997</td>\n",
       "    </tr>\n",
       "    <tr>\n",
       "      <th>2</th>\n",
       "      <td>1/4/2018</td>\n",
       "      <td>15599.20020</td>\n",
       "      <td>13028.45996</td>\n",
       "      <td>7077.910156</td>\n",
       "      <td>3749.0</td>\n",
       "      <td>2.178320e+10</td>\n",
       "      <td>3697340000</td>\n",
       "      <td>2103220000</td>\n",
       "      <td>669448</td>\n",
       "    </tr>\n",
       "    <tr>\n",
       "      <th>3</th>\n",
       "      <td>1/5/2018</td>\n",
       "      <td>17429.50000</td>\n",
       "      <td>13103.23047</td>\n",
       "      <td>7136.560059</td>\n",
       "      <td>3758.0</td>\n",
       "      <td>2.384090e+10</td>\n",
       "      <td>3239280000</td>\n",
       "      <td>2024000000</td>\n",
       "      <td>2225274</td>\n",
       "    </tr>\n",
       "    <tr>\n",
       "      <th>4</th>\n",
       "      <td>1/8/2018</td>\n",
       "      <td>15170.09961</td>\n",
       "      <td>13114.34961</td>\n",
       "      <td>7157.390137</td>\n",
       "      <td>3744.0</td>\n",
       "      <td>1.841390e+10</td>\n",
       "      <td>3246160000</td>\n",
       "      <td>2055010000</td>\n",
       "      <td>930995</td>\n",
       "    </tr>\n",
       "  </tbody>\n",
       "</table>\n",
       "</div>"
      ],
      "text/plain": [
       "       Date          BTC         NYSE       NASDAQ     LSE    BTC_Volume  \\\n",
       "0  1/2/2018  14982.09961  12902.71973  7006.899902  3742.0  1.684660e+10   \n",
       "1  1/3/2018  15201.00000  12957.28027  7065.529785  3749.0  1.687190e+10   \n",
       "2  1/4/2018  15599.20020  13028.45996  7077.910156  3749.0  2.178320e+10   \n",
       "3  1/5/2018  17429.50000  13103.23047  7136.560059  3758.0  2.384090e+10   \n",
       "4  1/8/2018  15170.09961  13114.34961  7157.390137  3744.0  1.841390e+10   \n",
       "\n",
       "   NYSE_Volume  NASDAQ_Volume  LSE_Volume  \n",
       "0   3397430000     1929700000      497857  \n",
       "1   3544030000     2173130000     1009997  \n",
       "2   3697340000     2103220000      669448  \n",
       "3   3239280000     2024000000     2225274  \n",
       "4   3246160000     2055010000      930995  "
      ]
     },
     "execution_count": 3,
     "metadata": {},
     "output_type": "execute_result"
    }
   ],
   "source": [
    "df.head()"
   ]
  },
  {
   "cell_type": "code",
   "execution_count": 4,
   "id": "298cf36c",
   "metadata": {
    "execution": {
     "iopub.execute_input": "2023-04-11T14:52:16.271588Z",
     "iopub.status.busy": "2023-04-11T14:52:16.271136Z",
     "iopub.status.idle": "2023-04-11T14:52:16.287220Z",
     "shell.execute_reply": "2023-04-11T14:52:16.286027Z"
    },
    "papermill": {
     "duration": 0.034301,
     "end_time": "2023-04-11T14:52:16.290100",
     "exception": false,
     "start_time": "2023-04-11T14:52:16.255799",
     "status": "completed"
    },
    "tags": []
   },
   "outputs": [
    {
     "data": {
      "text/html": [
       "<div>\n",
       "<style scoped>\n",
       "    .dataframe tbody tr th:only-of-type {\n",
       "        vertical-align: middle;\n",
       "    }\n",
       "\n",
       "    .dataframe tbody tr th {\n",
       "        vertical-align: top;\n",
       "    }\n",
       "\n",
       "    .dataframe thead th {\n",
       "        text-align: right;\n",
       "    }\n",
       "</style>\n",
       "<table border=\"1\" class=\"dataframe\">\n",
       "  <thead>\n",
       "    <tr style=\"text-align: right;\">\n",
       "      <th></th>\n",
       "      <th>Date</th>\n",
       "      <th>BTC</th>\n",
       "      <th>NYSE</th>\n",
       "      <th>NASDAQ</th>\n",
       "      <th>LSE</th>\n",
       "      <th>BTC_Volume</th>\n",
       "      <th>NYSE_Volume</th>\n",
       "      <th>NASDAQ_Volume</th>\n",
       "      <th>LSE_Volume</th>\n",
       "    </tr>\n",
       "  </thead>\n",
       "  <tbody>\n",
       "    <tr>\n",
       "      <th>1254</th>\n",
       "      <td>12/23/2022</td>\n",
       "      <td>16796.95313</td>\n",
       "      <td>15188.45020</td>\n",
       "      <td>10497.86035</td>\n",
       "      <td>7130.0</td>\n",
       "      <td>1.532927e+10</td>\n",
       "      <td>2819280000</td>\n",
       "      <td>3544680000</td>\n",
       "      <td>141614</td>\n",
       "    </tr>\n",
       "    <tr>\n",
       "      <th>1255</th>\n",
       "      <td>12/27/2022</td>\n",
       "      <td>16717.17383</td>\n",
       "      <td>15218.25977</td>\n",
       "      <td>10353.23047</td>\n",
       "      <td>7130.0</td>\n",
       "      <td>1.574858e+10</td>\n",
       "      <td>3030300000</td>\n",
       "      <td>3827290000</td>\n",
       "      <td>141614</td>\n",
       "    </tr>\n",
       "    <tr>\n",
       "      <th>1256</th>\n",
       "      <td>12/28/2022</td>\n",
       "      <td>16552.57227</td>\n",
       "      <td>15037.32031</td>\n",
       "      <td>10213.29004</td>\n",
       "      <td>7128.0</td>\n",
       "      <td>1.700571e+10</td>\n",
       "      <td>3083520000</td>\n",
       "      <td>3842970000</td>\n",
       "      <td>490323</td>\n",
       "    </tr>\n",
       "    <tr>\n",
       "      <th>1257</th>\n",
       "      <td>12/29/2022</td>\n",
       "      <td>16642.34180</td>\n",
       "      <td>15241.20996</td>\n",
       "      <td>10478.08984</td>\n",
       "      <td>7212.0</td>\n",
       "      <td>1.447224e+10</td>\n",
       "      <td>3003680000</td>\n",
       "      <td>4154100000</td>\n",
       "      <td>457006</td>\n",
       "    </tr>\n",
       "    <tr>\n",
       "      <th>1258</th>\n",
       "      <td>12/30/2022</td>\n",
       "      <td>16602.58594</td>\n",
       "      <td>15184.30957</td>\n",
       "      <td>10466.48047</td>\n",
       "      <td>7136.0</td>\n",
       "      <td>1.592916e+10</td>\n",
       "      <td>2979870000</td>\n",
       "      <td>3959030000</td>\n",
       "      <td>226505</td>\n",
       "    </tr>\n",
       "  </tbody>\n",
       "</table>\n",
       "</div>"
      ],
      "text/plain": [
       "            Date          BTC         NYSE       NASDAQ     LSE    BTC_Volume  \\\n",
       "1254  12/23/2022  16796.95313  15188.45020  10497.86035  7130.0  1.532927e+10   \n",
       "1255  12/27/2022  16717.17383  15218.25977  10353.23047  7130.0  1.574858e+10   \n",
       "1256  12/28/2022  16552.57227  15037.32031  10213.29004  7128.0  1.700571e+10   \n",
       "1257  12/29/2022  16642.34180  15241.20996  10478.08984  7212.0  1.447224e+10   \n",
       "1258  12/30/2022  16602.58594  15184.30957  10466.48047  7136.0  1.592916e+10   \n",
       "\n",
       "      NYSE_Volume  NASDAQ_Volume  LSE_Volume  \n",
       "1254   2819280000     3544680000      141614  \n",
       "1255   3030300000     3827290000      141614  \n",
       "1256   3083520000     3842970000      490323  \n",
       "1257   3003680000     4154100000      457006  \n",
       "1258   2979870000     3959030000      226505  "
      ]
     },
     "execution_count": 4,
     "metadata": {},
     "output_type": "execute_result"
    }
   ],
   "source": [
    "df.tail()"
   ]
  },
  {
   "cell_type": "code",
   "execution_count": 5,
   "id": "20df7f76",
   "metadata": {
    "execution": {
     "iopub.execute_input": "2023-04-11T14:52:16.321407Z",
     "iopub.status.busy": "2023-04-11T14:52:16.320709Z",
     "iopub.status.idle": "2023-04-11T14:52:16.342872Z",
     "shell.execute_reply": "2023-04-11T14:52:16.341376Z"
    },
    "papermill": {
     "duration": 0.040886,
     "end_time": "2023-04-11T14:52:16.345219",
     "exception": false,
     "start_time": "2023-04-11T14:52:16.304333",
     "status": "completed"
    },
    "tags": []
   },
   "outputs": [
    {
     "name": "stdout",
     "output_type": "stream",
     "text": [
      "<class 'pandas.core.frame.DataFrame'>\n",
      "RangeIndex: 1259 entries, 0 to 1258\n",
      "Data columns (total 9 columns):\n",
      " #   Column         Non-Null Count  Dtype  \n",
      "---  ------         --------------  -----  \n",
      " 0   Date           1259 non-null   object \n",
      " 1   BTC            1259 non-null   float64\n",
      " 2   NYSE           1259 non-null   float64\n",
      " 3   NASDAQ         1259 non-null   float64\n",
      " 4   LSE            1259 non-null   float64\n",
      " 5   BTC_Volume     1259 non-null   float64\n",
      " 6   NYSE_Volume    1259 non-null   int64  \n",
      " 7   NASDAQ_Volume  1259 non-null   int64  \n",
      " 8   LSE_Volume     1259 non-null   int64  \n",
      "dtypes: float64(5), int64(3), object(1)\n",
      "memory usage: 88.6+ KB\n"
     ]
    }
   ],
   "source": [
    "df.info()"
   ]
  },
  {
   "cell_type": "code",
   "execution_count": 6,
   "id": "7cfec9a7",
   "metadata": {
    "execution": {
     "iopub.execute_input": "2023-04-11T14:52:16.376034Z",
     "iopub.status.busy": "2023-04-11T14:52:16.375097Z",
     "iopub.status.idle": "2023-04-11T14:52:16.416874Z",
     "shell.execute_reply": "2023-04-11T14:52:16.415677Z"
    },
    "papermill": {
     "duration": 0.060232,
     "end_time": "2023-04-11T14:52:16.419638",
     "exception": false,
     "start_time": "2023-04-11T14:52:16.359406",
     "status": "completed"
    },
    "tags": []
   },
   "outputs": [
    {
     "data": {
      "text/html": [
       "<div>\n",
       "<style scoped>\n",
       "    .dataframe tbody tr th:only-of-type {\n",
       "        vertical-align: middle;\n",
       "    }\n",
       "\n",
       "    .dataframe tbody tr th {\n",
       "        vertical-align: top;\n",
       "    }\n",
       "\n",
       "    .dataframe thead th {\n",
       "        text-align: right;\n",
       "    }\n",
       "</style>\n",
       "<table border=\"1\" class=\"dataframe\">\n",
       "  <thead>\n",
       "    <tr style=\"text-align: right;\">\n",
       "      <th></th>\n",
       "      <th>BTC</th>\n",
       "      <th>NYSE</th>\n",
       "      <th>NASDAQ</th>\n",
       "      <th>LSE</th>\n",
       "      <th>BTC_Volume</th>\n",
       "      <th>NYSE_Volume</th>\n",
       "      <th>NASDAQ_Volume</th>\n",
       "      <th>LSE_Volume</th>\n",
       "    </tr>\n",
       "  </thead>\n",
       "  <tbody>\n",
       "    <tr>\n",
       "      <th>count</th>\n",
       "      <td>1259.000000</td>\n",
       "      <td>1259.000000</td>\n",
       "      <td>1259.000000</td>\n",
       "      <td>1259.000000</td>\n",
       "      <td>1.259000e+03</td>\n",
       "      <td>1.259000e+03</td>\n",
       "      <td>1.259000e+03</td>\n",
       "      <td>1.259000e+03</td>\n",
       "    </tr>\n",
       "    <tr>\n",
       "      <th>mean</th>\n",
       "      <td>20364.167265</td>\n",
       "      <td>13970.639288</td>\n",
       "      <td>10434.897972</td>\n",
       "      <td>6744.801312</td>\n",
       "      <td>2.816945e+10</td>\n",
       "      <td>4.230836e+09</td>\n",
       "      <td>3.700598e+09</td>\n",
       "      <td>8.657402e+05</td>\n",
       "    </tr>\n",
       "    <tr>\n",
       "      <th>std</th>\n",
       "      <td>17006.251216</td>\n",
       "      <td>1767.351726</td>\n",
       "      <td>2797.163873</td>\n",
       "      <td>1637.805989</td>\n",
       "      <td>2.112494e+10</td>\n",
       "      <td>1.081698e+09</td>\n",
       "      <td>1.540865e+09</td>\n",
       "      <td>6.673056e+05</td>\n",
       "    </tr>\n",
       "    <tr>\n",
       "      <th>min</th>\n",
       "      <td>3242.484863</td>\n",
       "      <td>8777.379883</td>\n",
       "      <td>6192.919922</td>\n",
       "      <td>3649.000000</td>\n",
       "      <td>3.230550e+09</td>\n",
       "      <td>1.296530e+09</td>\n",
       "      <td>9.589500e+08</td>\n",
       "      <td>1.402000e+04</td>\n",
       "    </tr>\n",
       "    <tr>\n",
       "      <th>25%</th>\n",
       "      <td>7774.829589</td>\n",
       "      <td>12676.600100</td>\n",
       "      <td>7838.044922</td>\n",
       "      <td>4806.000000</td>\n",
       "      <td>1.381063e+10</td>\n",
       "      <td>3.523815e+09</td>\n",
       "      <td>2.242010e+09</td>\n",
       "      <td>5.001880e+05</td>\n",
       "    </tr>\n",
       "    <tr>\n",
       "      <th>50%</th>\n",
       "      <td>10944.585940</td>\n",
       "      <td>13300.269530</td>\n",
       "      <td>10207.629880</td>\n",
       "      <td>7254.000000</td>\n",
       "      <td>2.604323e+10</td>\n",
       "      <td>3.995250e+09</td>\n",
       "      <td>3.830200e+09</td>\n",
       "      <td>7.052710e+05</td>\n",
       "    </tr>\n",
       "    <tr>\n",
       "      <th>75%</th>\n",
       "      <td>33576.833985</td>\n",
       "      <td>15540.665040</td>\n",
       "      <td>13034.054690</td>\n",
       "      <td>7970.000000</td>\n",
       "      <td>3.767768e+10</td>\n",
       "      <td>4.683670e+09</td>\n",
       "      <td>4.699590e+09</td>\n",
       "      <td>1.027788e+06</td>\n",
       "    </tr>\n",
       "    <tr>\n",
       "      <th>max</th>\n",
       "      <td>67566.828130</td>\n",
       "      <td>17353.759770</td>\n",
       "      <td>16057.440430</td>\n",
       "      <td>9910.000000</td>\n",
       "      <td>3.509680e+11</td>\n",
       "      <td>9.976520e+09</td>\n",
       "      <td>1.162119e+10</td>\n",
       "      <td>1.117657e+07</td>\n",
       "    </tr>\n",
       "  </tbody>\n",
       "</table>\n",
       "</div>"
      ],
      "text/plain": [
       "                BTC          NYSE        NASDAQ          LSE    BTC_Volume  \\\n",
       "count   1259.000000   1259.000000   1259.000000  1259.000000  1.259000e+03   \n",
       "mean   20364.167265  13970.639288  10434.897972  6744.801312  2.816945e+10   \n",
       "std    17006.251216   1767.351726   2797.163873  1637.805989  2.112494e+10   \n",
       "min     3242.484863   8777.379883   6192.919922  3649.000000  3.230550e+09   \n",
       "25%     7774.829589  12676.600100   7838.044922  4806.000000  1.381063e+10   \n",
       "50%    10944.585940  13300.269530  10207.629880  7254.000000  2.604323e+10   \n",
       "75%    33576.833985  15540.665040  13034.054690  7970.000000  3.767768e+10   \n",
       "max    67566.828130  17353.759770  16057.440430  9910.000000  3.509680e+11   \n",
       "\n",
       "        NYSE_Volume  NASDAQ_Volume    LSE_Volume  \n",
       "count  1.259000e+03   1.259000e+03  1.259000e+03  \n",
       "mean   4.230836e+09   3.700598e+09  8.657402e+05  \n",
       "std    1.081698e+09   1.540865e+09  6.673056e+05  \n",
       "min    1.296530e+09   9.589500e+08  1.402000e+04  \n",
       "25%    3.523815e+09   2.242010e+09  5.001880e+05  \n",
       "50%    3.995250e+09   3.830200e+09  7.052710e+05  \n",
       "75%    4.683670e+09   4.699590e+09  1.027788e+06  \n",
       "max    9.976520e+09   1.162119e+10  1.117657e+07  "
      ]
     },
     "execution_count": 6,
     "metadata": {},
     "output_type": "execute_result"
    }
   ],
   "source": [
    "df.describe()"
   ]
  },
  {
   "cell_type": "code",
   "execution_count": 7,
   "id": "b06b8dba",
   "metadata": {
    "execution": {
     "iopub.execute_input": "2023-04-11T14:52:16.451604Z",
     "iopub.status.busy": "2023-04-11T14:52:16.450772Z",
     "iopub.status.idle": "2023-04-11T14:52:16.540612Z",
     "shell.execute_reply": "2023-04-11T14:52:16.539560Z"
    },
    "papermill": {
     "duration": 0.108809,
     "end_time": "2023-04-11T14:52:16.543214",
     "exception": false,
     "start_time": "2023-04-11T14:52:16.434405",
     "status": "completed"
    },
    "tags": []
   },
   "outputs": [],
   "source": [
    "df = df.set_index('Date')\n",
    "df.index = pd.to_datetime(df.index)"
   ]
  },
  {
   "cell_type": "markdown",
   "id": "b212a1de",
   "metadata": {
    "papermill": {
     "duration": 0.015151,
     "end_time": "2023-04-11T14:52:16.572762",
     "exception": false,
     "start_time": "2023-04-11T14:52:16.557611",
     "status": "completed"
    },
    "tags": []
   },
   "source": [
    "# EDA"
   ]
  },
  {
   "cell_type": "code",
   "execution_count": 8,
   "id": "0925cc03",
   "metadata": {
    "execution": {
     "iopub.execute_input": "2023-04-11T14:52:16.603811Z",
     "iopub.status.busy": "2023-04-11T14:52:16.603147Z",
     "iopub.status.idle": "2023-04-11T14:52:16.611004Z",
     "shell.execute_reply": "2023-04-11T14:52:16.609990Z"
    },
    "papermill": {
     "duration": 0.026016,
     "end_time": "2023-04-11T14:52:16.613289",
     "exception": false,
     "start_time": "2023-04-11T14:52:16.587273",
     "status": "completed"
    },
    "tags": []
   },
   "outputs": [
    {
     "data": {
      "text/plain": [
       "17006.251216089884"
      ]
     },
     "execution_count": 8,
     "metadata": {},
     "output_type": "execute_result"
    }
   ],
   "source": [
    "df['BTC'].std()"
   ]
  },
  {
   "cell_type": "code",
   "execution_count": 9,
   "id": "bb6789a8",
   "metadata": {
    "execution": {
     "iopub.execute_input": "2023-04-11T14:52:16.644796Z",
     "iopub.status.busy": "2023-04-11T14:52:16.644105Z",
     "iopub.status.idle": "2023-04-11T14:52:17.028546Z",
     "shell.execute_reply": "2023-04-11T14:52:17.027243Z"
    },
    "papermill": {
     "duration": 0.403756,
     "end_time": "2023-04-11T14:52:17.031458",
     "exception": false,
     "start_time": "2023-04-11T14:52:16.627702",
     "status": "completed"
    },
    "tags": []
   },
   "outputs": [
    {
     "data": {
      "image/png": "[encoded data removed]",
      "text/plain": [
       "<Figure size 1500x500 with 1 Axes>"
      ]
     },
     "metadata": {},
     "output_type": "display_data"
    }
   ],
   "source": [
    "df['BTC'].plot(style='.',\n",
    "        figsize=(15, 5), \n",
    "        title='BTC Price Over The Time')\n",
    "plt.show()"
   ]
  },
  {
   "cell_type": "code",
   "execution_count": 10,
   "id": "694016d6",
   "metadata": {
    "execution": {
     "iopub.execute_input": "2023-04-11T14:52:17.064795Z",
     "iopub.status.busy": "2023-04-11T14:52:17.064004Z",
     "iopub.status.idle": "2023-04-11T14:52:17.346448Z",
     "shell.execute_reply": "2023-04-11T14:52:17.345106Z"
    },
    "papermill": {
     "duration": 0.302371,
     "end_time": "2023-04-11T14:52:17.349172",
     "exception": false,
     "start_time": "2023-04-11T14:52:17.046801",
     "status": "completed"
    },
    "tags": []
   },
   "outputs": [
    {
     "data": {
      "image/png": "[encoded data removed]",
      "text/plain": [
       "<Figure size 1500x500 with 1 Axes>"
      ]
     },
     "metadata": {},
     "output_type": "display_data"
    }
   ],
   "source": [
    "df['NYSE'].plot(style='.',\n",
    "        figsize=(15, 5), \n",
    "        title='NYSE Price Over The Time')\n",
    "plt.show()"
   ]
  },
  {
   "cell_type": "code",
   "execution_count": 11,
   "id": "5ad3923f",
   "metadata": {
    "execution": {
     "iopub.execute_input": "2023-04-11T14:52:17.384099Z",
     "iopub.status.busy": "2023-04-11T14:52:17.383335Z",
     "iopub.status.idle": "2023-04-11T14:52:17.672417Z",
     "shell.execute_reply": "2023-04-11T14:52:17.671113Z"
    },
    "papermill": {
     "duration": 0.309801,
     "end_time": "2023-04-11T14:52:17.675493",
     "exception": false,
     "start_time": "2023-04-11T14:52:17.365692",
     "status": "completed"
    },
    "tags": []
   },
   "outputs": [
    {
     "data": {
      "image/png": "[encoded data removed]",
      "text/plain": [
       "<Figure size 1500x500 with 1 Axes>"
      ]
     },
     "metadata": {},
     "output_type": "display_data"
    }
   ],
   "source": [
    "df['NASDAQ'].plot(style='.',\n",
    "        figsize=(15, 5), \n",
    "        title='NASDAQ Price Over The Time')\n",
    "plt.show()"
   ]
  },
  {
   "cell_type": "code",
   "execution_count": 12,
   "id": "36968bb5",
   "metadata": {
    "execution": {
     "iopub.execute_input": "2023-04-11T14:52:17.713543Z",
     "iopub.status.busy": "2023-04-11T14:52:17.712269Z",
     "iopub.status.idle": "2023-04-11T14:52:18.890258Z",
     "shell.execute_reply": "2023-04-11T14:52:18.888773Z"
    },
    "papermill": {
     "duration": 1.200384,
     "end_time": "2023-04-11T14:52:18.893310",
     "exception": false,
     "start_time": "2023-04-11T14:52:17.692926",
     "status": "completed"
    },
    "tags": []
   },
   "outputs": [
    {
     "data": {
      "text/plain": [
       "<AxesSubplot:ylabel='Frequency'>"
      ]
     },
     "execution_count": 12,
     "metadata": {},
     "output_type": "execute_result"
    },
    {
     "data": {
      "image/png": "[encoded data removed]",
      "text/plain": [
       "<Figure size 640x480 with 1 Axes>"
      ]
     },
     "metadata": {},
     "output_type": "display_data"
    }
   ],
   "source": [
    "df['BTC'].plot(kind='hist', bins=500)"
   ]
  },
  {
   "cell_type": "markdown",
   "id": "660b8959",
   "metadata": {
    "papermill": {
     "duration": 0.017165,
     "end_time": "2023-04-11T14:52:18.928490",
     "exception": false,
     "start_time": "2023-04-11T14:52:18.911325",
     "status": "completed"
    },
    "tags": []
   },
   "source": [
    "#### The distribution of the BTC price seems not like Normal Distribution"
   ]
  },
  {
   "cell_type": "code",
   "execution_count": 13,
   "id": "7e17f6e0",
   "metadata": {
    "execution": {
     "iopub.execute_input": "2023-04-11T14:52:18.966159Z",
     "iopub.status.busy": "2023-04-11T14:52:18.965360Z",
     "iopub.status.idle": "2023-04-11T14:52:18.971376Z",
     "shell.execute_reply": "2023-04-11T14:52:18.970185Z"
    },
    "papermill": {
     "duration": 0.027046,
     "end_time": "2023-04-11T14:52:18.973562",
     "exception": false,
     "start_time": "2023-04-11T14:52:18.946516",
     "status": "completed"
    },
    "tags": []
   },
   "outputs": [],
   "source": [
    "df['BTC'] = np.log1p(df['BTC'])"
   ]
  },
  {
   "cell_type": "code",
   "execution_count": 14,
   "id": "59ecff39",
   "metadata": {
    "execution": {
     "iopub.execute_input": "2023-04-11T14:52:19.010351Z",
     "iopub.status.busy": "2023-04-11T14:52:19.009572Z",
     "iopub.status.idle": "2023-04-11T14:52:20.117131Z",
     "shell.execute_reply": "2023-04-11T14:52:20.115983Z"
    },
    "papermill": {
     "duration": 1.129031,
     "end_time": "2023-04-11T14:52:20.119914",
     "exception": false,
     "start_time": "2023-04-11T14:52:18.990883",
     "status": "completed"
    },
    "tags": []
   },
   "outputs": [
    {
     "data": {
      "text/plain": [
       "<AxesSubplot:ylabel='Frequency'>"
      ]
     },
     "execution_count": 14,
     "metadata": {},
     "output_type": "execute_result"
    },
    {
     "data": {
      "image/png": "[encoded data removed]",
      "text/plain": [
       "<Figure size 640x480 with 1 Axes>"
      ]
     },
     "metadata": {},
     "output_type": "display_data"
    }
   ],
   "source": [
    "df['BTC'].plot(kind='hist', bins=500)"
   ]
  },
  {
   "cell_type": "code",
   "execution_count": 15,
   "id": "b1a3aaec",
   "metadata": {
    "execution": {
     "iopub.execute_input": "2023-04-11T14:52:20.159027Z",
     "iopub.status.busy": "2023-04-11T14:52:20.158621Z",
     "iopub.status.idle": "2023-04-11T14:52:21.277859Z",
     "shell.execute_reply": "2023-04-11T14:52:21.276564Z"
    },
    "papermill": {
     "duration": 1.142477,
     "end_time": "2023-04-11T14:52:21.280685",
     "exception": false,
     "start_time": "2023-04-11T14:52:20.138208",
     "status": "completed"
    },
    "tags": []
   },
   "outputs": [
    {
     "data": {
      "text/plain": [
       "<AxesSubplot:ylabel='Frequency'>"
      ]
     },
     "execution_count": 15,
     "metadata": {},
     "output_type": "execute_result"
    },
    {
     "data": {
      "image/png": "[encoded data removed]",
      "text/plain": [
       "<Figure size 640x480 with 1 Axes>"
      ]
     },
     "metadata": {},
     "output_type": "display_data"
    }
   ],
   "source": [
    "df['NASDAQ'].plot(kind='hist', bins=500)"
   ]
  },
  {
   "cell_type": "code",
   "execution_count": 16,
   "id": "8b8979ae",
   "metadata": {
    "execution": {
     "iopub.execute_input": "2023-04-11T14:52:21.320263Z",
     "iopub.status.busy": "2023-04-11T14:52:21.319372Z",
     "iopub.status.idle": "2023-04-11T14:52:22.560274Z",
     "shell.execute_reply": "2023-04-11T14:52:22.558863Z"
    },
    "papermill": {
     "duration": 1.263699,
     "end_time": "2023-04-11T14:52:22.563112",
     "exception": false,
     "start_time": "2023-04-11T14:52:21.299413",
     "status": "completed"
    },
    "tags": []
   },
   "outputs": [
    {
     "data": {
      "text/plain": [
       "<AxesSubplot:ylabel='Frequency'>"
      ]
     },
     "execution_count": 16,
     "metadata": {},
     "output_type": "execute_result"
    },
    {
     "data": {
      "image/png": "[encoded data removed]",
      "text/plain": [
       "<Figure size 640x480 with 1 Axes>"
      ]
     },
     "metadata": {},
     "output_type": "display_data"
    }
   ],
   "source": [
    "df['NYSE'].plot(kind='hist', bins=500)"
   ]
  },
  {
   "cell_type": "code",
   "execution_count": 17,
   "id": "db9f9381",
   "metadata": {
    "execution": {
     "iopub.execute_input": "2023-04-11T14:52:22.602457Z",
     "iopub.status.busy": "2023-04-11T14:52:22.601999Z",
     "iopub.status.idle": "2023-04-11T14:52:22.625211Z",
     "shell.execute_reply": "2023-04-11T14:52:22.624121Z"
    },
    "papermill": {
     "duration": 0.046129,
     "end_time": "2023-04-11T14:52:22.627950",
     "exception": false,
     "start_time": "2023-04-11T14:52:22.581821",
     "status": "completed"
    },
    "tags": []
   },
   "outputs": [],
   "source": [
    "target_map = df['BTC'].to_dict()\n",
    "df['BTC+1'] = (df.index + pd.Timedelta('1 days')).map(target_map)\n",
    "df['BTC+1'] = df['BTC+1'].fillna(method = 'ffill')"
   ]
  },
  {
   "cell_type": "markdown",
   "id": "b9b46337",
   "metadata": {
    "papermill": {
     "duration": 0.018097,
     "end_time": "2023-04-11T14:52:22.664833",
     "exception": false,
     "start_time": "2023-04-11T14:52:22.646736",
     "status": "completed"
    },
    "tags": []
   },
   "source": [
    "# Train/Test split"
   ]
  },
  {
   "cell_type": "code",
   "execution_count": 18,
   "id": "f42a2870",
   "metadata": {
    "execution": {
     "iopub.execute_input": "2023-04-11T14:52:22.704127Z",
     "iopub.status.busy": "2023-04-11T14:52:22.703455Z",
     "iopub.status.idle": "2023-04-11T14:52:22.709158Z",
     "shell.execute_reply": "2023-04-11T14:52:22.708307Z"
    },
    "papermill": {
     "duration": 0.028215,
     "end_time": "2023-04-11T14:52:22.711434",
     "exception": false,
     "start_time": "2023-04-11T14:52:22.683219",
     "status": "completed"
    },
    "tags": []
   },
   "outputs": [],
   "source": [
    "size = int(len(df) * 0.8)\n",
    "df_train = df.iloc[:size]\n",
    "df_test = df.iloc[size:]"
   ]
  },
  {
   "cell_type": "code",
   "execution_count": 19,
   "id": "72c5b54c",
   "metadata": {
    "execution": {
     "iopub.execute_input": "2023-04-11T14:52:22.750599Z",
     "iopub.status.busy": "2023-04-11T14:52:22.749879Z",
     "iopub.status.idle": "2023-04-11T14:52:23.119075Z",
     "shell.execute_reply": "2023-04-11T14:52:23.118088Z"
    },
    "papermill": {
     "duration": 0.391715,
     "end_time": "2023-04-11T14:52:23.121495",
     "exception": false,
     "start_time": "2023-04-11T14:52:22.729780",
     "status": "completed"
    },
    "tags": []
   },
   "outputs": [
    {
     "data": {
      "image/png": "[encoded data removed]",
      "text/plain": [
       "<Figure size 1500x500 with 1 Axes>"
      ]
     },
     "metadata": {},
     "output_type": "display_data"
    }
   ],
   "source": [
    "fig, ax = plt.subplots(figsize=(15, 5))\n",
    "df_train['BTC'].plot(ax=ax, label='Training Set', title='Data Train/Test Split')\n",
    "df_test['BTC'].plot(ax=ax, label='Test Set')\n",
    "ax.axvline('2021-12-31', color='black', ls='--')\n",
    "ax.legend(['Training Set', 'Test Set'])\n",
    "plt.show()"
   ]
  },
  {
   "cell_type": "markdown",
   "id": "24656682",
   "metadata": {
    "papermill": {
     "duration": 0.025661,
     "end_time": "2023-04-11T14:52:23.167054",
     "exception": false,
     "start_time": "2023-04-11T14:52:23.141393",
     "status": "completed"
    },
    "tags": []
   },
   "source": [
    "# Creating Features"
   ]
  },
  {
   "cell_type": "code",
   "execution_count": 20,
   "id": "77303e4c",
   "metadata": {
    "execution": {
     "iopub.execute_input": "2023-04-11T14:52:23.210547Z",
     "iopub.status.busy": "2023-04-11T14:52:23.209435Z",
     "iopub.status.idle": "2023-04-11T14:52:23.223340Z",
     "shell.execute_reply": "2023-04-11T14:52:23.222281Z"
    },
    "papermill": {
     "duration": 0.038059,
     "end_time": "2023-04-11T14:52:23.225915",
     "exception": false,
     "start_time": "2023-04-11T14:52:23.187856",
     "status": "completed"
    },
    "tags": []
   },
   "outputs": [],
   "source": [
    "def create_features(df):\n",
    "    \"\"\"\n",
    "    Create time series features based on time series index.\n",
    "    \"\"\"\n",
    "    df = df.copy()\n",
    "    df['hour'] = df.index.hour\n",
    "    df['dayofweek'] = df.index.dayofweek\n",
    "    df['quarter'] = df.index.quarter\n",
    "    df['month'] = df.index.month\n",
    "    df['year'] = df.index.year\n",
    "    df['dayofyear'] = df.index.dayofyear\n",
    "    df['dayofmonth'] = df.index.day\n",
    "    return df\n",
    "\n",
    "df = create_features(df)"
   ]
  },
  {
   "cell_type": "code",
   "execution_count": 21,
   "id": "8db5c307",
   "metadata": {
    "execution": {
     "iopub.execute_input": "2023-04-11T14:52:23.268899Z",
     "iopub.status.busy": "2023-04-11T14:52:23.268256Z",
     "iopub.status.idle": "2023-04-11T14:52:23.274632Z",
     "shell.execute_reply": "2023-04-11T14:52:23.273467Z"
    },
    "papermill": {
     "duration": 0.031463,
     "end_time": "2023-04-11T14:52:23.277378",
     "exception": false,
     "start_time": "2023-04-11T14:52:23.245915",
     "status": "completed"
    },
    "tags": []
   },
   "outputs": [],
   "source": [
    "def add_lags(df):\n",
    "    target_map = df['BTC'].to_dict()\n",
    "    df['btc_lag1'] = (df.index - pd.Timedelta('1 days')).map(target_map)\n",
    "    df['btc_lag2'] = (df.index - pd.Timedelta('2 days')).map(target_map)\n",
    "    df['btc_lag3'] = (df.index - pd.Timedelta('3 days')).map(target_map)\n",
    "    return df"
   ]
  },
  {
   "cell_type": "code",
   "execution_count": 22,
   "id": "54987195",
   "metadata": {
    "execution": {
     "iopub.execute_input": "2023-04-11T14:52:23.319788Z",
     "iopub.status.busy": "2023-04-11T14:52:23.318797Z",
     "iopub.status.idle": "2023-04-11T14:52:23.326947Z",
     "shell.execute_reply": "2023-04-11T14:52:23.326091Z"
    },
    "papermill": {
     "duration": 0.032217,
     "end_time": "2023-04-11T14:52:23.329341",
     "exception": false,
     "start_time": "2023-04-11T14:52:23.297124",
     "status": "completed"
    },
    "tags": []
   },
   "outputs": [],
   "source": [
    "df_train = df_train.drop(['NYSE', 'NASDAQ', 'LSE', 'BTC_Volume', 'NYSE_Volume', 'NASDAQ_Volume', 'LSE_Volume'], axis = 1)\n",
    "df_test = df_test.drop(['NYSE', 'NASDAQ', 'LSE', 'BTC_Volume', 'NYSE_Volume', 'NASDAQ_Volume', 'LSE_Volume'], axis = 1)"
   ]
  },
  {
   "cell_type": "code",
   "execution_count": 23,
   "id": "b1d0cf79",
   "metadata": {
    "execution": {
     "iopub.execute_input": "2023-04-11T14:52:23.371162Z",
     "iopub.status.busy": "2023-04-11T14:52:23.370682Z",
     "iopub.status.idle": "2023-04-11T14:52:23.427619Z",
     "shell.execute_reply": "2023-04-11T14:52:23.426580Z"
    },
    "papermill": {
     "duration": 0.081061,
     "end_time": "2023-04-11T14:52:23.430350",
     "exception": false,
     "start_time": "2023-04-11T14:52:23.349289",
     "status": "completed"
    },
    "tags": []
   },
   "outputs": [],
   "source": [
    "x_train = create_features(df_train)\n",
    "x_train = add_lags(x_train)\n",
    "x_test = create_features(df_test)\n",
    "x_test = add_lags(x_test)"
   ]
  },
  {
   "cell_type": "code",
   "execution_count": 24,
   "id": "d28bacf7",
   "metadata": {
    "execution": {
     "iopub.execute_input": "2023-04-11T14:52:23.473167Z",
     "iopub.status.busy": "2023-04-11T14:52:23.472381Z",
     "iopub.status.idle": "2023-04-11T14:52:23.481747Z",
     "shell.execute_reply": "2023-04-11T14:52:23.480711Z"
    },
    "papermill": {
     "duration": 0.033946,
     "end_time": "2023-04-11T14:52:23.484227",
     "exception": false,
     "start_time": "2023-04-11T14:52:23.450281",
     "status": "completed"
    },
    "tags": []
   },
   "outputs": [],
   "source": [
    "y_train = x_train['BTC+1']\n",
    "y_test = x_test['BTC+1']\n",
    "x_train = x_train.drop(['BTC', 'BTC+1'], axis =1)\n",
    "x_test = x_test.drop(['BTC','BTC+1'], axis = 1)"
   ]
  },
  {
   "cell_type": "markdown",
   "id": "845ded78",
   "metadata": {
    "papermill": {
     "duration": 0.019168,
     "end_time": "2023-04-11T14:52:23.523583",
     "exception": false,
     "start_time": "2023-04-11T14:52:23.504415",
     "status": "completed"
    },
    "tags": []
   },
   "source": [
    "# Model Training"
   ]
  },
  {
   "cell_type": "code",
   "execution_count": 25,
   "id": "fa9b6dfa",
   "metadata": {
    "execution": {
     "iopub.execute_input": "2023-04-11T14:52:23.564920Z",
     "iopub.status.busy": "2023-04-11T14:52:23.564513Z",
     "iopub.status.idle": "2023-04-11T14:52:25.764632Z",
     "shell.execute_reply": "2023-04-11T14:52:25.763648Z"
    },
    "papermill": {
     "duration": 2.223631,
     "end_time": "2023-04-11T14:52:25.767112",
     "exception": false,
     "start_time": "2023-04-11T14:52:23.543481",
     "status": "completed"
    },
    "tags": []
   },
   "outputs": [
    {
     "name": "stdout",
     "output_type": "stream",
     "text": [
      "[14:52:23] WARNING: ../src/objective/regression_obj.cu:203: reg:linear is now deprecated in favor of reg:squarederror.\n",
      "[0]\tvalidation_0-rmse:8.88229\tvalidation_1-rmse:9.58714\n",
      "[100]\tvalidation_0-rmse:3.27015\tvalidation_1-rmse:3.18231\n",
      "[200]\tvalidation_0-rmse:1.21249\tvalidation_1-rmse:0.91301\n",
      "[300]\tvalidation_0-rmse:0.46054\tvalidation_1-rmse:0.37979\n",
      "[354]\tvalidation_0-rmse:0.28403\tvalidation_1-rmse:0.41789\n"
     ]
    },
    {
     "data": {
      "text/plain": [
       "XGBRegressor(base_score=0.5, booster='gbtree', callbacks=None,\n",
       "             colsample_bylevel=1, colsample_bynode=1, colsample_bytree=1,\n",
       "             early_stopping_rounds=50, enable_categorical=False,\n",
       "             eval_metric=None, gamma=0, gpu_id=-1, grow_policy='depthwise',\n",
       "             importance_type=None, interaction_constraints='',\n",
       "             learning_rate=0.01, max_bin=256, max_cat_to_onehot=4,\n",
       "             max_delta_step=0, max_depth=3, max_leaves=0, min_child_weight=1,\n",
       "             missing=nan, monotone_constraints='()', n_estimators=1000,\n",
       "             n_jobs=0, num_parallel_tree=1, objective='reg:linear',\n",
       "             predictor='auto', random_state=0, reg_alpha=0, ...)"
      ]
     },
     "execution_count": 25,
     "metadata": {},
     "output_type": "execute_result"
    }
   ],
   "source": [
    "reg = xgb.XGBRegressor(base_score=0.5, booster='gbtree',    \n",
    "                           n_estimators=1000,\n",
    "                           early_stopping_rounds=50,\n",
    "                           objective='reg:linear',\n",
    "                           max_depth=3,learning_rate=0.01)\n",
    "reg.fit(x_train, y_train,\n",
    "        eval_set=[(x_train, y_train), (x_test, y_test)],\n",
    "        verbose=100)"
   ]
  },
  {
   "cell_type": "code",
   "execution_count": 26,
   "id": "2f237ee0",
   "metadata": {
    "execution": {
     "iopub.execute_input": "2023-04-11T14:52:25.811327Z",
     "iopub.status.busy": "2023-04-11T14:52:25.810182Z",
     "iopub.status.idle": "2023-04-11T14:52:25.830669Z",
     "shell.execute_reply": "2023-04-11T14:52:25.829263Z"
    },
    "papermill": {
     "duration": 0.045387,
     "end_time": "2023-04-11T14:52:25.833313",
     "exception": false,
     "start_time": "2023-04-11T14:52:25.787926",
     "status": "completed"
    },
    "tags": []
   },
   "outputs": [
    {
     "data": {
      "text/plain": [
       "10820.804804926971"
      ]
     },
     "execution_count": 26,
     "metadata": {},
     "output_type": "execute_result"
    }
   ],
   "source": [
    "y_pred = reg.predict(x_test)\n",
    "y_pred = np.expm1(y_pred)\n",
    "y_test = np.expm1(y_test)\n",
    "score = np.sqrt(mean_squared_error(y_test, y_pred))\n",
    "score"
   ]
  },
  {
   "cell_type": "code",
   "execution_count": 27,
   "id": "1723d4b1",
   "metadata": {
    "execution": {
     "iopub.execute_input": "2023-04-11T14:52:25.878515Z",
     "iopub.status.busy": "2023-04-11T14:52:25.878134Z",
     "iopub.status.idle": "2023-04-11T14:52:25.899388Z",
     "shell.execute_reply": "2023-04-11T14:52:25.898063Z"
    },
    "papermill": {
     "duration": 0.045618,
     "end_time": "2023-04-11T14:52:25.902037",
     "exception": false,
     "start_time": "2023-04-11T14:52:25.856419",
     "status": "completed"
    },
    "tags": []
   },
   "outputs": [
    {
     "data": {
      "text/html": [
       "<div>\n",
       "<style scoped>\n",
       "    .dataframe tbody tr th:only-of-type {\n",
       "        vertical-align: middle;\n",
       "    }\n",
       "\n",
       "    .dataframe tbody tr th {\n",
       "        vertical-align: top;\n",
       "    }\n",
       "\n",
       "    .dataframe thead th {\n",
       "        text-align: right;\n",
       "    }\n",
       "</style>\n",
       "<table border=\"1\" class=\"dataframe\">\n",
       "  <thead>\n",
       "    <tr style=\"text-align: right;\">\n",
       "      <th></th>\n",
       "      <th>0</th>\n",
       "      <th>1</th>\n",
       "    </tr>\n",
       "  </thead>\n",
       "  <tbody>\n",
       "    <tr>\n",
       "      <th>0</th>\n",
       "      <td>25910.253906</td>\n",
       "      <td>46306.44531</td>\n",
       "    </tr>\n",
       "    <tr>\n",
       "      <th>1</th>\n",
       "      <td>26929.544922</td>\n",
       "      <td>45897.57422</td>\n",
       "    </tr>\n",
       "    <tr>\n",
       "      <th>2</th>\n",
       "      <td>28545.068359</td>\n",
       "      <td>43569.00391</td>\n",
       "    </tr>\n",
       "    <tr>\n",
       "      <th>3</th>\n",
       "      <td>28545.068359</td>\n",
       "      <td>43160.92969</td>\n",
       "    </tr>\n",
       "    <tr>\n",
       "      <th>4</th>\n",
       "      <td>27257.988281</td>\n",
       "      <td>41557.90234</td>\n",
       "    </tr>\n",
       "    <tr>\n",
       "      <th>...</th>\n",
       "      <td>...</td>\n",
       "      <td>...</td>\n",
       "    </tr>\n",
       "    <tr>\n",
       "      <th>247</th>\n",
       "      <td>30663.943359</td>\n",
       "      <td>16796.95313</td>\n",
       "    </tr>\n",
       "    <tr>\n",
       "      <th>248</th>\n",
       "      <td>25910.253906</td>\n",
       "      <td>16552.57227</td>\n",
       "    </tr>\n",
       "    <tr>\n",
       "      <th>249</th>\n",
       "      <td>30663.943359</td>\n",
       "      <td>16642.34180</td>\n",
       "    </tr>\n",
       "    <tr>\n",
       "      <th>250</th>\n",
       "      <td>30663.943359</td>\n",
       "      <td>16602.58594</td>\n",
       "    </tr>\n",
       "    <tr>\n",
       "      <th>251</th>\n",
       "      <td>30663.943359</td>\n",
       "      <td>16602.58594</td>\n",
       "    </tr>\n",
       "  </tbody>\n",
       "</table>\n",
       "<p>252 rows × 2 columns</p>\n",
       "</div>"
      ],
      "text/plain": [
       "                0            1\n",
       "0    25910.253906  46306.44531\n",
       "1    26929.544922  45897.57422\n",
       "2    28545.068359  43569.00391\n",
       "3    28545.068359  43160.92969\n",
       "4    27257.988281  41557.90234\n",
       "..            ...          ...\n",
       "247  30663.943359  16796.95313\n",
       "248  25910.253906  16552.57227\n",
       "249  30663.943359  16642.34180\n",
       "250  30663.943359  16602.58594\n",
       "251  30663.943359  16602.58594\n",
       "\n",
       "[252 rows x 2 columns]"
      ]
     },
     "execution_count": 27,
     "metadata": {},
     "output_type": "execute_result"
    }
   ],
   "source": [
    "pred_vs_actual = pd.DataFrame(data = [y_pred, y_test]).T\n",
    "pred_vs_actual"
   ]
  },
  {
   "cell_type": "markdown",
   "id": "182963b2",
   "metadata": {
    "papermill": {
     "duration": 0.020199,
     "end_time": "2023-04-11T14:52:25.942802",
     "exception": false,
     "start_time": "2023-04-11T14:52:25.922603",
     "status": "completed"
    },
    "tags": []
   },
   "source": [
    "# Adding Technical Indicators"
   ]
  },
  {
   "cell_type": "code",
   "execution_count": 28,
   "id": "46da93e0",
   "metadata": {
    "execution": {
     "iopub.execute_input": "2023-04-11T14:52:25.985629Z",
     "iopub.status.busy": "2023-04-11T14:52:25.985188Z",
     "iopub.status.idle": "2023-04-11T14:52:26.021002Z",
     "shell.execute_reply": "2023-04-11T14:52:26.019496Z"
    },
    "papermill": {
     "duration": 0.060677,
     "end_time": "2023-04-11T14:52:26.023919",
     "exception": false,
     "start_time": "2023-04-11T14:52:25.963242",
     "status": "completed"
    },
    "tags": []
   },
   "outputs": [
    {
     "data": {
      "text/html": [
       "<div>\n",
       "<style scoped>\n",
       "    .dataframe tbody tr th:only-of-type {\n",
       "        vertical-align: middle;\n",
       "    }\n",
       "\n",
       "    .dataframe tbody tr th {\n",
       "        vertical-align: top;\n",
       "    }\n",
       "\n",
       "    .dataframe thead th {\n",
       "        text-align: right;\n",
       "    }\n",
       "</style>\n",
       "<table border=\"1\" class=\"dataframe\">\n",
       "  <thead>\n",
       "    <tr style=\"text-align: right;\">\n",
       "      <th></th>\n",
       "      <th>BTC</th>\n",
       "      <th>NYSE</th>\n",
       "      <th>NASDAQ</th>\n",
       "      <th>LSE</th>\n",
       "      <th>BTC_Volume</th>\n",
       "      <th>NYSE_Volume</th>\n",
       "      <th>NASDAQ_Volume</th>\n",
       "      <th>LSE_Volume</th>\n",
       "      <th>BTC+1</th>\n",
       "      <th>hour</th>\n",
       "      <th>...</th>\n",
       "      <th>quarter</th>\n",
       "      <th>month</th>\n",
       "      <th>year</th>\n",
       "      <th>dayofyear</th>\n",
       "      <th>dayofmonth</th>\n",
       "      <th>moving_avg</th>\n",
       "      <th>ema_12</th>\n",
       "      <th>ema_26</th>\n",
       "      <th>macd</th>\n",
       "      <th>macd_signal</th>\n",
       "    </tr>\n",
       "    <tr>\n",
       "      <th>Date</th>\n",
       "      <th></th>\n",
       "      <th></th>\n",
       "      <th></th>\n",
       "      <th></th>\n",
       "      <th></th>\n",
       "      <th></th>\n",
       "      <th></th>\n",
       "      <th></th>\n",
       "      <th></th>\n",
       "      <th></th>\n",
       "      <th></th>\n",
       "      <th></th>\n",
       "      <th></th>\n",
       "      <th></th>\n",
       "      <th></th>\n",
       "      <th></th>\n",
       "      <th></th>\n",
       "      <th></th>\n",
       "      <th></th>\n",
       "      <th></th>\n",
       "      <th></th>\n",
       "    </tr>\n",
       "  </thead>\n",
       "  <tbody>\n",
       "    <tr>\n",
       "      <th>2022-12-23</th>\n",
       "      <td>9.729012</td>\n",
       "      <td>15188.45020</td>\n",
       "      <td>10497.86035</td>\n",
       "      <td>7130.0</td>\n",
       "      <td>1.532927e+10</td>\n",
       "      <td>2819280000</td>\n",
       "      <td>3544680000</td>\n",
       "      <td>141614</td>\n",
       "      <td>9.729012</td>\n",
       "      <td>0</td>\n",
       "      <td>...</td>\n",
       "      <td>4</td>\n",
       "      <td>12</td>\n",
       "      <td>2022</td>\n",
       "      <td>357</td>\n",
       "      <td>23</td>\n",
       "      <td>9.740093</td>\n",
       "      <td>9.737700</td>\n",
       "      <td>9.750343</td>\n",
       "      <td>-0.012642</td>\n",
       "      <td>-0.014429</td>\n",
       "    </tr>\n",
       "    <tr>\n",
       "      <th>2022-12-27</th>\n",
       "      <td>9.724252</td>\n",
       "      <td>15218.25977</td>\n",
       "      <td>10353.23047</td>\n",
       "      <td>7130.0</td>\n",
       "      <td>1.574858e+10</td>\n",
       "      <td>3030300000</td>\n",
       "      <td>3827290000</td>\n",
       "      <td>141614</td>\n",
       "      <td>9.714357</td>\n",
       "      <td>0</td>\n",
       "      <td>...</td>\n",
       "      <td>4</td>\n",
       "      <td>12</td>\n",
       "      <td>2022</td>\n",
       "      <td>361</td>\n",
       "      <td>27</td>\n",
       "      <td>9.741611</td>\n",
       "      <td>9.735631</td>\n",
       "      <td>9.748410</td>\n",
       "      <td>-0.012779</td>\n",
       "      <td>-0.014099</td>\n",
       "    </tr>\n",
       "    <tr>\n",
       "      <th>2022-12-28</th>\n",
       "      <td>9.714357</td>\n",
       "      <td>15037.32031</td>\n",
       "      <td>10213.29004</td>\n",
       "      <td>7128.0</td>\n",
       "      <td>1.700571e+10</td>\n",
       "      <td>3083520000</td>\n",
       "      <td>3842970000</td>\n",
       "      <td>490323</td>\n",
       "      <td>9.719766</td>\n",
       "      <td>0</td>\n",
       "      <td>...</td>\n",
       "      <td>4</td>\n",
       "      <td>12</td>\n",
       "      <td>2022</td>\n",
       "      <td>362</td>\n",
       "      <td>28</td>\n",
       "      <td>9.741937</td>\n",
       "      <td>9.732358</td>\n",
       "      <td>9.745888</td>\n",
       "      <td>-0.013529</td>\n",
       "      <td>-0.013985</td>\n",
       "    </tr>\n",
       "    <tr>\n",
       "      <th>2022-12-29</th>\n",
       "      <td>9.719766</td>\n",
       "      <td>15241.20996</td>\n",
       "      <td>10478.08984</td>\n",
       "      <td>7212.0</td>\n",
       "      <td>1.447224e+10</td>\n",
       "      <td>3003680000</td>\n",
       "      <td>4154100000</td>\n",
       "      <td>457006</td>\n",
       "      <td>9.717374</td>\n",
       "      <td>0</td>\n",
       "      <td>...</td>\n",
       "      <td>4</td>\n",
       "      <td>12</td>\n",
       "      <td>2022</td>\n",
       "      <td>363</td>\n",
       "      <td>29</td>\n",
       "      <td>9.740381</td>\n",
       "      <td>9.730421</td>\n",
       "      <td>9.743953</td>\n",
       "      <td>-0.013532</td>\n",
       "      <td>-0.013894</td>\n",
       "    </tr>\n",
       "    <tr>\n",
       "      <th>2022-12-30</th>\n",
       "      <td>9.717374</td>\n",
       "      <td>15184.30957</td>\n",
       "      <td>10466.48047</td>\n",
       "      <td>7136.0</td>\n",
       "      <td>1.592916e+10</td>\n",
       "      <td>2979870000</td>\n",
       "      <td>3959030000</td>\n",
       "      <td>226505</td>\n",
       "      <td>9.717374</td>\n",
       "      <td>0</td>\n",
       "      <td>...</td>\n",
       "      <td>4</td>\n",
       "      <td>12</td>\n",
       "      <td>2022</td>\n",
       "      <td>364</td>\n",
       "      <td>30</td>\n",
       "      <td>9.739295</td>\n",
       "      <td>9.728414</td>\n",
       "      <td>9.741984</td>\n",
       "      <td>-0.013570</td>\n",
       "      <td>-0.013829</td>\n",
       "    </tr>\n",
       "  </tbody>\n",
       "</table>\n",
       "<p>5 rows × 21 columns</p>\n",
       "</div>"
      ],
      "text/plain": [
       "                 BTC         NYSE       NASDAQ     LSE    BTC_Volume  \\\n",
       "Date                                                                   \n",
       "2022-12-23  9.729012  15188.45020  10497.86035  7130.0  1.532927e+10   \n",
       "2022-12-27  9.724252  15218.25977  10353.23047  7130.0  1.574858e+10   \n",
       "2022-12-28  9.714357  15037.32031  10213.29004  7128.0  1.700571e+10   \n",
       "2022-12-29  9.719766  15241.20996  10478.08984  7212.0  1.447224e+10   \n",
       "2022-12-30  9.717374  15184.30957  10466.48047  7136.0  1.592916e+10   \n",
       "\n",
       "            NYSE_Volume  NASDAQ_Volume  LSE_Volume     BTC+1  hour  ...  \\\n",
       "Date                                                                ...   \n",
       "2022-12-23   2819280000     3544680000      141614  9.729012     0  ...   \n",
       "2022-12-27   3030300000     3827290000      141614  9.714357     0  ...   \n",
       "2022-12-28   3083520000     3842970000      490323  9.719766     0  ...   \n",
       "2022-12-29   3003680000     4154100000      457006  9.717374     0  ...   \n",
       "2022-12-30   2979870000     3959030000      226505  9.717374     0  ...   \n",
       "\n",
       "            quarter  month  year  dayofyear  dayofmonth  moving_avg    ema_12  \\\n",
       "Date                                                                            \n",
       "2022-12-23        4     12  2022        357          23    9.740093  9.737700   \n",
       "2022-12-27        4     12  2022        361          27    9.741611  9.735631   \n",
       "2022-12-28        4     12  2022        362          28    9.741937  9.732358   \n",
       "2022-12-29        4     12  2022        363          29    9.740381  9.730421   \n",
       "2022-12-30        4     12  2022        364          30    9.739295  9.728414   \n",
       "\n",
       "              ema_26      macd  macd_signal  \n",
       "Date                                         \n",
       "2022-12-23  9.750343 -0.012642    -0.014429  \n",
       "2022-12-27  9.748410 -0.012779    -0.014099  \n",
       "2022-12-28  9.745888 -0.013529    -0.013985  \n",
       "2022-12-29  9.743953 -0.013532    -0.013894  \n",
       "2022-12-30  9.741984 -0.013570    -0.013829  \n",
       "\n",
       "[5 rows x 21 columns]"
      ]
     },
     "execution_count": 28,
     "metadata": {},
     "output_type": "execute_result"
    }
   ],
   "source": [
    "df['moving_avg'] = df['BTC'].rolling(window = 20).mean()\n",
    "df['ema_12'] = df['BTC'].ewm(span = 12, adjust = False).mean()\n",
    "df['ema_26'] = df['BTC'].ewm(span = 26, adjust = False).mean()\n",
    "df['macd'] = df['ema_12'] - df['ema_26']\n",
    "df['macd_signal'] = df['macd'].ewm(span=9, adjust = False).mean()\n",
    "df.tail()"
   ]
  },
  {
   "cell_type": "code",
   "execution_count": 29,
   "id": "f2d8e865",
   "metadata": {
    "execution": {
     "iopub.execute_input": "2023-04-11T14:52:26.068955Z",
     "iopub.status.busy": "2023-04-11T14:52:26.068486Z",
     "iopub.status.idle": "2023-04-11T14:52:26.075514Z",
     "shell.execute_reply": "2023-04-11T14:52:26.073838Z"
    },
    "papermill": {
     "duration": 0.032934,
     "end_time": "2023-04-11T14:52:26.078051",
     "exception": false,
     "start_time": "2023-04-11T14:52:26.045117",
     "status": "completed"
    },
    "tags": []
   },
   "outputs": [],
   "source": [
    "size = int(len(df) * 0.8)\n",
    "df_train = df.iloc[:size]\n",
    "df_test = df.iloc[size:]"
   ]
  },
  {
   "cell_type": "code",
   "execution_count": 30,
   "id": "44abc19f",
   "metadata": {
    "execution": {
     "iopub.execute_input": "2023-04-11T14:52:26.123097Z",
     "iopub.status.busy": "2023-04-11T14:52:26.122612Z",
     "iopub.status.idle": "2023-04-11T14:52:26.132524Z",
     "shell.execute_reply": "2023-04-11T14:52:26.131177Z"
    },
    "papermill": {
     "duration": 0.035299,
     "end_time": "2023-04-11T14:52:26.135239",
     "exception": false,
     "start_time": "2023-04-11T14:52:26.099940",
     "status": "completed"
    },
    "tags": []
   },
   "outputs": [],
   "source": [
    "df_train = df_train.drop(['NYSE', 'NASDAQ', 'LSE', 'BTC_Volume', 'NYSE_Volume', 'NASDAQ_Volume', 'LSE_Volume'], axis = 1)\n",
    "df_test = df_test.drop(['NYSE', 'NASDAQ', 'LSE', 'BTC_Volume', 'NYSE_Volume', 'NASDAQ_Volume', 'LSE_Volume'], axis = 1)"
   ]
  },
  {
   "cell_type": "code",
   "execution_count": 31,
   "id": "fedd3271",
   "metadata": {
    "execution": {
     "iopub.execute_input": "2023-04-11T14:52:26.180505Z",
     "iopub.status.busy": "2023-04-11T14:52:26.180058Z",
     "iopub.status.idle": "2023-04-11T14:52:26.253257Z",
     "shell.execute_reply": "2023-04-11T14:52:26.251783Z"
    },
    "papermill": {
     "duration": 0.099616,
     "end_time": "2023-04-11T14:52:26.256229",
     "exception": false,
     "start_time": "2023-04-11T14:52:26.156613",
     "status": "completed"
    },
    "tags": []
   },
   "outputs": [],
   "source": [
    "x_train = create_features(df_train)\n",
    "x_train = add_lags(x_train)\n",
    "x_test = create_features(df_test)\n",
    "x_test = add_lags(x_test)\n",
    "y_train = x_train['BTC+1']\n",
    "y_test = x_test['BTC+1']\n",
    "x_train = x_train.drop(['BTC', 'BTC+1'], axis =1)\n",
    "x_test = x_test.drop(['BTC','BTC+1'], axis = 1)"
   ]
  },
  {
   "cell_type": "code",
   "execution_count": 32,
   "id": "75895dfa",
   "metadata": {
    "execution": {
     "iopub.execute_input": "2023-04-11T14:52:26.301235Z",
     "iopub.status.busy": "2023-04-11T14:52:26.300790Z",
     "iopub.status.idle": "2023-04-11T14:52:26.306931Z",
     "shell.execute_reply": "2023-04-11T14:52:26.305826Z"
    },
    "papermill": {
     "duration": 0.031146,
     "end_time": "2023-04-11T14:52:26.309428",
     "exception": false,
     "start_time": "2023-04-11T14:52:26.278282",
     "status": "completed"
    },
    "tags": []
   },
   "outputs": [],
   "source": [
    "x_train.fillna(method = 'ffill', inplace = True)\n",
    "x_test.fillna(method = 'ffill', inplace = True)"
   ]
  },
  {
   "cell_type": "code",
   "execution_count": 33,
   "id": "5169a45e",
   "metadata": {
    "execution": {
     "iopub.execute_input": "2023-04-11T14:52:26.354248Z",
     "iopub.status.busy": "2023-04-11T14:52:26.353079Z",
     "iopub.status.idle": "2023-04-11T14:52:26.360258Z",
     "shell.execute_reply": "2023-04-11T14:52:26.359394Z"
    },
    "papermill": {
     "duration": 0.031969,
     "end_time": "2023-04-11T14:52:26.362495",
     "exception": false,
     "start_time": "2023-04-11T14:52:26.330526",
     "status": "completed"
    },
    "tags": []
   },
   "outputs": [],
   "source": [
    "x_train.drop(['hour', 'dayofweek', 'quarter', 'month', 'year'], axis = 1, inplace = True)\n",
    "x_test.drop(['hour', 'dayofweek', 'quarter', 'month', 'year'], axis = 1, inplace = True)"
   ]
  },
  {
   "cell_type": "code",
   "execution_count": 34,
   "id": "a71e91cb",
   "metadata": {
    "execution": {
     "iopub.execute_input": "2023-04-11T14:52:26.407425Z",
     "iopub.status.busy": "2023-04-11T14:52:26.406590Z",
     "iopub.status.idle": "2023-04-11T14:52:29.407095Z",
     "shell.execute_reply": "2023-04-11T14:52:29.405927Z"
    },
    "papermill": {
     "duration": 3.026292,
     "end_time": "2023-04-11T14:52:29.409766",
     "exception": false,
     "start_time": "2023-04-11T14:52:26.383474",
     "status": "completed"
    },
    "tags": []
   },
   "outputs": [
    {
     "name": "stdout",
     "output_type": "stream",
     "text": [
      "[14:52:26] WARNING: ../src/objective/regression_obj.cu:203: reg:linear is now deprecated in favor of reg:squarederror.\n",
      "[0]\tvalidation_0-rmse:8.88227\tvalidation_1-rmse:9.58797\n",
      "[100]\tvalidation_0-rmse:3.26568\tvalidation_1-rmse:3.34618\n",
      "[200]\tvalidation_0-rmse:1.20289\tvalidation_1-rmse:1.14733\n",
      "[300]\tvalidation_0-rmse:0.44588\tvalidation_1-rmse:0.36062\n",
      "[400]\tvalidation_0-rmse:0.17131\tvalidation_1-rmse:0.15719\n",
      "[470]\tvalidation_0-rmse:0.09536\tvalidation_1-rmse:0.16168\n"
     ]
    },
    {
     "data": {
      "text/plain": [
       "XGBRegressor(base_score=0.5, booster='gbtree', callbacks=None,\n",
       "             colsample_bylevel=1, colsample_bynode=1, colsample_bytree=1,\n",
       "             early_stopping_rounds=50, enable_categorical=False,\n",
       "             eval_metric=None, gamma=0, gpu_id=-1, grow_policy='depthwise',\n",
       "             importance_type=None, interaction_constraints='',\n",
       "             learning_rate=0.01, max_bin=256, max_cat_to_onehot=4,\n",
       "             max_delta_step=0, max_depth=3, max_leaves=0, min_child_weight=1,\n",
       "             missing=nan, monotone_constraints='()', n_estimators=1000,\n",
       "             n_jobs=0, num_parallel_tree=1, objective='reg:linear',\n",
       "             predictor='auto', random_state=0, reg_alpha=0, ...)"
      ]
     },
     "execution_count": 34,
     "metadata": {},
     "output_type": "execute_result"
    }
   ],
   "source": [
    "reg = xgb.XGBRegressor(base_score=0.5, booster='gbtree',    \n",
    "                           n_estimators=1000,\n",
    "                           early_stopping_rounds=50,\n",
    "                           objective='reg:linear',\n",
    "                           max_depth=3,learning_rate=0.01)\n",
    "reg.fit(x_train, y_train,\n",
    "        eval_set=[(x_train, y_train), (x_test, y_test)],\n",
    "        verbose=100)"
   ]
  },
  {
   "cell_type": "code",
   "execution_count": 35,
   "id": "2f566271",
   "metadata": {
    "execution": {
     "iopub.execute_input": "2023-04-11T14:52:29.455845Z",
     "iopub.status.busy": "2023-04-11T14:52:29.455395Z",
     "iopub.status.idle": "2023-04-11T14:52:29.475976Z",
     "shell.execute_reply": "2023-04-11T14:52:29.474758Z"
    },
    "papermill": {
     "duration": 0.047142,
     "end_time": "2023-04-11T14:52:29.478748",
     "exception": false,
     "start_time": "2023-04-11T14:52:29.431606",
     "status": "completed"
    },
    "tags": []
   },
   "outputs": [
    {
     "data": {
      "text/plain": [
       "4616.9380144235065"
      ]
     },
     "execution_count": 35,
     "metadata": {},
     "output_type": "execute_result"
    }
   ],
   "source": [
    "y_pred = reg.predict(x_test)\n",
    "y_test = np.expm1(y_test)\n",
    "y_pred = np.expm1(y_pred)\n",
    "score = np.sqrt(mean_squared_error(y_test, y_pred))\n",
    "score"
   ]
  },
  {
   "cell_type": "code",
   "execution_count": 36,
   "id": "3c11382b",
   "metadata": {
    "execution": {
     "iopub.execute_input": "2023-04-11T14:52:29.524974Z",
     "iopub.status.busy": "2023-04-11T14:52:29.524568Z",
     "iopub.status.idle": "2023-04-11T14:52:29.546608Z",
     "shell.execute_reply": "2023-04-11T14:52:29.545429Z"
    },
    "papermill": {
     "duration": 0.047631,
     "end_time": "2023-04-11T14:52:29.549157",
     "exception": false,
     "start_time": "2023-04-11T14:52:29.501526",
     "status": "completed"
    },
    "tags": []
   },
   "outputs": [
    {
     "data": {
      "text/html": [
       "<div>\n",
       "<style scoped>\n",
       "    .dataframe tbody tr th:only-of-type {\n",
       "        vertical-align: middle;\n",
       "    }\n",
       "\n",
       "    .dataframe tbody tr th {\n",
       "        vertical-align: top;\n",
       "    }\n",
       "\n",
       "    .dataframe thead th {\n",
       "        text-align: right;\n",
       "    }\n",
       "</style>\n",
       "<table border=\"1\" class=\"dataframe\">\n",
       "  <thead>\n",
       "    <tr style=\"text-align: right;\">\n",
       "      <th></th>\n",
       "      <th>0</th>\n",
       "      <th>1</th>\n",
       "    </tr>\n",
       "  </thead>\n",
       "  <tbody>\n",
       "    <tr>\n",
       "      <th>0</th>\n",
       "      <td>25631.761719</td>\n",
       "      <td>46306.44531</td>\n",
       "    </tr>\n",
       "    <tr>\n",
       "      <th>1</th>\n",
       "      <td>26611.328125</td>\n",
       "      <td>45897.57422</td>\n",
       "    </tr>\n",
       "    <tr>\n",
       "      <th>2</th>\n",
       "      <td>36935.074219</td>\n",
       "      <td>43569.00391</td>\n",
       "    </tr>\n",
       "    <tr>\n",
       "      <th>3</th>\n",
       "      <td>38315.562500</td>\n",
       "      <td>43160.92969</td>\n",
       "    </tr>\n",
       "    <tr>\n",
       "      <th>4</th>\n",
       "      <td>35955.722656</td>\n",
       "      <td>41557.90234</td>\n",
       "    </tr>\n",
       "    <tr>\n",
       "      <th>...</th>\n",
       "      <td>...</td>\n",
       "      <td>...</td>\n",
       "    </tr>\n",
       "    <tr>\n",
       "      <th>247</th>\n",
       "      <td>16093.525391</td>\n",
       "      <td>16796.95313</td>\n",
       "    </tr>\n",
       "    <tr>\n",
       "      <th>248</th>\n",
       "      <td>16093.525391</td>\n",
       "      <td>16552.57227</td>\n",
       "    </tr>\n",
       "    <tr>\n",
       "      <th>249</th>\n",
       "      <td>16093.525391</td>\n",
       "      <td>16642.34180</td>\n",
       "    </tr>\n",
       "    <tr>\n",
       "      <th>250</th>\n",
       "      <td>16093.525391</td>\n",
       "      <td>16602.58594</td>\n",
       "    </tr>\n",
       "    <tr>\n",
       "      <th>251</th>\n",
       "      <td>16093.525391</td>\n",
       "      <td>16602.58594</td>\n",
       "    </tr>\n",
       "  </tbody>\n",
       "</table>\n",
       "<p>252 rows × 2 columns</p>\n",
       "</div>"
      ],
      "text/plain": [
       "                0            1\n",
       "0    25631.761719  46306.44531\n",
       "1    26611.328125  45897.57422\n",
       "2    36935.074219  43569.00391\n",
       "3    38315.562500  43160.92969\n",
       "4    35955.722656  41557.90234\n",
       "..            ...          ...\n",
       "247  16093.525391  16796.95313\n",
       "248  16093.525391  16552.57227\n",
       "249  16093.525391  16642.34180\n",
       "250  16093.525391  16602.58594\n",
       "251  16093.525391  16602.58594\n",
       "\n",
       "[252 rows x 2 columns]"
      ]
     },
     "execution_count": 36,
     "metadata": {},
     "output_type": "execute_result"
    }
   ],
   "source": [
    "pred_vs_actual = pd.DataFrame(data = [y_pred, y_test]).T\n",
    "pred_vs_actual"
   ]
  },
  {
   "cell_type": "code",
   "execution_count": 37,
   "id": "ce1f52cb",
   "metadata": {
    "execution": {
     "iopub.execute_input": "2023-04-11T14:52:29.594749Z",
     "iopub.status.busy": "2023-04-11T14:52:29.594351Z",
     "iopub.status.idle": "2023-04-11T14:52:29.992532Z",
     "shell.execute_reply": "2023-04-11T14:52:29.991249Z"
    },
    "papermill": {
     "duration": 0.424134,
     "end_time": "2023-04-11T14:52:29.995181",
     "exception": false,
     "start_time": "2023-04-11T14:52:29.571047",
     "status": "completed"
    },
    "tags": []
   },
   "outputs": [
    {
     "data": {
      "text/html": [
       "<div>\n",
       "<style scoped>\n",
       "    .dataframe tbody tr th:only-of-type {\n",
       "        vertical-align: middle;\n",
       "    }\n",
       "\n",
       "    .dataframe tbody tr th {\n",
       "        vertical-align: top;\n",
       "    }\n",
       "\n",
       "    .dataframe thead th {\n",
       "        text-align: right;\n",
       "    }\n",
       "</style>\n",
       "<table border=\"1\" class=\"dataframe\">\n",
       "  <thead>\n",
       "    <tr style=\"text-align: right;\">\n",
       "      <th></th>\n",
       "      <th>BTC</th>\n",
       "      <th>NYSE</th>\n",
       "      <th>NASDAQ</th>\n",
       "      <th>LSE</th>\n",
       "      <th>BTC_Volume</th>\n",
       "      <th>NYSE_Volume</th>\n",
       "      <th>NASDAQ_Volume</th>\n",
       "      <th>LSE_Volume</th>\n",
       "      <th>BTC+1</th>\n",
       "      <th>hour</th>\n",
       "      <th>...</th>\n",
       "      <th>year</th>\n",
       "      <th>dayofyear</th>\n",
       "      <th>dayofmonth</th>\n",
       "      <th>moving_avg</th>\n",
       "      <th>ema_12</th>\n",
       "      <th>ema_26</th>\n",
       "      <th>macd</th>\n",
       "      <th>macd_signal</th>\n",
       "      <th>rsi</th>\n",
       "      <th>aroon_oscillator</th>\n",
       "    </tr>\n",
       "    <tr>\n",
       "      <th>Date</th>\n",
       "      <th></th>\n",
       "      <th></th>\n",
       "      <th></th>\n",
       "      <th></th>\n",
       "      <th></th>\n",
       "      <th></th>\n",
       "      <th></th>\n",
       "      <th></th>\n",
       "      <th></th>\n",
       "      <th></th>\n",
       "      <th></th>\n",
       "      <th></th>\n",
       "      <th></th>\n",
       "      <th></th>\n",
       "      <th></th>\n",
       "      <th></th>\n",
       "      <th></th>\n",
       "      <th></th>\n",
       "      <th></th>\n",
       "      <th></th>\n",
       "      <th></th>\n",
       "    </tr>\n",
       "  </thead>\n",
       "  <tbody>\n",
       "    <tr>\n",
       "      <th>2022-12-23</th>\n",
       "      <td>9.729012</td>\n",
       "      <td>15188.45020</td>\n",
       "      <td>10497.86035</td>\n",
       "      <td>7130.0</td>\n",
       "      <td>1.532927e+10</td>\n",
       "      <td>2819280000</td>\n",
       "      <td>3544680000</td>\n",
       "      <td>141614</td>\n",
       "      <td>9.729012</td>\n",
       "      <td>0</td>\n",
       "      <td>...</td>\n",
       "      <td>2022</td>\n",
       "      <td>357</td>\n",
       "      <td>23</td>\n",
       "      <td>9.740093</td>\n",
       "      <td>9.737700</td>\n",
       "      <td>9.750343</td>\n",
       "      <td>-0.012642</td>\n",
       "      <td>-0.014429</td>\n",
       "      <td>47.428898</td>\n",
       "      <td>-64.0</td>\n",
       "    </tr>\n",
       "    <tr>\n",
       "      <th>2022-12-27</th>\n",
       "      <td>9.724252</td>\n",
       "      <td>15218.25977</td>\n",
       "      <td>10353.23047</td>\n",
       "      <td>7130.0</td>\n",
       "      <td>1.574858e+10</td>\n",
       "      <td>3030300000</td>\n",
       "      <td>3827290000</td>\n",
       "      <td>141614</td>\n",
       "      <td>9.714357</td>\n",
       "      <td>0</td>\n",
       "      <td>...</td>\n",
       "      <td>2022</td>\n",
       "      <td>361</td>\n",
       "      <td>27</td>\n",
       "      <td>9.741611</td>\n",
       "      <td>9.735631</td>\n",
       "      <td>9.748410</td>\n",
       "      <td>-0.012779</td>\n",
       "      <td>-0.014099</td>\n",
       "      <td>44.571205</td>\n",
       "      <td>-64.0</td>\n",
       "    </tr>\n",
       "    <tr>\n",
       "      <th>2022-12-28</th>\n",
       "      <td>9.714357</td>\n",
       "      <td>15037.32031</td>\n",
       "      <td>10213.29004</td>\n",
       "      <td>7128.0</td>\n",
       "      <td>1.700571e+10</td>\n",
       "      <td>3083520000</td>\n",
       "      <td>3842970000</td>\n",
       "      <td>490323</td>\n",
       "      <td>9.719766</td>\n",
       "      <td>0</td>\n",
       "      <td>...</td>\n",
       "      <td>2022</td>\n",
       "      <td>362</td>\n",
       "      <td>28</td>\n",
       "      <td>9.741937</td>\n",
       "      <td>9.732358</td>\n",
       "      <td>9.745888</td>\n",
       "      <td>-0.013529</td>\n",
       "      <td>-0.013985</td>\n",
       "      <td>45.543204</td>\n",
       "      <td>-60.0</td>\n",
       "    </tr>\n",
       "    <tr>\n",
       "      <th>2022-12-29</th>\n",
       "      <td>9.719766</td>\n",
       "      <td>15241.20996</td>\n",
       "      <td>10478.08984</td>\n",
       "      <td>7212.0</td>\n",
       "      <td>1.447224e+10</td>\n",
       "      <td>3003680000</td>\n",
       "      <td>4154100000</td>\n",
       "      <td>457006</td>\n",
       "      <td>9.717374</td>\n",
       "      <td>0</td>\n",
       "      <td>...</td>\n",
       "      <td>2022</td>\n",
       "      <td>363</td>\n",
       "      <td>29</td>\n",
       "      <td>9.740381</td>\n",
       "      <td>9.730421</td>\n",
       "      <td>9.743953</td>\n",
       "      <td>-0.013532</td>\n",
       "      <td>-0.013894</td>\n",
       "      <td>40.376468</td>\n",
       "      <td>-48.0</td>\n",
       "    </tr>\n",
       "    <tr>\n",
       "      <th>2022-12-30</th>\n",
       "      <td>9.717374</td>\n",
       "      <td>15184.30957</td>\n",
       "      <td>10466.48047</td>\n",
       "      <td>7136.0</td>\n",
       "      <td>1.592916e+10</td>\n",
       "      <td>2979870000</td>\n",
       "      <td>3959030000</td>\n",
       "      <td>226505</td>\n",
       "      <td>9.717374</td>\n",
       "      <td>0</td>\n",
       "      <td>...</td>\n",
       "      <td>2022</td>\n",
       "      <td>364</td>\n",
       "      <td>30</td>\n",
       "      <td>9.739295</td>\n",
       "      <td>9.728414</td>\n",
       "      <td>9.741984</td>\n",
       "      <td>-0.013570</td>\n",
       "      <td>-0.013829</td>\n",
       "      <td>41.158741</td>\n",
       "      <td>-48.0</td>\n",
       "    </tr>\n",
       "  </tbody>\n",
       "</table>\n",
       "<p>5 rows × 23 columns</p>\n",
       "</div>"
      ],
      "text/plain": [
       "                 BTC         NYSE       NASDAQ     LSE    BTC_Volume  \\\n",
       "Date                                                                   \n",
       "2022-12-23  9.729012  15188.45020  10497.86035  7130.0  1.532927e+10   \n",
       "2022-12-27  9.724252  15218.25977  10353.23047  7130.0  1.574858e+10   \n",
       "2022-12-28  9.714357  15037.32031  10213.29004  7128.0  1.700571e+10   \n",
       "2022-12-29  9.719766  15241.20996  10478.08984  7212.0  1.447224e+10   \n",
       "2022-12-30  9.717374  15184.30957  10466.48047  7136.0  1.592916e+10   \n",
       "\n",
       "            NYSE_Volume  NASDAQ_Volume  LSE_Volume     BTC+1  hour  ...  year  \\\n",
       "Date                                                                ...         \n",
       "2022-12-23   2819280000     3544680000      141614  9.729012     0  ...  2022   \n",
       "2022-12-27   3030300000     3827290000      141614  9.714357     0  ...  2022   \n",
       "2022-12-28   3083520000     3842970000      490323  9.719766     0  ...  2022   \n",
       "2022-12-29   3003680000     4154100000      457006  9.717374     0  ...  2022   \n",
       "2022-12-30   2979870000     3959030000      226505  9.717374     0  ...  2022   \n",
       "\n",
       "            dayofyear  dayofmonth  moving_avg    ema_12    ema_26      macd  \\\n",
       "Date                                                                          \n",
       "2022-12-23        357          23    9.740093  9.737700  9.750343 -0.012642   \n",
       "2022-12-27        361          27    9.741611  9.735631  9.748410 -0.012779   \n",
       "2022-12-28        362          28    9.741937  9.732358  9.745888 -0.013529   \n",
       "2022-12-29        363          29    9.740381  9.730421  9.743953 -0.013532   \n",
       "2022-12-30        364          30    9.739295  9.728414  9.741984 -0.013570   \n",
       "\n",
       "            macd_signal        rsi  aroon_oscillator  \n",
       "Date                                                  \n",
       "2022-12-23    -0.014429  47.428898             -64.0  \n",
       "2022-12-27    -0.014099  44.571205             -64.0  \n",
       "2022-12-28    -0.013985  45.543204             -60.0  \n",
       "2022-12-29    -0.013894  40.376468             -48.0  \n",
       "2022-12-30    -0.013829  41.158741             -48.0  \n",
       "\n",
       "[5 rows x 23 columns]"
      ]
     },
     "execution_count": 37,
     "metadata": {},
     "output_type": "execute_result"
    }
   ],
   "source": [
    "df['moving_avg'] = df['BTC'].rolling(window = 20).mean()\n",
    "df['ema_12'] = df['BTC'].ewm(span = 12, adjust = False).mean()\n",
    "df['ema_26'] = df['BTC'].ewm(span = 26, adjust = False).mean()\n",
    "df['macd'] = df['ema_12'] - df['ema_26']\n",
    "df['macd_signal'] = df['macd'].ewm(span=9, adjust = False).mean()\n",
    "delta = df['BTC'].diff()\n",
    "gain = delta.where(delta > 0, 0)\n",
    "loss = -delta.where(delta < 0, 0)\n",
    "avg_gain = gain.rolling(window = 14).mean()\n",
    "avg_loss = loss.rolling(window = 14).mean()\n",
    "rs = avg_gain / avg_loss\n",
    "df['rsi'] = 100 - (100 / (1 + rs))\n",
    "aroon_up = 100 * ((25 - (df['BTC'].rolling(25).apply(lambda x: x.argmax() + 1))) / 25)\n",
    "aroon_down = 100 * ((25 - (df['BTC'].rolling(25).apply(lambda x: x.argmin() + 1))) / 25)\n",
    "df['aroon_oscillator'] = aroon_up - aroon_down\n",
    "df.tail()"
   ]
  },
  {
   "cell_type": "code",
   "execution_count": 38,
   "id": "e0cc9ebc",
   "metadata": {
    "execution": {
     "iopub.execute_input": "2023-04-11T14:52:30.042233Z",
     "iopub.status.busy": "2023-04-11T14:52:30.041774Z",
     "iopub.status.idle": "2023-04-11T14:52:30.063197Z",
     "shell.execute_reply": "2023-04-11T14:52:30.061851Z"
    },
    "papermill": {
     "duration": 0.048419,
     "end_time": "2023-04-11T14:52:30.066200",
     "exception": false,
     "start_time": "2023-04-11T14:52:30.017781",
     "status": "completed"
    },
    "tags": []
   },
   "outputs": [],
   "source": [
    "target_map = df['BTC'].to_dict()\n",
    "df['BTC+1'] = (df.index + pd.Timedelta('1 days')).map(target_map)\n",
    "df['BTC+1'] = df['BTC+1'].fillna(method = 'ffill')"
   ]
  },
  {
   "cell_type": "code",
   "execution_count": 39,
   "id": "01411b8d",
   "metadata": {
    "execution": {
     "iopub.execute_input": "2023-04-11T14:52:30.112435Z",
     "iopub.status.busy": "2023-04-11T14:52:30.111713Z",
     "iopub.status.idle": "2023-04-11T14:52:30.117890Z",
     "shell.execute_reply": "2023-04-11T14:52:30.116662Z"
    },
    "papermill": {
     "duration": 0.032108,
     "end_time": "2023-04-11T14:52:30.120440",
     "exception": false,
     "start_time": "2023-04-11T14:52:30.088332",
     "status": "completed"
    },
    "tags": []
   },
   "outputs": [],
   "source": [
    "size = int(len(df) * 0.8)\n",
    "df_train = df.iloc[:size]\n",
    "df_test = df.iloc[size:]"
   ]
  },
  {
   "cell_type": "code",
   "execution_count": 40,
   "id": "60fe8d2f",
   "metadata": {
    "execution": {
     "iopub.execute_input": "2023-04-11T14:52:30.166613Z",
     "iopub.status.busy": "2023-04-11T14:52:30.166197Z",
     "iopub.status.idle": "2023-04-11T14:52:30.175903Z",
     "shell.execute_reply": "2023-04-11T14:52:30.174400Z"
    },
    "papermill": {
     "duration": 0.036063,
     "end_time": "2023-04-11T14:52:30.178591",
     "exception": false,
     "start_time": "2023-04-11T14:52:30.142528",
     "status": "completed"
    },
    "tags": []
   },
   "outputs": [],
   "source": [
    "df_train = df_train.drop(['NYSE', 'NASDAQ', 'LSE', 'BTC_Volume', 'NYSE_Volume', 'NASDAQ_Volume', 'LSE_Volume'], axis = 1)\n",
    "df_test = df_test.drop(['NYSE', 'NASDAQ', 'LSE', 'BTC_Volume', 'NYSE_Volume', 'NASDAQ_Volume', 'LSE_Volume'], axis = 1)"
   ]
  },
  {
   "cell_type": "code",
   "execution_count": 41,
   "id": "a849e3fd",
   "metadata": {
    "execution": {
     "iopub.execute_input": "2023-04-11T14:52:30.225452Z",
     "iopub.status.busy": "2023-04-11T14:52:30.225002Z",
     "iopub.status.idle": "2023-04-11T14:52:30.233263Z",
     "shell.execute_reply": "2023-04-11T14:52:30.231995Z"
    },
    "papermill": {
     "duration": 0.034264,
     "end_time": "2023-04-11T14:52:30.235601",
     "exception": false,
     "start_time": "2023-04-11T14:52:30.201337",
     "status": "completed"
    },
    "tags": []
   },
   "outputs": [],
   "source": [
    "y_train = df_train['BTC+1']\n",
    "y_test = df_test['BTC+1']\n",
    "x_train = df_train.drop(['BTC', 'BTC+1'], axis =1)\n",
    "x_test = df_test.drop(['BTC','BTC+1'], axis = 1)"
   ]
  },
  {
   "cell_type": "code",
   "execution_count": 42,
   "id": "a57cac01",
   "metadata": {
    "execution": {
     "iopub.execute_input": "2023-04-11T14:52:30.282432Z",
     "iopub.status.busy": "2023-04-11T14:52:30.281838Z",
     "iopub.status.idle": "2023-04-11T14:52:30.289883Z",
     "shell.execute_reply": "2023-04-11T14:52:30.288564Z"
    },
    "papermill": {
     "duration": 0.03461,
     "end_time": "2023-04-11T14:52:30.292249",
     "exception": false,
     "start_time": "2023-04-11T14:52:30.257639",
     "status": "completed"
    },
    "tags": []
   },
   "outputs": [],
   "source": [
    "x_train.drop(['hour', 'dayofweek', 'quarter', 'month', 'year'], axis = 1, inplace = True)\n",
    "x_test.drop(['hour', 'dayofweek', 'quarter', 'month', 'year'], axis = 1, inplace = True)"
   ]
  },
  {
   "cell_type": "code",
   "execution_count": 43,
   "id": "4ef8e75a",
   "metadata": {
    "execution": {
     "iopub.execute_input": "2023-04-11T14:52:30.338222Z",
     "iopub.status.busy": "2023-04-11T14:52:30.337759Z",
     "iopub.status.idle": "2023-04-11T14:52:34.320632Z",
     "shell.execute_reply": "2023-04-11T14:52:34.319532Z"
    },
    "papermill": {
     "duration": 4.009033,
     "end_time": "2023-04-11T14:52:34.323437",
     "exception": false,
     "start_time": "2023-04-11T14:52:30.314404",
     "status": "completed"
    },
    "tags": []
   },
   "outputs": [
    {
     "name": "stdout",
     "output_type": "stream",
     "text": [
      "[14:52:30] WARNING: ../src/objective/regression_obj.cu:203: reg:linear is now deprecated in favor of reg:squarederror.\n",
      "[0]\tvalidation_0-rmse:8.88227\tvalidation_1-rmse:9.58797\n",
      "[100]\tvalidation_0-rmse:3.26596\tvalidation_1-rmse:3.33269\n",
      "[200]\tvalidation_0-rmse:1.20417\tvalidation_1-rmse:1.10963\n",
      "[300]\tvalidation_0-rmse:0.44768\tvalidation_1-rmse:0.33794\n",
      "[400]\tvalidation_0-rmse:0.17228\tvalidation_1-rmse:0.14619\n",
      "[468]\tvalidation_0-rmse:0.09671\tvalidation_1-rmse:0.15479\n"
     ]
    },
    {
     "data": {
      "text/plain": [
       "XGBRegressor(base_score=0.5, booster='gbtree', callbacks=None,\n",
       "             colsample_bylevel=1, colsample_bynode=1, colsample_bytree=1,\n",
       "             early_stopping_rounds=50, enable_categorical=False,\n",
       "             eval_metric=None, gamma=0, gpu_id=-1, grow_policy='depthwise',\n",
       "             importance_type=None, interaction_constraints='',\n",
       "             learning_rate=0.01, max_bin=256, max_cat_to_onehot=4,\n",
       "             max_delta_step=0, max_depth=3, max_leaves=0, min_child_weight=1,\n",
       "             missing=nan, monotone_constraints='()', n_estimators=1000,\n",
       "             n_jobs=0, num_parallel_tree=1, objective='reg:linear',\n",
       "             predictor='auto', random_state=0, reg_alpha=0, ...)"
      ]
     },
     "execution_count": 43,
     "metadata": {},
     "output_type": "execute_result"
    }
   ],
   "source": [
    "reg = xgb.XGBRegressor(base_score=0.5, booster='gbtree',    \n",
    "                           n_estimators=1000,\n",
    "                           early_stopping_rounds=50,\n",
    "                           objective='reg:linear',\n",
    "                           max_depth=3,learning_rate=0.01)\n",
    "reg.fit(x_train, y_train,\n",
    "        eval_set=[(x_train, y_train), (x_test, y_test)],\n",
    "        verbose=100)\n"
   ]
  },
  {
   "cell_type": "code",
   "execution_count": 44,
   "id": "79ffca7a",
   "metadata": {
    "execution": {
     "iopub.execute_input": "2023-04-11T14:52:34.372947Z",
     "iopub.status.busy": "2023-04-11T14:52:34.372159Z",
     "iopub.status.idle": "2023-04-11T14:52:34.388779Z",
     "shell.execute_reply": "2023-04-11T14:52:34.387678Z"
    },
    "papermill": {
     "duration": 0.044885,
     "end_time": "2023-04-11T14:52:34.391894",
     "exception": false,
     "start_time": "2023-04-11T14:52:34.347009",
     "status": "completed"
    },
    "tags": []
   },
   "outputs": [
    {
     "data": {
      "text/plain": [
       "4175.686372832829"
      ]
     },
     "execution_count": 44,
     "metadata": {},
     "output_type": "execute_result"
    }
   ],
   "source": [
    "y_pred = reg.predict(x_test)\n",
    "y_test = np.expm1(y_test)\n",
    "y_pred = np.expm1(y_pred)\n",
    "score = np.sqrt(mean_squared_error(y_test, y_pred))\n",
    "score"
   ]
  },
  {
   "cell_type": "code",
   "execution_count": 45,
   "id": "cd8d4cb5",
   "metadata": {
    "execution": {
     "iopub.execute_input": "2023-04-11T14:52:34.441759Z",
     "iopub.status.busy": "2023-04-11T14:52:34.441356Z",
     "iopub.status.idle": "2023-04-11T14:52:34.450546Z",
     "shell.execute_reply": "2023-04-11T14:52:34.448984Z"
    },
    "papermill": {
     "duration": 0.036952,
     "end_time": "2023-04-11T14:52:34.453609",
     "exception": false,
     "start_time": "2023-04-11T14:52:34.416657",
     "status": "completed"
    },
    "tags": []
   },
   "outputs": [
    {
     "data": {
      "text/plain": [
       "0.8312131394697345"
      ]
     },
     "execution_count": 45,
     "metadata": {},
     "output_type": "execute_result"
    }
   ],
   "source": [
    "from sklearn.metrics import r2_score\n",
    "r2_score(y_test,y_pred)"
   ]
  },
  {
   "cell_type": "markdown",
   "id": "5a4a3426",
   "metadata": {
    "papermill": {
     "duration": 0.022933,
     "end_time": "2023-04-11T14:52:34.499652",
     "exception": false,
     "start_time": "2023-04-11T14:52:34.476719",
     "status": "completed"
    },
    "tags": []
   },
   "source": [
    "# Using Boxcox Normalization"
   ]
  },
  {
   "cell_type": "code",
   "execution_count": 46,
   "id": "98126ead",
   "metadata": {
    "execution": {
     "iopub.execute_input": "2023-04-11T14:52:34.547664Z",
     "iopub.status.busy": "2023-04-11T14:52:34.547237Z",
     "iopub.status.idle": "2023-04-11T14:52:34.638272Z",
     "shell.execute_reply": "2023-04-11T14:52:34.636992Z"
    },
    "papermill": {
     "duration": 0.118548,
     "end_time": "2023-04-11T14:52:34.641174",
     "exception": false,
     "start_time": "2023-04-11T14:52:34.522626",
     "status": "completed"
    },
    "tags": []
   },
   "outputs": [],
   "source": [
    "df = pd.read_csv('/kaggle/input/bitcoin-and-stock-exchanges/Dataset.csv')\n",
    "df = df.drop(['NYSE', 'NASDAQ', 'LSE', 'BTC_Volume', 'NYSE_Volume', 'NASDAQ_Volume', 'LSE_Volume'], axis = 1)\n",
    "df = df.set_index('Date')\n",
    "df.index = pd.to_datetime(df.index)"
   ]
  },
  {
   "cell_type": "code",
   "execution_count": 47,
   "id": "90fac5d2",
   "metadata": {
    "execution": {
     "iopub.execute_input": "2023-04-11T14:52:34.689183Z",
     "iopub.status.busy": "2023-04-11T14:52:34.688760Z",
     "iopub.status.idle": "2023-04-11T14:52:34.924586Z",
     "shell.execute_reply": "2023-04-11T14:52:34.923496Z"
    },
    "papermill": {
     "duration": 0.262879,
     "end_time": "2023-04-11T14:52:34.926957",
     "exception": false,
     "start_time": "2023-04-11T14:52:34.664078",
     "status": "completed"
    },
    "tags": []
   },
   "outputs": [
    {
     "data": {
      "text/plain": [
       "(array([ 81.,  21., 125., 204., 251.,  41., 137.,  62., 173., 164.]),\n",
       " array([4.04315912, 4.08962751, 4.13609591, 4.1825643 , 4.22903269,\n",
       "        4.27550109, 4.32196948, 4.36843787, 4.41490626, 4.46137466,\n",
       "        4.50784305]),\n",
       " <BarContainer object of 10 artists>)"
      ]
     },
     "execution_count": 47,
     "metadata": {},
     "output_type": "execute_result"
    },
    {
     "data": {
      "image/png": "[encoded data removed]",
      "text/plain": [
       "<Figure size 640x480 with 1 Axes>"
      ]
     },
     "metadata": {},
     "output_type": "display_data"
    }
   ],
   "source": [
    "from scipy.stats import boxcox\n",
    "data, lam_bda = boxcox(df['BTC'])\n",
    "plt.hist(data)"
   ]
  },
  {
   "cell_type": "code",
   "execution_count": 48,
   "id": "80c6cbd2",
   "metadata": {
    "execution": {
     "iopub.execute_input": "2023-04-11T14:52:34.976036Z",
     "iopub.status.busy": "2023-04-11T14:52:34.975263Z",
     "iopub.status.idle": "2023-04-11T14:52:34.986045Z",
     "shell.execute_reply": "2023-04-11T14:52:34.985180Z"
    },
    "papermill": {
     "duration": 0.037686,
     "end_time": "2023-04-11T14:52:34.988087",
     "exception": false,
     "start_time": "2023-04-11T14:52:34.950401",
     "status": "completed"
    },
    "tags": []
   },
   "outputs": [
    {
     "data": {
      "text/html": [
       "<div>\n",
       "<style scoped>\n",
       "    .dataframe tbody tr th:only-of-type {\n",
       "        vertical-align: middle;\n",
       "    }\n",
       "\n",
       "    .dataframe tbody tr th {\n",
       "        vertical-align: top;\n",
       "    }\n",
       "\n",
       "    .dataframe thead th {\n",
       "        text-align: right;\n",
       "    }\n",
       "</style>\n",
       "<table border=\"1\" class=\"dataframe\">\n",
       "  <thead>\n",
       "    <tr style=\"text-align: right;\">\n",
       "      <th></th>\n",
       "      <th>BTC</th>\n",
       "    </tr>\n",
       "    <tr>\n",
       "      <th>Date</th>\n",
       "      <th></th>\n",
       "    </tr>\n",
       "  </thead>\n",
       "  <tbody>\n",
       "    <tr>\n",
       "      <th>2018-01-02</th>\n",
       "      <td>4.311827</td>\n",
       "    </tr>\n",
       "    <tr>\n",
       "      <th>2018-01-03</th>\n",
       "      <td>4.314005</td>\n",
       "    </tr>\n",
       "    <tr>\n",
       "      <th>2018-01-04</th>\n",
       "      <td>4.317873</td>\n",
       "    </tr>\n",
       "    <tr>\n",
       "      <th>2018-01-05</th>\n",
       "      <td>4.334247</td>\n",
       "    </tr>\n",
       "    <tr>\n",
       "      <th>2018-01-08</th>\n",
       "      <td>4.313700</td>\n",
       "    </tr>\n",
       "  </tbody>\n",
       "</table>\n",
       "</div>"
      ],
      "text/plain": [
       "                 BTC\n",
       "Date                \n",
       "2018-01-02  4.311827\n",
       "2018-01-03  4.314005\n",
       "2018-01-04  4.317873\n",
       "2018-01-05  4.334247\n",
       "2018-01-08  4.313700"
      ]
     },
     "execution_count": 48,
     "metadata": {},
     "output_type": "execute_result"
    }
   ],
   "source": [
    "df['BTC'] = data \n",
    "df.head()"
   ]
  },
  {
   "cell_type": "code",
   "execution_count": 49,
   "id": "0eea37c5",
   "metadata": {
    "execution": {
     "iopub.execute_input": "2023-04-11T14:52:35.036483Z",
     "iopub.status.busy": "2023-04-11T14:52:35.036038Z",
     "iopub.status.idle": "2023-04-11T14:52:35.418691Z",
     "shell.execute_reply": "2023-04-11T14:52:35.417385Z"
    },
    "papermill": {
     "duration": 0.410271,
     "end_time": "2023-04-11T14:52:35.421476",
     "exception": false,
     "start_time": "2023-04-11T14:52:35.011205",
     "status": "completed"
    },
    "tags": []
   },
   "outputs": [
    {
     "data": {
      "text/html": [
       "<div>\n",
       "<style scoped>\n",
       "    .dataframe tbody tr th:only-of-type {\n",
       "        vertical-align: middle;\n",
       "    }\n",
       "\n",
       "    .dataframe tbody tr th {\n",
       "        vertical-align: top;\n",
       "    }\n",
       "\n",
       "    .dataframe thead th {\n",
       "        text-align: right;\n",
       "    }\n",
       "</style>\n",
       "<table border=\"1\" class=\"dataframe\">\n",
       "  <thead>\n",
       "    <tr style=\"text-align: right;\">\n",
       "      <th></th>\n",
       "      <th>BTC</th>\n",
       "      <th>moving_avg</th>\n",
       "      <th>ema_12</th>\n",
       "      <th>ema_26</th>\n",
       "      <th>macd</th>\n",
       "      <th>macd_signal</th>\n",
       "      <th>rsi</th>\n",
       "      <th>aroon_oscillator</th>\n",
       "    </tr>\n",
       "    <tr>\n",
       "      <th>Date</th>\n",
       "      <th></th>\n",
       "      <th></th>\n",
       "      <th></th>\n",
       "      <th></th>\n",
       "      <th></th>\n",
       "      <th></th>\n",
       "      <th></th>\n",
       "      <th></th>\n",
       "    </tr>\n",
       "  </thead>\n",
       "  <tbody>\n",
       "    <tr>\n",
       "      <th>2022-12-23</th>\n",
       "      <td>4.328831</td>\n",
       "      <td>4.330451</td>\n",
       "      <td>4.330099</td>\n",
       "      <td>4.331921</td>\n",
       "      <td>-0.001822</td>\n",
       "      <td>-0.002074</td>\n",
       "      <td>47.422805</td>\n",
       "      <td>-64.0</td>\n",
       "    </tr>\n",
       "    <tr>\n",
       "      <th>2022-12-27</th>\n",
       "      <td>4.328131</td>\n",
       "      <td>4.330675</td>\n",
       "      <td>4.329797</td>\n",
       "      <td>4.331641</td>\n",
       "      <td>-0.001844</td>\n",
       "      <td>-0.002028</td>\n",
       "      <td>44.559768</td>\n",
       "      <td>-64.0</td>\n",
       "    </tr>\n",
       "    <tr>\n",
       "      <th>2022-12-28</th>\n",
       "      <td>4.326673</td>\n",
       "      <td>4.330724</td>\n",
       "      <td>4.329316</td>\n",
       "      <td>4.331273</td>\n",
       "      <td>-0.001957</td>\n",
       "      <td>-0.002014</td>\n",
       "      <td>45.523933</td>\n",
       "      <td>-60.0</td>\n",
       "    </tr>\n",
       "    <tr>\n",
       "      <th>2022-12-29</th>\n",
       "      <td>4.327470</td>\n",
       "      <td>4.330495</td>\n",
       "      <td>4.329032</td>\n",
       "      <td>4.330991</td>\n",
       "      <td>-0.001959</td>\n",
       "      <td>-0.002003</td>\n",
       "      <td>40.362678</td>\n",
       "      <td>-48.0</td>\n",
       "    </tr>\n",
       "    <tr>\n",
       "      <th>2022-12-30</th>\n",
       "      <td>4.327118</td>\n",
       "      <td>4.330335</td>\n",
       "      <td>4.328738</td>\n",
       "      <td>4.330704</td>\n",
       "      <td>-0.001967</td>\n",
       "      <td>-0.001996</td>\n",
       "      <td>41.139918</td>\n",
       "      <td>-48.0</td>\n",
       "    </tr>\n",
       "  </tbody>\n",
       "</table>\n",
       "</div>"
      ],
      "text/plain": [
       "                 BTC  moving_avg    ema_12    ema_26      macd  macd_signal  \\\n",
       "Date                                                                          \n",
       "2022-12-23  4.328831    4.330451  4.330099  4.331921 -0.001822    -0.002074   \n",
       "2022-12-27  4.328131    4.330675  4.329797  4.331641 -0.001844    -0.002028   \n",
       "2022-12-28  4.326673    4.330724  4.329316  4.331273 -0.001957    -0.002014   \n",
       "2022-12-29  4.327470    4.330495  4.329032  4.330991 -0.001959    -0.002003   \n",
       "2022-12-30  4.327118    4.330335  4.328738  4.330704 -0.001967    -0.001996   \n",
       "\n",
       "                  rsi  aroon_oscillator  \n",
       "Date                                     \n",
       "2022-12-23  47.422805             -64.0  \n",
       "2022-12-27  44.559768             -64.0  \n",
       "2022-12-28  45.523933             -60.0  \n",
       "2022-12-29  40.362678             -48.0  \n",
       "2022-12-30  41.139918             -48.0  "
      ]
     },
     "execution_count": 49,
     "metadata": {},
     "output_type": "execute_result"
    }
   ],
   "source": [
    "df['moving_avg'] = df['BTC'].rolling(window = 20).mean()\n",
    "df['ema_12'] = df['BTC'].ewm(span = 12, adjust = False).mean()\n",
    "df['ema_26'] = df['BTC'].ewm(span = 26, adjust = False).mean()\n",
    "df['macd'] = df['ema_12'] - df['ema_26']\n",
    "df['macd_signal'] = df['macd'].ewm(span=9, adjust = False).mean()\n",
    "delta = df['BTC'].diff()\n",
    "gain = delta.where(delta > 0, 0)\n",
    "loss = -delta.where(delta < 0, 0)\n",
    "avg_gain = gain.rolling(window = 14).mean()\n",
    "avg_loss = loss.rolling(window = 14).mean()\n",
    "rs = avg_gain / avg_loss\n",
    "df['rsi'] = 100 - (100 / (1 + rs))\n",
    "aroon_up = 100 * ((25 - (df['BTC'].rolling(25).apply(lambda x: x.argmax() + 1))) / 25)\n",
    "aroon_down = 100 * ((25 - (df['BTC'].rolling(25).apply(lambda x: x.argmin() + 1))) / 25)\n",
    "df['aroon_oscillator'] = aroon_up - aroon_down\n",
    "df.tail()"
   ]
  },
  {
   "cell_type": "code",
   "execution_count": 50,
   "id": "a7222277",
   "metadata": {
    "execution": {
     "iopub.execute_input": "2023-04-11T14:52:35.471794Z",
     "iopub.status.busy": "2023-04-11T14:52:35.470938Z",
     "iopub.status.idle": "2023-04-11T14:52:35.492040Z",
     "shell.execute_reply": "2023-04-11T14:52:35.490634Z"
    },
    "papermill": {
     "duration": 0.049508,
     "end_time": "2023-04-11T14:52:35.494970",
     "exception": false,
     "start_time": "2023-04-11T14:52:35.445462",
     "status": "completed"
    },
    "tags": []
   },
   "outputs": [],
   "source": [
    "target_map = df['BTC'].to_dict()\n",
    "df['BTC+1'] = (df.index + pd.Timedelta('1 days')).map(target_map)\n",
    "df['BTC+1'] = df['BTC+1'].fillna(method = 'ffill')"
   ]
  },
  {
   "cell_type": "code",
   "execution_count": 51,
   "id": "ad9bf51d",
   "metadata": {
    "execution": {
     "iopub.execute_input": "2023-04-11T14:52:35.545192Z",
     "iopub.status.busy": "2023-04-11T14:52:35.544038Z",
     "iopub.status.idle": "2023-04-11T14:52:35.554926Z",
     "shell.execute_reply": "2023-04-11T14:52:35.553481Z"
    },
    "papermill": {
     "duration": 0.038954,
     "end_time": "2023-04-11T14:52:35.557747",
     "exception": false,
     "start_time": "2023-04-11T14:52:35.518793",
     "status": "completed"
    },
    "tags": []
   },
   "outputs": [],
   "source": [
    "size = int(len(df) * 0.8)\n",
    "df_train = df.iloc[:size]\n",
    "df_test = df.iloc[size:]\n",
    "y_train = df_train['BTC+1']\n",
    "y_test = df_test['BTC+1']\n",
    "x_train = df_train.drop(['BTC', 'BTC+1'], axis =1)\n",
    "x_test = df_test.drop(['BTC','BTC+1'], axis = 1)"
   ]
  },
  {
   "cell_type": "code",
   "execution_count": 52,
   "id": "59eb36ef",
   "metadata": {
    "execution": {
     "iopub.execute_input": "2023-04-11T14:52:35.606996Z",
     "iopub.status.busy": "2023-04-11T14:52:35.606555Z",
     "iopub.status.idle": "2023-04-11T14:52:39.324542Z",
     "shell.execute_reply": "2023-04-11T14:52:39.323137Z"
    },
    "papermill": {
     "duration": 3.746172,
     "end_time": "2023-04-11T14:52:39.327550",
     "exception": false,
     "start_time": "2023-04-11T14:52:35.581378",
     "status": "completed"
    },
    "tags": []
   },
   "outputs": [
    {
     "name": "stdout",
     "output_type": "stream",
     "text": [
      "[14:52:35] WARNING: ../src/objective/regression_obj.cu:203: reg:linear is now deprecated in favor of reg:squarederror.\n",
      "[0]\tvalidation_0-rmse:3.73781\tvalidation_1-rmse:3.85358\n",
      "[100]\tvalidation_0-rmse:1.37183\tvalidation_1-rmse:1.39865\n",
      "[200]\tvalidation_0-rmse:0.50404\tvalidation_1-rmse:0.49771\n",
      "[300]\tvalidation_0-rmse:0.18565\tvalidation_1-rmse:0.16843\n",
      "[400]\tvalidation_0-rmse:0.06892\tvalidation_1-rmse:0.05283\n",
      "[500]\tvalidation_0-rmse:0.02651\tvalidation_1-rmse:0.01981\n",
      "[581]\tvalidation_0-rmse:0.01363\tvalidation_1-rmse:0.02015\n"
     ]
    },
    {
     "data": {
      "text/plain": [
       "XGBRegressor(base_score=0.5, booster='gbtree', callbacks=None,\n",
       "             colsample_bylevel=1, colsample_bynode=1, colsample_bytree=1,\n",
       "             early_stopping_rounds=50, enable_categorical=False,\n",
       "             eval_metric=None, gamma=0, gpu_id=-1, grow_policy='depthwise',\n",
       "             importance_type=None, interaction_constraints='',\n",
       "             learning_rate=0.01, max_bin=256, max_cat_to_onehot=4,\n",
       "             max_delta_step=0, max_depth=3, max_leaves=0, min_child_weight=1,\n",
       "             missing=nan, monotone_constraints='()', n_estimators=1000,\n",
       "             n_jobs=0, num_parallel_tree=1, objective='reg:linear',\n",
       "             predictor='auto', random_state=0, reg_alpha=0, ...)"
      ]
     },
     "execution_count": 52,
     "metadata": {},
     "output_type": "execute_result"
    }
   ],
   "source": [
    "reg = xgb.XGBRegressor(base_score=0.5, booster='gbtree',    \n",
    "                           n_estimators=1000,\n",
    "                           early_stopping_rounds=50,\n",
    "                           objective='reg:linear',\n",
    "                           max_depth=3,learning_rate=0.01)\n",
    "reg.fit(x_train, y_train,\n",
    "        eval_set=[(x_train, y_train), (x_test, y_test)],\n",
    "        verbose=100)"
   ]
  },
  {
   "cell_type": "code",
   "execution_count": 53,
   "id": "81a4902c",
   "metadata": {
    "execution": {
     "iopub.execute_input": "2023-04-11T14:52:39.383231Z",
     "iopub.status.busy": "2023-04-11T14:52:39.382411Z",
     "iopub.status.idle": "2023-04-11T14:52:39.405471Z",
     "shell.execute_reply": "2023-04-11T14:52:39.404330Z"
    },
    "papermill": {
     "duration": 0.055152,
     "end_time": "2023-04-11T14:52:39.408762",
     "exception": false,
     "start_time": "2023-04-11T14:52:39.353610",
     "status": "completed"
    },
    "tags": []
   },
   "outputs": [
    {
     "data": {
      "text/plain": [
       "4147.233049544157"
      ]
     },
     "execution_count": 53,
     "metadata": {},
     "output_type": "execute_result"
    }
   ],
   "source": [
    "from scipy.special import inv_boxcox\n",
    "y_pred = reg.predict(x_test)\n",
    "y_test = inv_boxcox(y_test,lam_bda)\n",
    "y_pred = inv_boxcox(y_pred, lam_bda)\n",
    "score = np.sqrt(mean_squared_error(y_test, y_pred))\n",
    "score"
   ]
  },
  {
   "cell_type": "code",
   "execution_count": 54,
   "id": "6403884e",
   "metadata": {
    "execution": {
     "iopub.execute_input": "2023-04-11T14:52:39.462442Z",
     "iopub.status.busy": "2023-04-11T14:52:39.461949Z",
     "iopub.status.idle": "2023-04-11T14:52:39.487468Z",
     "shell.execute_reply": "2023-04-11T14:52:39.486128Z"
    },
    "papermill": {
     "duration": 0.055013,
     "end_time": "2023-04-11T14:52:39.490488",
     "exception": false,
     "start_time": "2023-04-11T14:52:39.435475",
     "status": "completed"
    },
    "tags": []
   },
   "outputs": [
    {
     "data": {
      "text/html": [
       "<div>\n",
       "<style scoped>\n",
       "    .dataframe tbody tr th:only-of-type {\n",
       "        vertical-align: middle;\n",
       "    }\n",
       "\n",
       "    .dataframe tbody tr th {\n",
       "        vertical-align: top;\n",
       "    }\n",
       "\n",
       "    .dataframe thead th {\n",
       "        text-align: right;\n",
       "    }\n",
       "</style>\n",
       "<table border=\"1\" class=\"dataframe\">\n",
       "  <thead>\n",
       "    <tr style=\"text-align: right;\">\n",
       "      <th></th>\n",
       "      <th>Pred</th>\n",
       "      <th>Actual</th>\n",
       "    </tr>\n",
       "    <tr>\n",
       "      <th>Date</th>\n",
       "      <th></th>\n",
       "      <th></th>\n",
       "    </tr>\n",
       "  </thead>\n",
       "  <tbody>\n",
       "    <tr>\n",
       "      <th>2022-01-01</th>\n",
       "      <td>39248.378906</td>\n",
       "      <td>46306.44531</td>\n",
       "    </tr>\n",
       "    <tr>\n",
       "      <th>2022-01-04</th>\n",
       "      <td>38103.222656</td>\n",
       "      <td>45897.57422</td>\n",
       "    </tr>\n",
       "    <tr>\n",
       "      <th>2022-01-05</th>\n",
       "      <td>38099.738281</td>\n",
       "      <td>43569.00391</td>\n",
       "    </tr>\n",
       "    <tr>\n",
       "      <th>2022-01-06</th>\n",
       "      <td>37337.218750</td>\n",
       "      <td>43160.92969</td>\n",
       "    </tr>\n",
       "    <tr>\n",
       "      <th>2022-01-07</th>\n",
       "      <td>37433.304688</td>\n",
       "      <td>41557.90234</td>\n",
       "    </tr>\n",
       "    <tr>\n",
       "      <th>...</th>\n",
       "      <td>...</td>\n",
       "      <td>...</td>\n",
       "    </tr>\n",
       "    <tr>\n",
       "      <th>2022-12-24</th>\n",
       "      <td>15910.783203</td>\n",
       "      <td>16796.95313</td>\n",
       "    </tr>\n",
       "    <tr>\n",
       "      <th>2022-12-28</th>\n",
       "      <td>15692.584961</td>\n",
       "      <td>16552.57227</td>\n",
       "    </tr>\n",
       "    <tr>\n",
       "      <th>2022-12-29</th>\n",
       "      <td>15910.783203</td>\n",
       "      <td>16642.34180</td>\n",
       "    </tr>\n",
       "    <tr>\n",
       "      <th>2022-12-30</th>\n",
       "      <td>15667.804688</td>\n",
       "      <td>16602.58594</td>\n",
       "    </tr>\n",
       "    <tr>\n",
       "      <th>2022-12-31</th>\n",
       "      <td>15692.584961</td>\n",
       "      <td>16602.58594</td>\n",
       "    </tr>\n",
       "  </tbody>\n",
       "</table>\n",
       "<p>252 rows × 2 columns</p>\n",
       "</div>"
      ],
      "text/plain": [
       "                    Pred       Actual\n",
       "Date                                 \n",
       "2022-01-01  39248.378906  46306.44531\n",
       "2022-01-04  38103.222656  45897.57422\n",
       "2022-01-05  38099.738281  43569.00391\n",
       "2022-01-06  37337.218750  43160.92969\n",
       "2022-01-07  37433.304688  41557.90234\n",
       "...                  ...          ...\n",
       "2022-12-24  15910.783203  16796.95313\n",
       "2022-12-28  15692.584961  16552.57227\n",
       "2022-12-29  15910.783203  16642.34180\n",
       "2022-12-30  15667.804688  16602.58594\n",
       "2022-12-31  15692.584961  16602.58594\n",
       "\n",
       "[252 rows x 2 columns]"
      ]
     },
     "execution_count": 54,
     "metadata": {},
     "output_type": "execute_result"
    }
   ],
   "source": [
    "pred_vs_actual = pd.DataFrame(data = [y_pred, y_test]).T\n",
    "pred_vs_actual.columns = ['Pred', 'Actual']\n",
    "pred_vs_actual['Date'] = x_test.index + pd.Timedelta('1 days')\n",
    "pred_vs_actual = pred_vs_actual.set_index('Date')\n",
    "pred_vs_actual"
   ]
  },
  {
   "cell_type": "code",
   "execution_count": 55,
   "id": "d92a893f",
   "metadata": {
    "execution": {
     "iopub.execute_input": "2023-04-11T14:52:39.543146Z",
     "iopub.status.busy": "2023-04-11T14:52:39.542654Z",
     "iopub.status.idle": "2023-04-11T14:52:39.898175Z",
     "shell.execute_reply": "2023-04-11T14:52:39.896813Z"
    },
    "papermill": {
     "duration": 0.385042,
     "end_time": "2023-04-11T14:52:39.900957",
     "exception": false,
     "start_time": "2023-04-11T14:52:39.515915",
     "status": "completed"
    },
    "tags": []
   },
   "outputs": [
    {
     "data": {
      "text/plain": [
       "<AxesSubplot:xlabel='Date'>"
      ]
     },
     "execution_count": 55,
     "metadata": {},
     "output_type": "execute_result"
    },
    {
     "data": {
      "image/png": "[encoded data removed]",
      "text/plain": [
       "<Figure size 640x480 with 1 Axes>"
      ]
     },
     "metadata": {},
     "output_type": "display_data"
    }
   ],
   "source": [
    "sns.lineplot(data = pred_vs_actual)"
   ]
  }
 ],
 "metadata": {
  "kernelspec": {
   "display_name": "Python 3",
   "language": "python",
   "name": "python3"
  },
  "language_info": {
   "codemirror_mode": {
    "name": "ipython",
    "version": 3
   },
   "file_extension": ".py",
   "mimetype": "text/x-python",
   "name": "python",
   "nbconvert_exporter": "python",
   "pygments_lexer": "ipython3",
   "version": "3.7.12"
  },
  "papermill": {
   "default_parameters": {},
   "duration": 36.496128,
   "end_time": "2023-04-11T14:52:40.952079",
   "environment_variables": {},
   "exception": null,
   "input_path": "__notebook__.ipynb",
   "output_path": "__notebook__.ipynb",
   "parameters": {},
   "start_time": "2023-04-11T14:52:04.455951",
   "version": "2.4.0"
  }
 },
 "nbformat": 4,
 "nbformat_minor": 5
}
