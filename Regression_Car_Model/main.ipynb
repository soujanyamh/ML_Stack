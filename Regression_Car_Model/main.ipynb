{
 "cells": [
  {
   "cell_type": "code",
   "execution_count": 1,
   "id": "f3470872",
   "metadata": {
    "_cell_guid": "b1076dfc-b9ad-4769-8c92-a6c4dae69d19",
    "_uuid": "8f2839f25d086af736a60e9eeb907d3b93b6e0e5",
    "execution": {
     "iopub.execute_input": "2023-06-01T19:46:09.217626Z",
     "iopub.status.busy": "2023-06-01T19:46:09.217247Z",
     "iopub.status.idle": "2023-06-01T19:46:09.240120Z",
     "shell.execute_reply": "2023-06-01T19:46:09.238278Z"
    },
    "papermill": {
     "duration": 0.041685,
     "end_time": "2023-06-01T19:46:09.242593",
     "exception": false,
     "start_time": "2023-06-01T19:46:09.200908",
     "status": "completed"
    },
    "tags": []
   },
   "outputs": [
    {
     "name": "stdout",
     "output_type": "stream",
     "text": [
      "/kaggle/input/2023-car-model-dataset-all-data-you-need/Car_Models.csv\n"
     ]
    }
   ],
   "source": [
    "# This Python 3 environment comes with many helpful analytics libraries installed\n",
    "# It is defined by the kaggle/python Docker image: https://github.com/kaggle/docker-python\n",
    "# For example, here's several helpful packages to load\n",
    "\n",
    "import numpy as np # linear algebra\n",
    "import pandas as pd # data processing, CSV file I/O (e.g. pd.read_csv)\n",
    "\n",
    "# Input data files are available in the read-only \"../input/\" directory\n",
    "# For example, running this (by clicking run or pressing Shift+Enter) will list all files under the input directory\n",
    "\n",
    "import os\n",
    "for dirname, _, filenames in os.walk('/kaggle/input'):\n",
    "    for filename in filenames:\n",
    "        print(os.path.join(dirname, filename))\n",
    "\n",
    "# You can write up to 20GB to the current directory (/kaggle/working/) that gets preserved as output when you create a version using \"Save & Run All\" \n",
    "# You can also write temporary files to /kaggle/temp/, but they won't be saved outside of the current session"
   ]
  },
  {
   "cell_type": "code",
   "execution_count": 2,
   "id": "5d741921",
   "metadata": {
    "execution": {
     "iopub.execute_input": "2023-06-01T19:46:09.272877Z",
     "iopub.status.busy": "2023-06-01T19:46:09.272419Z",
     "iopub.status.idle": "2023-06-01T19:46:09.333861Z",
     "shell.execute_reply": "2023-06-01T19:46:09.332402Z"
    },
    "papermill": {
     "duration": 0.079474,
     "end_time": "2023-06-01T19:46:09.336495",
     "exception": false,
     "start_time": "2023-06-01T19:46:09.257021",
     "status": "completed"
    },
    "tags": []
   },
   "outputs": [
    {
     "data": {
      "text/html": [
       "<div>\n",
       "<style scoped>\n",
       "    .dataframe tbody tr th:only-of-type {\n",
       "        vertical-align: middle;\n",
       "    }\n",
       "\n",
       "    .dataframe tbody tr th {\n",
       "        vertical-align: top;\n",
       "    }\n",
       "\n",
       "    .dataframe thead th {\n",
       "        text-align: right;\n",
       "    }\n",
       "</style>\n",
       "<table border=\"1\" class=\"dataframe\">\n",
       "  <thead>\n",
       "    <tr style=\"text-align: right;\">\n",
       "      <th></th>\n",
       "      <th>Company</th>\n",
       "      <th>Model</th>\n",
       "      <th>Horsepower</th>\n",
       "      <th>Torque</th>\n",
       "      <th>Transmission Type</th>\n",
       "      <th>Drivetrain</th>\n",
       "      <th>Fuel Economy</th>\n",
       "      <th>Number of Doors</th>\n",
       "      <th>Price</th>\n",
       "      <th>Model Year Range</th>\n",
       "      <th>Body Type</th>\n",
       "      <th>Engine Type</th>\n",
       "      <th>Number of Cylinders</th>\n",
       "    </tr>\n",
       "  </thead>\n",
       "  <tbody>\n",
       "    <tr>\n",
       "      <th>0</th>\n",
       "      <td>Ferrari</td>\n",
       "      <td>812 Superfast</td>\n",
       "      <td>789 hp</td>\n",
       "      <td>530 lb-ft</td>\n",
       "      <td>7-speed automatic</td>\n",
       "      <td>RWD</td>\n",
       "      <td>13/20 mpg</td>\n",
       "      <td>2</td>\n",
       "      <td>$366,712</td>\n",
       "      <td>2018 - Present</td>\n",
       "      <td>Coupe</td>\n",
       "      <td>6.5L V12</td>\n",
       "      <td>12</td>\n",
       "    </tr>\n",
       "    <tr>\n",
       "      <th>1</th>\n",
       "      <td>Ferrari</td>\n",
       "      <td>F8 Tributo</td>\n",
       "      <td>710 hp</td>\n",
       "      <td>568 lb-ft</td>\n",
       "      <td>7-speed automatic</td>\n",
       "      <td>RWD</td>\n",
       "      <td>15/19 mpg</td>\n",
       "      <td>2</td>\n",
       "      <td>$276,550</td>\n",
       "      <td>2020 - Present</td>\n",
       "      <td>Coupe</td>\n",
       "      <td>3.9L V8</td>\n",
       "      <td>8</td>\n",
       "    </tr>\n",
       "    <tr>\n",
       "      <th>2</th>\n",
       "      <td>Ferrari</td>\n",
       "      <td>Roma</td>\n",
       "      <td>611 hp</td>\n",
       "      <td>560 lb-ft</td>\n",
       "      <td>8-speed automatic</td>\n",
       "      <td>RWD</td>\n",
       "      <td>16/24 mpg</td>\n",
       "      <td>2</td>\n",
       "      <td>$218,750</td>\n",
       "      <td>2021 - Present</td>\n",
       "      <td>Coupe</td>\n",
       "      <td>3.9L V8</td>\n",
       "      <td>8</td>\n",
       "    </tr>\n",
       "    <tr>\n",
       "      <th>3</th>\n",
       "      <td>Ferrari</td>\n",
       "      <td>Portofino M</td>\n",
       "      <td>612 hp</td>\n",
       "      <td>561 lb-ft</td>\n",
       "      <td>8-speed automatic</td>\n",
       "      <td>RWD</td>\n",
       "      <td>16/22 mpg</td>\n",
       "      <td>2</td>\n",
       "      <td>$254,475</td>\n",
       "      <td>2021 - Present</td>\n",
       "      <td>Convertible</td>\n",
       "      <td>3.9L V8</td>\n",
       "      <td>8</td>\n",
       "    </tr>\n",
       "    <tr>\n",
       "      <th>4</th>\n",
       "      <td>Ferrari</td>\n",
       "      <td>SF90 Stradale</td>\n",
       "      <td>986 hp</td>\n",
       "      <td>590 lb-ft</td>\n",
       "      <td>8-speed automatic</td>\n",
       "      <td>AWD</td>\n",
       "      <td>18 mpg (combined)</td>\n",
       "      <td>2</td>\n",
       "      <td>$625,000</td>\n",
       "      <td>2020 - Present</td>\n",
       "      <td>Coupe</td>\n",
       "      <td>4.0L V8</td>\n",
       "      <td>8</td>\n",
       "    </tr>\n",
       "  </tbody>\n",
       "</table>\n",
       "</div>"
      ],
      "text/plain": [
       "   Company          Model Horsepower     Torque  Transmission Type Drivetrain  \\\n",
       "0  Ferrari  812 Superfast     789 hp  530 lb-ft  7-speed automatic        RWD   \n",
       "1  Ferrari     F8 Tributo     710 hp  568 lb-ft  7-speed automatic        RWD   \n",
       "2  Ferrari           Roma     611 hp  560 lb-ft  8-speed automatic        RWD   \n",
       "3  Ferrari    Portofino M     612 hp  561 lb-ft  8-speed automatic        RWD   \n",
       "4  Ferrari  SF90 Stradale     986 hp  590 lb-ft  8-speed automatic        AWD   \n",
       "\n",
       "        Fuel Economy Number of Doors     Price Model Year Range    Body Type  \\\n",
       "0          13/20 mpg               2  $366,712   2018 - Present        Coupe   \n",
       "1          15/19 mpg               2  $276,550   2020 - Present        Coupe   \n",
       "2          16/24 mpg               2  $218,750   2021 - Present        Coupe   \n",
       "3          16/22 mpg               2  $254,475   2021 - Present  Convertible   \n",
       "4  18 mpg (combined)               2  $625,000   2020 - Present        Coupe   \n",
       "\n",
       "  Engine Type Number of Cylinders  \n",
       "0    6.5L V12                  12  \n",
       "1     3.9L V8                   8  \n",
       "2     3.9L V8                   8  \n",
       "3     3.9L V8                   8  \n",
       "4     4.0L V8                   8  "
      ]
     },
     "execution_count": 2,
     "metadata": {},
     "output_type": "execute_result"
    }
   ],
   "source": [
    "df_car_models = pd.read_csv(\"/kaggle/input/2023-car-model-dataset-all-data-you-need/Car_Models.csv\")\n",
    "df_car_models.head()"
   ]
  },
  {
   "cell_type": "markdown",
   "id": "6f78ac19",
   "metadata": {
    "papermill": {
     "duration": 0.015379,
     "end_time": "2023-06-01T19:46:09.366507",
     "exception": false,
     "start_time": "2023-06-01T19:46:09.351128",
     "status": "completed"
    },
    "tags": []
   },
   "source": [
    "#### **About this file:** \n",
    "<p>\n",
    "The car model dataset is a comprehensive collection of information about cars. It includes information about the car's specifications, such as:<br>\n",
    "\n",
    "**Company** - The name of the car manufacturer.<br>\n",
    "**Model** - The name of the car model.<br>\n",
    "**Horsepower** - The maximum power output of the car's engine, measured in horsepower.<br>\n",
    "**Torque** - The maximum twisting force of the car's engine, measured in Newton-meters.<br>\n",
    "**Transmission Type** - The type of transmission used in the car, such as manual, automatic, or CVT<br>\n",
    "**Drivetrain** - The type of drivetrain used in the car, such as front-wheel drive, rear-wheel drive, or all-wheel drive.<br>\n",
    "**Fuel Economy** - The fuel efficiency of the car, measured in miles per gallon (mpg) or liters per 100 kilometers (L/100km).<br>\n",
    "**Number of Doors** - The number of doors on the car.<br>\n",
    "**Price** - The price of the car, in US dollars.<br>\n",
    "**Model Year Range** - The range of model years that the car was produced.<br>\n",
    "**Body Type** - The type of body style of the car, such as sedan, SUV, or hatchback.<br>\n",
    "**Engine Type** - The type of engine used in the car, such as gasoline, diesel, or electric.<br>\n",
    "**Number of Cylinders** - The number of cylinders in the car's engine.</p>"
   ]
  },
  {
   "cell_type": "code",
   "execution_count": 3,
   "id": "b4b66e61",
   "metadata": {
    "execution": {
     "iopub.execute_input": "2023-06-01T19:46:09.400036Z",
     "iopub.status.busy": "2023-06-01T19:46:09.398703Z",
     "iopub.status.idle": "2023-06-01T19:46:09.432969Z",
     "shell.execute_reply": "2023-06-01T19:46:09.431757Z"
    },
    "papermill": {
     "duration": 0.054316,
     "end_time": "2023-06-01T19:46:09.435438",
     "exception": false,
     "start_time": "2023-06-01T19:46:09.381122",
     "status": "completed"
    },
    "tags": []
   },
   "outputs": [
    {
     "name": "stdout",
     "output_type": "stream",
     "text": [
      "<class 'pandas.core.frame.DataFrame'>\n",
      "RangeIndex: 404 entries, 0 to 403\n",
      "Data columns (total 13 columns):\n",
      " #   Column               Non-Null Count  Dtype \n",
      "---  ------               --------------  ----- \n",
      " 0   Company              404 non-null    object\n",
      " 1   Model                404 non-null    object\n",
      " 2   Horsepower           404 non-null    object\n",
      " 3   Torque               404 non-null    object\n",
      " 4   Transmission Type    404 non-null    object\n",
      " 5   Drivetrain           404 non-null    object\n",
      " 6   Fuel Economy         399 non-null    object\n",
      " 7   Number of Doors      404 non-null    object\n",
      " 8   Price                398 non-null    object\n",
      " 9   Model Year Range     403 non-null    object\n",
      " 10  Body Type            403 non-null    object\n",
      " 11  Engine Type          403 non-null    object\n",
      " 12  Number of Cylinders  402 non-null    object\n",
      "dtypes: object(13)\n",
      "memory usage: 41.2+ KB\n"
     ]
    }
   ],
   "source": [
    "df_car_models.info()"
   ]
  },
  {
   "cell_type": "code",
   "execution_count": 4,
   "id": "57291386",
   "metadata": {
    "execution": {
     "iopub.execute_input": "2023-06-01T19:46:09.467091Z",
     "iopub.status.busy": "2023-06-01T19:46:09.466103Z",
     "iopub.status.idle": "2023-06-01T19:46:09.506016Z",
     "shell.execute_reply": "2023-06-01T19:46:09.504774Z"
    },
    "papermill": {
     "duration": 0.058363,
     "end_time": "2023-06-01T19:46:09.508495",
     "exception": false,
     "start_time": "2023-06-01T19:46:09.450132",
     "status": "completed"
    },
    "tags": []
   },
   "outputs": [
    {
     "data": {
      "text/html": [
       "<div>\n",
       "<style scoped>\n",
       "    .dataframe tbody tr th:only-of-type {\n",
       "        vertical-align: middle;\n",
       "    }\n",
       "\n",
       "    .dataframe tbody tr th {\n",
       "        vertical-align: top;\n",
       "    }\n",
       "\n",
       "    .dataframe thead th {\n",
       "        text-align: right;\n",
       "    }\n",
       "</style>\n",
       "<table border=\"1\" class=\"dataframe\">\n",
       "  <thead>\n",
       "    <tr style=\"text-align: right;\">\n",
       "      <th></th>\n",
       "      <th>Company</th>\n",
       "      <th>Model</th>\n",
       "      <th>Horsepower</th>\n",
       "      <th>Torque</th>\n",
       "      <th>Transmission Type</th>\n",
       "      <th>Drivetrain</th>\n",
       "      <th>Fuel Economy</th>\n",
       "      <th>Number of Doors</th>\n",
       "      <th>Price</th>\n",
       "      <th>Model Year Range</th>\n",
       "      <th>Body Type</th>\n",
       "      <th>Engine Type</th>\n",
       "      <th>Number of Cylinders</th>\n",
       "    </tr>\n",
       "  </thead>\n",
       "  <tbody>\n",
       "    <tr>\n",
       "      <th>count</th>\n",
       "      <td>404</td>\n",
       "      <td>404</td>\n",
       "      <td>404</td>\n",
       "      <td>404</td>\n",
       "      <td>404</td>\n",
       "      <td>404</td>\n",
       "      <td>399</td>\n",
       "      <td>404</td>\n",
       "      <td>398</td>\n",
       "      <td>403</td>\n",
       "      <td>403</td>\n",
       "      <td>403</td>\n",
       "      <td>402</td>\n",
       "    </tr>\n",
       "    <tr>\n",
       "      <th>unique</th>\n",
       "      <td>62</td>\n",
       "      <td>374</td>\n",
       "      <td>232</td>\n",
       "      <td>205</td>\n",
       "      <td>68</td>\n",
       "      <td>22</td>\n",
       "      <td>250</td>\n",
       "      <td>22</td>\n",
       "      <td>323</td>\n",
       "      <td>125</td>\n",
       "      <td>31</td>\n",
       "      <td>94</td>\n",
       "      <td>23</td>\n",
       "    </tr>\n",
       "    <tr>\n",
       "      <th>top</th>\n",
       "      <td>Chevrolet</td>\n",
       "      <td>Zoe</td>\n",
       "      <td>148 hp</td>\n",
       "      <td>184 lb-ft</td>\n",
       "      <td>8-speed automatic</td>\n",
       "      <td>Front-wheel drive</td>\n",
       "      <td>9 mpg</td>\n",
       "      <td>5</td>\n",
       "      <td>Starting at $32,990</td>\n",
       "      <td>2023-2024</td>\n",
       "      <td>SUV</td>\n",
       "      <td>4-cylinder</td>\n",
       "      <td>4</td>\n",
       "    </tr>\n",
       "    <tr>\n",
       "      <th>freq</th>\n",
       "      <td>20</td>\n",
       "      <td>2</td>\n",
       "      <td>12</td>\n",
       "      <td>19</td>\n",
       "      <td>81</td>\n",
       "      <td>79</td>\n",
       "      <td>10</td>\n",
       "      <td>121</td>\n",
       "      <td>5</td>\n",
       "      <td>85</td>\n",
       "      <td>135</td>\n",
       "      <td>93</td>\n",
       "      <td>163</td>\n",
       "    </tr>\n",
       "  </tbody>\n",
       "</table>\n",
       "</div>"
      ],
      "text/plain": [
       "          Company Model Horsepower     Torque  Transmission Type  \\\n",
       "count         404   404        404        404                404   \n",
       "unique         62   374        232        205                 68   \n",
       "top     Chevrolet   Zoe     148 hp  184 lb-ft  8-speed automatic   \n",
       "freq           20     2         12         19                 81   \n",
       "\n",
       "               Drivetrain Fuel Economy Number of Doors                Price  \\\n",
       "count                 404          399             404                  398   \n",
       "unique                 22          250              22                  323   \n",
       "top     Front-wheel drive        9 mpg               5  Starting at $32,990   \n",
       "freq                   79           10             121                    5   \n",
       "\n",
       "       Model Year Range Body Type Engine Type Number of Cylinders  \n",
       "count               403       403         403                 402  \n",
       "unique              125        31          94                  23  \n",
       "top           2023-2024       SUV  4-cylinder                   4  \n",
       "freq                 85       135          93                 163  "
      ]
     },
     "execution_count": 4,
     "metadata": {},
     "output_type": "execute_result"
    }
   ],
   "source": [
    "df_car_models.describe()"
   ]
  },
  {
   "cell_type": "code",
   "execution_count": 5,
   "id": "eb47ae0a",
   "metadata": {
    "execution": {
     "iopub.execute_input": "2023-06-01T19:46:09.541488Z",
     "iopub.status.busy": "2023-06-01T19:46:09.541122Z",
     "iopub.status.idle": "2023-06-01T19:46:09.547890Z",
     "shell.execute_reply": "2023-06-01T19:46:09.546757Z"
    },
    "papermill": {
     "duration": 0.026459,
     "end_time": "2023-06-01T19:46:09.550265",
     "exception": false,
     "start_time": "2023-06-01T19:46:09.523806",
     "status": "completed"
    },
    "tags": []
   },
   "outputs": [
    {
     "data": {
      "text/plain": [
       "Index(['Company', 'Model', 'Horsepower', 'Torque', 'Transmission Type',\n",
       "       'Drivetrain', 'Fuel Economy', 'Number of Doors', 'Price',\n",
       "       'Model Year Range', 'Body Type', 'Engine Type', 'Number of Cylinders'],\n",
       "      dtype='object')"
      ]
     },
     "execution_count": 5,
     "metadata": {},
     "output_type": "execute_result"
    }
   ],
   "source": [
    "df_car_models.columns"
   ]
  },
  {
   "cell_type": "code",
   "execution_count": 6,
   "id": "91e43e31",
   "metadata": {
    "execution": {
     "iopub.execute_input": "2023-06-01T19:46:09.583221Z",
     "iopub.status.busy": "2023-06-01T19:46:09.582845Z",
     "iopub.status.idle": "2023-06-01T19:46:09.593094Z",
     "shell.execute_reply": "2023-06-01T19:46:09.591992Z"
    },
    "papermill": {
     "duration": 0.029739,
     "end_time": "2023-06-01T19:46:09.595912",
     "exception": false,
     "start_time": "2023-06-01T19:46:09.566173",
     "status": "completed"
    },
    "tags": []
   },
   "outputs": [
    {
     "data": {
      "text/plain": [
       "Company                0\n",
       "Model                  0\n",
       "Horsepower             0\n",
       "Torque                 0\n",
       "Transmission Type      0\n",
       "Drivetrain             0\n",
       "Fuel Economy           5\n",
       "Number of Doors        0\n",
       "Price                  6\n",
       "Model Year Range       1\n",
       "Body Type              1\n",
       "Engine Type            1\n",
       "Number of Cylinders    2\n",
       "dtype: int64"
      ]
     },
     "execution_count": 6,
     "metadata": {},
     "output_type": "execute_result"
    }
   ],
   "source": [
    "df_car_models.isna().sum()"
   ]
  },
  {
   "cell_type": "code",
   "execution_count": 7,
   "id": "66a0a0f3",
   "metadata": {
    "execution": {
     "iopub.execute_input": "2023-06-01T19:46:09.628179Z",
     "iopub.status.busy": "2023-06-01T19:46:09.627814Z",
     "iopub.status.idle": "2023-06-01T19:46:09.642666Z",
     "shell.execute_reply": "2023-06-01T19:46:09.640980Z"
    },
    "papermill": {
     "duration": 0.033807,
     "end_time": "2023-06-01T19:46:09.645077",
     "exception": false,
     "start_time": "2023-06-01T19:46:09.611270",
     "status": "completed"
    },
    "tags": []
   },
   "outputs": [
    {
     "data": {
      "text/plain": [
       "Company                0\n",
       "Model                  0\n",
       "Horsepower             0\n",
       "Torque                 0\n",
       "Transmission Type      0\n",
       "Drivetrain             0\n",
       "Fuel Economy           0\n",
       "Number of Doors        0\n",
       "Price                  0\n",
       "Model Year Range       0\n",
       "Body Type              0\n",
       "Engine Type            0\n",
       "Number of Cylinders    0\n",
       "dtype: int64"
      ]
     },
     "execution_count": 7,
     "metadata": {},
     "output_type": "execute_result"
    }
   ],
   "source": [
    "# dropping missing values\n",
    "df_car_models=df_car_models.dropna()\n",
    "df_car_models.isna().sum()"
   ]
  },
  {
   "cell_type": "code",
   "execution_count": 8,
   "id": "82a341dd",
   "metadata": {
    "execution": {
     "iopub.execute_input": "2023-06-01T19:46:09.678215Z",
     "iopub.status.busy": "2023-06-01T19:46:09.677836Z",
     "iopub.status.idle": "2023-06-01T19:46:09.687151Z",
     "shell.execute_reply": "2023-06-01T19:46:09.685737Z"
    },
    "papermill": {
     "duration": 0.029546,
     "end_time": "2023-06-01T19:46:09.690134",
     "exception": false,
     "start_time": "2023-06-01T19:46:09.660588",
     "status": "completed"
    },
    "tags": []
   },
   "outputs": [
    {
     "data": {
      "text/plain": [
       "array(['789 hp', '710 hp', '611 hp', '612 hp', '986 hp', '711 hp',\n",
       "       '680 hp', '661 hp', '553 hp', '950 hp', '109 hp', '140 hp',\n",
       "       '152 hp (petrol), 132 hp (diesel)', '75 hp', '121 hp', '178 hp',\n",
       "       '203-301 hp', '169 hp', '203-219 hp', '295-295 hp', '270 hp',\n",
       "       '159-278 hp', '381 hp', '310-760 hp', '290-450 hp', '300-400 hp',\n",
       "       '181-250 hp', '250-335 hp', '181-245 hp', '275-650', '490-755',\n",
       "       '98', '170-252', '355', '355-420', '285-420', '200-308', '188-248',\n",
       "       '300', '149-188', '122', '181', '260', '284-284', '390', '565-600',\n",
       "       '228 hp', '248 hp', '335 hp', '255 hp', '473 hp', '600 hp',\n",
       "       '429 hp', '416 hp', '184 hp', '201 hp', '261 hp', '110-292',\n",
       "       '147-228', '174-276', '235-276', '184-268', '300 hp', '379 hp',\n",
       "       '325 hp', '563', '624', '533 hp', '562 hp', '592 hp', '671 hp',\n",
       "       '203-302', '241-311', '416-471', '169-181', '235-239', '290-308',\n",
       "       '301', '383', '147 - 201', '191 - 290', '161 - 181', '191 - 277',\n",
       "       '147 - 195', '120', '291', '147 hp', '185 hp - 290 hp',\n",
       "       '255 hp - 368 hp', '191 hp - 281 hp', '147 hp - 201 hp', '291 hp',\n",
       "       '155-250', '187-250', '146', '187-227', '227-250', '260 hp',\n",
       "       '152 hp', '182 hp', '205 hp', '268 hp',\n",
       "       '137 hp (gasoline engine) 118 hp (electric motor)', '166 hp',\n",
       "       '78 hp', '148 hp', '670-1020 hp', '283-450 hp', '375-797 hp',\n",
       "       '370-797 hp', '295-395 hp', '174-292 hp', '295-410 hp',\n",
       "       '350-420 hp', '375-420 hp', '702 hp', '187 hp', '250 hp', '408 hp',\n",
       "       '296 hp', '355 hp', '247 hp', '395 hp', '380 hp', '70 hp',\n",
       "       '160 hp', '280 hp', '505 hp', '108 hp', '175 hp', '158 hp',\n",
       "       '180 hp', '272 hp', '119 hp', '153 hp', '154 hp', '138 hp',\n",
       "       '188 hp', '134 hp', '95 hp', '110 hp', '189 hp', '181 hp',\n",
       "       '301 hp', '227 hp', '283 hp', '840 hp', '645-640 hp', '1,500 hp',\n",
       "       '1,001 hp', '552 hp', '345 hp', '424 hp', '454 hp', '730 hp',\n",
       "       '760 hp', '851 hp', '827 hp', '1,700 hp', '1,600 hp', '1,176 hp',\n",
       "       '1,360 hp', '1,140 hp', '1,115 hp', '1,018 hp', '806 hp', '375 hp',\n",
       "       '619 hp', '476 hp', '819 hp', '1,111 hp', '835 hp', '1050 hp',\n",
       "       '455 hp', '237 hp', '360 hp', '668 hp', '420 hp', '310 hp',\n",
       "       '170 hp', '620 hp', '363 hp', '287 hp', '275 hp', '350 hp',\n",
       "       '295 hp', '400 hp', '390 hp', '281 hp', '302 hp', '215 hp',\n",
       "       '2,000 hp', '367 hp', '89 hp', '91 hp', '68 hp', '115 hp',\n",
       "       '101 hp', '103 hp', '177 hp', '130 hp',\n",
       "       '318 PS (314 bhp - 234 kW)', '517 PS (510 bhp - 380 kW)',\n",
       "       '400 PS (395 bhp - 294 kW)', '630 PS (621 bhp - 462 kW)',\n",
       "       '160 PS (158 bhp - 118 kW)', '300 bhp (224 kW)', '555 hp',\n",
       "       '631 hp', '650 hp', '449 hp', '570 hp', '203 hp', '139 hp',\n",
       "       '159 hp', '382 hp', '71 hp', '192 hp', '190 hp', '151 hp',\n",
       "       '573 hp', '240 hp', '490 hp', '230 hp', '85 bhp', '108 bhp',\n",
       "       '170 bhp', '90 hp', '117 bhp @ 3500 rpm'], dtype=object)"
      ]
     },
     "execution_count": 8,
     "metadata": {},
     "output_type": "execute_result"
    }
   ],
   "source": [
    "df_car_models['Horsepower'].unique()"
   ]
  },
  {
   "cell_type": "code",
   "execution_count": 9,
   "id": "26d987bf",
   "metadata": {
    "execution": {
     "iopub.execute_input": "2023-06-01T19:46:09.724875Z",
     "iopub.status.busy": "2023-06-01T19:46:09.724465Z",
     "iopub.status.idle": "2023-06-01T19:46:09.734234Z",
     "shell.execute_reply": "2023-06-01T19:46:09.732733Z"
    },
    "papermill": {
     "duration": 0.030068,
     "end_time": "2023-06-01T19:46:09.737106",
     "exception": false,
     "start_time": "2023-06-01T19:46:09.707038",
     "status": "completed"
    },
    "tags": []
   },
   "outputs": [
    {
     "data": {
      "text/plain": [
       "array(['530 lb-ft', '568 lb-ft', '560 lb-ft', '561 lb-ft', '590 lb-ft',\n",
       "       '514 lb-ft', '557 lb-ft', '664 lb-ft', '200 Nm', '320 Nm',\n",
       "       '320 Nm (petrol), 300 Nm (diesel)', '210 Nm', '300 Nm', '420 Nm',\n",
       "       '182-267 lb-ft', '151 lb-ft', '184-265 lb-ft', '263-263 lb-ft',\n",
       "       '278 lb-ft', '180-265 lb-ft', '401 lb-ft', '350-625 lb-ft',\n",
       "       '265-510 lb-ft', '310-415 lb-ft', '190-280 lb-ft', '275-380 lb-ft',\n",
       "       '310 lb-ft', '190-275 lb-ft', '295-650', '465-715', '94',\n",
       "       '203-260', '383', '383-460', '305-460', '191-369', '180-273',\n",
       "       '261', '146-180', '114', '181', '240', '259-259', '394', '467-481',\n",
       "       '258 lb-ft', '330 lb-ft', '295 lb-ft', '406 lb-ft', '553 lb-ft',\n",
       "       '273 lb-ft', '384 lb-ft', '450 lb-ft', '221 lb-ft', '236 lb-ft',\n",
       "       '147-295', '184-258', '206-295', '258-266', '221-258', '280 lb-ft',\n",
       "       '331 lb-ft', '332 lb-ft', '605 lb-ft', '627 lb-ft', '398 lb-ft',\n",
       "       '443 lb-ft', '457 lb-ft', '531 lb-ft', '184-267 lb-ft',\n",
       "       '258-280 lb-ft', '442-398 lb-ft', '151-151 lb-ft', '263-268 lb-ft',\n",
       "       '329 lb-ft', '403 lb-ft', '132 - 195', '181 - 311', '150 - 175',\n",
       "       '113', '262', '132 lb-ft', '178 lb-ft - 311 lb-ft',\n",
       "       '260 lb-ft - 376 lb-ft', '181 lb-ft - 311 lb-ft',\n",
       "       '132 lb-ft - 195 lb-ft', '262 lb-ft', '151', '150-320', '186-310',\n",
       "       '146', '310', '277 lb-ft', '145 lb-ft', '176 lb-ft', '156 lb-ft',\n",
       "       '134 lb-ft', '162 lb-ft', '184 lb-ft', '74 lb-ft', '713-920 lb-ft',\n",
       "       '307-471 lb-ft', '410-470 lb-ft', '395-470 lb-ft', '260-410 lb-ft',\n",
       "       '166-260 lb-ft', '330-429 lb-ft', '460-485 lb-ft', '650 lb-ft',\n",
       "       '487 lb-ft', '317 lb-ft', '369 lb-ft', '269 lb-ft', '516 lb-ft',\n",
       "       '339 lb-ft', '177 lb-ft', '306 lb-ft', '138 lb-ft', '195 lb-ft',\n",
       "       '199 lb-ft', '122 lb-ft', '170 lb-ft', '148 lb-ft', '118 lb-ft',\n",
       "       '207 lb-ft', '260 lb-ft', '770 lb-ft', '600-600 lb-ft',\n",
       "       '1,180 lb-ft', '750 lb-ft', '451 lb-ft', '428 lb-ft', '738 lb-ft',\n",
       "       '780 lb-ft', '811 lb-ft', '821 lb-ft', '1,700 lb-ft',\n",
       "       '1,280 lb-ft', '1,100 lb-ft', '1,170 lb-ft', '1,371 lb-ft',\n",
       "       '885 lb-ft', '752 lb-ft', '391 lb-ft', '502 lb-ft', '908 lb-ft',\n",
       "       '1,341 lb-ft', '1000 lb-ft', '380 lb-ft', '405 lb-ft', '659 lb-ft',\n",
       "       '460 lb-ft', '271 lb-ft', '127 lb-ft', '265 lb-ft', '321 lb-ft',\n",
       "       '394 lb-ft', '253 lb-ft', '270 lb-ft', '400 lb-ft', '307 lb-ft',\n",
       "       '430 lb-ft', '1,250 lb-ft', '163 lb-ft', '128 lb-ft', '113 lb-ft',\n",
       "       '67 lb-ft', '96 lb-ft', '101 lb-ft', '174 lb-ft',\n",
       "       '377.0 Nm (278 lb. ft) at 4000 rpm',\n",
       "       '570 Nm (420 lb. ft) at 5750 rpm', '400 Nm (295 lb. ft)',\n",
       "       '820 Nm (605 lb. ft)', '250 Nm (184 lb. ft)', '270 lb-ft (366 Nm)',\n",
       "       '680 Nm', '442 Nm', '642 lb-ft', '463 lb-ft', '413 lb-ft',\n",
       "       '284 lb-ft', '126 lb-ft', '263 lb-ft', '368 lb-ft', '63 lb-ft',\n",
       "       '103 lb-ft', '104 lb-ft', '192 lb-ft', '179 lb-ft', '492 lb-ft',\n",
       "       '290 lb-ft', '383 lb-ft', '113 Nm', '170 Nm', '350 Nm', '95 Nm',\n",
       "       '250 Nm @ 1500-2000 rpm'], dtype=object)"
      ]
     },
     "execution_count": 9,
     "metadata": {},
     "output_type": "execute_result"
    }
   ],
   "source": [
    "df_car_models['Torque'].unique()"
   ]
  },
  {
   "cell_type": "code",
   "execution_count": 10,
   "id": "d27edb10",
   "metadata": {
    "execution": {
     "iopub.execute_input": "2023-06-01T19:46:09.771567Z",
     "iopub.status.busy": "2023-06-01T19:46:09.771192Z",
     "iopub.status.idle": "2023-06-01T19:46:09.779858Z",
     "shell.execute_reply": "2023-06-01T19:46:09.778548Z"
    },
    "papermill": {
     "duration": 0.028903,
     "end_time": "2023-06-01T19:46:09.782353",
     "exception": false,
     "start_time": "2023-06-01T19:46:09.753450",
     "status": "completed"
    },
    "tags": []
   },
   "outputs": [
    {
     "data": {
      "text/plain": [
       "array(['7-speed automatic', '8-speed automatic',\n",
       "       '6-speed Manual, 6-speed AMT', '6-speed Manual',\n",
       "       '6-speed Manual, 6-speed AT', '5-speed Manual',\n",
       "       '7-speed Automatic', 'Continuously variable-speed automatic',\n",
       "       '5-speed automatic', '6-speed automatic / 6-speed manual',\n",
       "       '6-speed automatic', '6-speed manual/10-speed automatic',\n",
       "       '6-speed automatic/10-speed automatic', '10-speed automatic',\n",
       "       'Manual, Automatic', 'CVT', 'Automatic', '9-speed automatic',\n",
       "       '8-speed Automatic', '7-speed auto-shift manual',\n",
       "       'Automatic, Manual', '6-speed manual', '8-speed PDK',\n",
       "       '8-speed Tiptronic S', '7-speed PDK', '8-Speed Automatic',\n",
       "       'Manual, Automatic, CVT', 'Automatic, Dual-Clutch',\n",
       "       'CVT or 6-speed manual',\n",
       "       '6-speed automatic or 7-speed dual-clutch',\n",
       "       '6-speed automatic or 8-speed automatic',\n",
       "       '6-speed manual, CVT, or 7-speed dual-clutch', 'Manual',\n",
       "       '5-speed manual', 'Single-Speed Automatic',\n",
       "       'Single-speed automatic', '7-speed DCT', '7-speed DSG',\n",
       "       '7-speed dual-clutch automatic', '4-speed automatic',\n",
       "       '8-speed shiftable automatic', '6-speed shiftable automatic',\n",
       "       '7-speed sequential manual', '6-speed sequential manual',\n",
       "       '9-speed multi-clutch automatic', 'Koenigsegg Direct Drive',\n",
       "       'Single-speed direct drive', '4-motor all-wheel drive', 'eCVT',\n",
       "       'Continuously variable automatic', '5-speed manual or CVT',\n",
       "       '5-speed manual or AMT', '5-speed manual or 8-speed automatic',\n",
       "       '4 speed Manual', '6 speed Manual', '8 speed Automatic',\n",
       "       '7-speed automated manual', 'CVT automatic',\n",
       "       '6-speed manual or 6-speed automatic', 'Fuel cell electric',\n",
       "       '6-speed manual or 10-speed automatic',\n",
       "       '6-speed manual or CVT automatic', '6-speed manual, AMT',\n",
       "       '6-speed manual, 6-speed automatic', '5-speed manual, AMT',\n",
       "       '5-speed manual, 6-speed automatic'], dtype=object)"
      ]
     },
     "execution_count": 10,
     "metadata": {},
     "output_type": "execute_result"
    }
   ],
   "source": [
    "df_car_models['Transmission Type'].unique()"
   ]
  },
  {
   "cell_type": "code",
   "execution_count": 11,
   "id": "f7654130",
   "metadata": {
    "execution": {
     "iopub.execute_input": "2023-06-01T19:46:09.817496Z",
     "iopub.status.busy": "2023-06-01T19:46:09.817132Z",
     "iopub.status.idle": "2023-06-01T19:46:09.824370Z",
     "shell.execute_reply": "2023-06-01T19:46:09.823167Z"
    },
    "papermill": {
     "duration": 0.027809,
     "end_time": "2023-06-01T19:46:09.826816",
     "exception": false,
     "start_time": "2023-06-01T19:46:09.799007",
     "status": "completed"
    },
    "tags": []
   },
   "outputs": [
    {
     "data": {
      "text/plain": [
       "array(['RWD', 'AWD', 'FWD', '4WD', 'FWD / AWD', 'RWD / 4WD', 'RWD/4WD',\n",
       "       'FWD/AWD', 'FWD or AWD', 'RWD or AWD', 'Front-wheel drive',\n",
       "       'All-wheel drive', 'FWD, AWD', 'RWD/AWD', 'Rear-wheel drive',\n",
       "       'Rear-wheel drive or all-wheel drive', '0-60 mph in 3 seconds',\n",
       "       'Front-wheel drive or all-wheel drive',\n",
       "       'Rear-wheel drive or 4-wheel drive', '4-wheel drive',\n",
       "       'Rear-wheel drive or four-wheel drive',\n",
       "       'Rear-wheel drive, all-wheel drive'], dtype=object)"
      ]
     },
     "execution_count": 11,
     "metadata": {},
     "output_type": "execute_result"
    }
   ],
   "source": [
    "df_car_models['Drivetrain'].unique()"
   ]
  },
  {
   "cell_type": "code",
   "execution_count": 12,
   "id": "4f38dff9",
   "metadata": {
    "execution": {
     "iopub.execute_input": "2023-06-01T19:46:09.860923Z",
     "iopub.status.busy": "2023-06-01T19:46:09.860519Z",
     "iopub.status.idle": "2023-06-01T19:46:09.869119Z",
     "shell.execute_reply": "2023-06-01T19:46:09.868337Z"
    },
    "papermill": {
     "duration": 0.027966,
     "end_time": "2023-06-01T19:46:09.871041",
     "exception": false,
     "start_time": "2023-06-01T19:46:09.843075",
     "status": "completed"
    },
    "tags": []
   },
   "outputs": [
    {
     "data": {
      "text/plain": [
       "array(['13/20 mpg', '15/19 mpg', '16/24 mpg', '16/22 mpg',\n",
       "       '18 mpg (combined)', '15/20 mpg', '12/17 mpg', '15/22 mpg',\n",
       "       '16/23 mpg', '12 mpg (combined)', '13-20 km/l', '15 km/l',\n",
       "       '7-12 km/l', '16 km/l', '17 km/l', '12 km/l', '26-34 mpg',\n",
       "       '30-33 mpg', '27-40 mpg', '21-36 mpg', '16-19 mpg', '18-23 mpg',\n",
       "       '13-17 mpg', '16-21 mpg city / 24-32 mpg highway',\n",
       "       '16-20 mpg city / 22-26 mpg highway',\n",
       "       '18-21 mpg city / 24-28 mpg highway',\n",
       "       '23-26 mpg city / 31-34 mpg highway',\n",
       "       '21-22 mpg city / 28-29 mpg highway',\n",
       "       '21-23 mpg city / 26-26 mpg highway',\n",
       "       '23-25 mpg city / 28-32 mpg highway', '16-23 mpg', '15-23 mpg',\n",
       "       '22-28 mpg', '15-20 mpg', '15-22 mpg', '17-22 mpg', '28-32 mpg',\n",
       "       '23-26 mpg', '28-33 mpg', '32-35 mpg', '27-30 mpg', '20-24 mpg',\n",
       "       '13-16 mpg', '16-20 mpg', '26/33 mpg', '23/29 mpg', '21/26 mpg',\n",
       "       '26/36 mpg', '24/34 mpg', '22/29 mpg', '15/21 mpg', '24/35 mpg',\n",
       "       '22/31 mpg', '13/17 mpg', '28/36 mpg', '24/31 mpg', '19/27 mpg',\n",
       "       '22/27 mpg', '19/23 mpg', '23-34 mpg', '25-36 mpg', '18-22 mpg',\n",
       "       '21-29 mpg', '21/28 mpg', '20/29 mpg', '21/27 mpg', '18 MPG',\n",
       "       '14 MPG', '22 mpg combined', '21 mpg combined', '20 mpg combined',\n",
       "       '19 mpg combined', '18 mpg combined', '25-44 mpg', '22-32 mpg',\n",
       "       '20-28 mpg', '18-28 mpg', '29-39 mpg', '22-33 mpg', '19-31 mpg',\n",
       "       '15-18 mpg', '12-16 mpg', '33/43 mpg', '25/38 mpg', '23/33 mpg',\n",
       "       '26/30 mpg', '33/41 mpg', '19/26 mpg', '31/41 mpg',\n",
       "       '24/33 mpg - 27/37 mpg', '17/25 mpg - 22/29 mpg',\n",
       "       '21/29 mpg - 22/29 mpg', '27/33 mpg - 29/35 mpg',\n",
       "       '19/26 mpg - 20/27 mpg', '29/34 mpg', '26-36 mpg', '23-31 mpg',\n",
       "       '29-34 mpg', '24-31 mpg', '22-26 mpg', '23/27 mpg', '27/35 mpg',\n",
       "       '21/29 mpg', '20/27 mpg', '27/34 mpg', '35/90 mpg', '27/30 mpg',\n",
       "       '25/28 mpg', '36/43 mpg', '35/41 mpg', '24/30 mpg',\n",
       "       '326-402 miles per charge', '263-358 miles per charge',\n",
       "       '299-371 miles per charge', '244-326 miles per charge',\n",
       "       '19/30 mpg', '17/25 mpg', '21/31 mpg', '14/20 mpg', '23/32 mpg',\n",
       "       '22/30 mpg', '23/31 mpg', '79 MPGe', '87 MPGe', '19/24 mpg',\n",
       "       '18/25 mpg', '29/38 mpg', '18/23 mpg', '27/37 mpg', '25/33 mpg',\n",
       "       '32.5/42.5 mpg', '30.1/40.9 mpg', '27/38 mpg', '28/39 mpg',\n",
       "       '26/35 mpg', '28/38 mpg', '119 MPGe', '77 MPGe', '28/37 mpg',\n",
       "       '27/36 mpg', '19/28 mpg', '18/26 mpg', '20 mpg', '13 mpg',\n",
       "       '13-21 mpg', '11 mpg', '9 mpg', '12 mpg', '10 mpg', '19/29 mpg',\n",
       "       '58 MPGe', '92 MPGe', '111 MPGe', '520 miles', '483 miles',\n",
       "       '314 miles', '405 miles', '17/24 mpg', '22/32 mpg', '18/28 mpg',\n",
       "       '16/25 mpg', '23/30 mpg', '36 mpg (city)/44 mpg (highway)',\n",
       "       '32 mpg (city)/40 mpg (highway)', '29 mpg (city)/37 mpg (highway)',\n",
       "       '27 mpg (city)/35 mpg (highway)', '25 mpg (city)/33 mpg (highway)',\n",
       "       '19/31 mpg', '84 MPGe', '350 miles', '310 miles', '20/26 mpg',\n",
       "       '14/19 mpg', '23/28 mpg', '20/24 mpg', '17/22 mpg', '18/22 mpg',\n",
       "       '180 miles', '34 mpg (city)/41 mpg (highway)',\n",
       "       '33 mpg (city)/40 mpg (highway)', '25 mpg (city)/28 mpg (highway)',\n",
       "       '31 mpg (city)/42 mpg (highway)', '37 mpg (city)/47 mpg (highway)',\n",
       "       '32 mpg (city)/42 mpg (highway)', '23 mpg (city)/28 mpg (highway)',\n",
       "       '28 mpg (city)/33 mpg (highway)', '23 mpg (city)/30 mpg (highway)',\n",
       "       '34 mpg (city)/42 mpg (highway)', '30 mpg (city)/40 mpg (highway)',\n",
       "       '31 mpg (city)/40 mpg (highway)', '25 mpg (city)/35 mpg (highway)',\n",
       "       '26 mpg (city)/37 mpg (highway)',\n",
       "       '16.4 l/100 km - 17 mpg UK - 14 mpg US (Average), 0 to 100 km/h (62mph) in 4.2 seconds, a maximum top speed of 190 mph (305 km/h)',\n",
       "       '17.5 l/100 km - 18 mpg UK - 15 mpg US (Average), 0 to 100 km/h (62mph) in 4.2 seconds, a maximum top speed of 186 mph (299 km/h)',\n",
       "       '21.2 l/100 km - 22 mpg UK - 18 mpg US (Average), 0 to 100 km/h (62mph) in 4.5 seconds, a maximum top speed of 205 mph (330 km/h)',\n",
       "       '52.3 mpg (Average), 0 to 100 km/h (62mph) in 7.5 seconds, a maximum top speed of 130 mph (210 km/h)',\n",
       "       '20 mpg (Average), 0 to 60 mph in 5.3 seconds, a maximum top speed of 150 mph (241 km/h)',\n",
       "       '10.7 l/100 km', '12.5 l/100 km', '15 city / 24 highway',\n",
       "       '15 city / 22 highway', '15 city / 21 highway',\n",
       "       '13 city / 20 highway', '13 city / 18 highway',\n",
       "       '12 city / 18 highway', '14 city / 19 highway',\n",
       "       '28 city / 39 highway', '31 city / 40 highway',\n",
       "       '27 city / 35 highway', '20 city / 27 highway',\n",
       "       '19 city / 24 highway', '53 city / 49 highway',\n",
       "       '66 city / 67 highway', '22 city / 31 highway',\n",
       "       '21 city / 30 highway', '30 city / 43 highway',\n",
       "       '23 city / 30 highway', '26 city / 34 highway',\n",
       "       '24 city / 32 highway', '21 city / 29 highway',\n",
       "       '27 city / 37 highway', '27 city / 32 highway',\n",
       "       '28 city / 32 highway', '19 city / 28 highway',\n",
       "       '19 city / 26 highway', '49 city / 47 highway',\n",
       "       '21 city / 28 highway', '20 city / 28 highway',\n",
       "       '19 city / 29 highway', '16 city / 23 highway',\n",
       "       '29 city / 39 highway', '26 city / 31 highway',\n",
       "       '18 city / 24 highway', '16 city / 22 highway',\n",
       "       '17 city / 23 highway', '28 city / 33 highway',\n",
       "       '22 city / 29 highway', '30 city / 40 highway',\n",
       "       '25 city / 31 highway', '27 city / 34 highway',\n",
       "       '93 city / 97 highway', '19.84 kmpl', '20.5 kmpl', '13.1 kmpl',\n",
       "       '12.7 kmpl', '19.6 kmpl / 22.4 kmpl', '23.84 kmpl / 26.59 kmpl',\n",
       "       '15.2 kmpl / 18 kmpl'], dtype=object)"
      ]
     },
     "execution_count": 12,
     "metadata": {},
     "output_type": "execute_result"
    }
   ],
   "source": [
    "df_car_models['Fuel Economy'].unique()"
   ]
  },
  {
   "cell_type": "code",
   "execution_count": 13,
   "id": "2728b690",
   "metadata": {
    "execution": {
     "iopub.execute_input": "2023-06-01T19:46:09.905851Z",
     "iopub.status.busy": "2023-06-01T19:46:09.905421Z",
     "iopub.status.idle": "2023-06-01T19:46:09.912473Z",
     "shell.execute_reply": "2023-06-01T19:46:09.911443Z"
    },
    "papermill": {
     "duration": 0.027949,
     "end_time": "2023-06-01T19:46:09.915226",
     "exception": false,
     "start_time": "2023-06-01T19:46:09.887277",
     "status": "completed"
    },
    "tags": []
   },
   "outputs": [
    {
     "data": {
      "text/plain": [
       "array(['2', '4', '5', '5, 7', '4, 6', '7, 8', '2 / 4', '2/4', '4/5',\n",
       "       '4/5/6/8', '4 doors', '2 doors', '2, 4', '4, 5', '4, 5, 2007',\n",
       "       '4 or 5', '4, 6, 2007', '2-4', '3', '7', '8'], dtype=object)"
      ]
     },
     "execution_count": 13,
     "metadata": {},
     "output_type": "execute_result"
    }
   ],
   "source": [
    "df_car_models['Number of Doors'].unique()"
   ]
  },
  {
   "cell_type": "code",
   "execution_count": 14,
   "id": "0c574af6",
   "metadata": {
    "execution": {
     "iopub.execute_input": "2023-06-01T19:46:09.950269Z",
     "iopub.status.busy": "2023-06-01T19:46:09.949863Z",
     "iopub.status.idle": "2023-06-01T19:46:09.959698Z",
     "shell.execute_reply": "2023-06-01T19:46:09.958562Z"
    },
    "papermill": {
     "duration": 0.030674,
     "end_time": "2023-06-01T19:46:09.962415",
     "exception": false,
     "start_time": "2023-06-01T19:46:09.931741",
     "status": "completed"
    },
    "tags": []
   },
   "outputs": [
    {
     "data": {
      "text/plain": [
       "array(['$366,712', '$276,550', '$218,750', '$254,475', '$625,000',\n",
       "       '$350,050', '$298,750', '$262,647', '$202,723', '$1,420,000',\n",
       "       'Rs. 7.96 - 13.33 Lakh', 'Rs. 12.57 - 16.53 Lakh',\n",
       "       'Rs. 12.11 - 16.86 Lakh', 'Rs. 8.67 - 9.39 Lakh',\n",
       "       'Rs. 12.4 - 14.12 Lakh', 'Rs. 28.74 - 31.73 Lakh',\n",
       "       '$25,045-$35,130', '$20,025-$25,725', '$26,250-$37,330',\n",
       "       '$35,085-$47,230', '$36,765-$50,745', '$26,150-$46,780',\n",
       "       '$33,675-$51,995', '$28,450-$61,600', '$28,940-$70,825',\n",
       "       '$33,860-$54,365', '$26,130-$40,395', '$32,250-$43,400',\n",
       "       '$24,820-$42,660', '$26,820-$38,160', '$25,000-$72,000',\n",
       "       '$60,000-$125,000', '$13,400-$16,800', '$25,000-$35,000',\n",
       "       '$51,700-$76,000', '$49,000-$75,000', '$28,000-$60,000',\n",
       "       '$26,000-$45,000', '$25,225-$36,550', '$37,240-$44,030',\n",
       "       '$20,460-$24,940', '$15,650-$18,340', '$26,980-$34,430',\n",
       "       '$32,610-$45,030', '$32,940-$45,340', '$52,300-$69,050',\n",
       "       '$113,540-$210,740', '$35,400', '$43,000', '$60,700', '$42,250',\n",
       "       '$56,400', '$86,800', '$73,100', '$142,500', '$43,200', '$55,300',\n",
       "       '$109,800', '$131,750', '$33,300', '$39,100', '$44,000', '$36,000',\n",
       "       '$44,100', '$54,950', '$23,195', '$18,995', '$24,990', '$31,545',\n",
       "       '$25,245', '$62,000', '$61,500', '$101,200', '$87,200', '$67,500',\n",
       "       '$52,100', '$332,500', '$338,700', '$346,300', '$455,000',\n",
       "       '$341,125', '$160,000', '$192,500', '$202,950', '$242,500',\n",
       "       '$299,000', '$225,000', '$39,900-$48,900', '$39,050-$45,100',\n",
       "       '$51,065-$52,760', '$76,000-$82,825', '$32,900-$40,900',\n",
       "       '$38,935-$47,770', '$45,070-$50,620', '$54,225-$64,365',\n",
       "       '$89,080-$99,710', '$19,650 - $28,100', '$24,100 - $34,850',\n",
       "       '$24,950 - $37,350', '$28,025 - $43,200', '$20,500 - $29,400',\n",
       "       '$17,900', '$33,700', '$17,890 - $28,390', '$24,355 - $32,790',\n",
       "       '$36,090 - $53,250', '$29,390 - $42,590', '$19,190 - $28,350',\n",
       "       '$32,790 - $47,390', '$26,830', '$20,650', '$24,325', '$20,640',\n",
       "       '$25,270', '$35,060', '$32,295', '$18,795', '$22,995', '$26,795',\n",
       "       '$28,845', '$27,495', '$22,245', '$36,395', '$26,570 - $34,420',\n",
       "       '$24,590 - $31,490', '$14,295 - $16,995', '$15,295 - $16,995',\n",
       "       '$23,590 - $25,590', '$79,990-$169,990', '$39,990-$59,990',\n",
       "       '$89,990-$139,990', '$41,190-$63,190', 'Starting at $31,490',\n",
       "       'Starting at $30,290', 'Starting at $33,090',\n",
       "       'Starting at $23,690', 'Starting at $29,995',\n",
       "       'Starting at $35,595', 'Starting at $39,145',\n",
       "       'Starting at $79,995', 'Starting at $33,100',\n",
       "       'Starting at $41,900', 'Starting at $49,900',\n",
       "       'Starting at $39,900', 'Starting at $45,900',\n",
       "       'Starting at $42,250', 'Starting at $55,950',\n",
       "       'Starting at $40,900', 'Starting at $87,995',\n",
       "       'Starting at $42,650', 'Starting at $68,250',\n",
       "       'Starting at $69,900', 'Starting at $65,000',\n",
       "       'Starting at $19,990', 'Starting at $24,990',\n",
       "       'Starting at $70,900', 'Starting at $79,900',\n",
       "       'Starting at $18,000', 'Starting at $24,000',\n",
       "       'Starting at $26,000', 'Starting at $30,000',\n",
       "       'Starting at $34,000', 'Starting at $36,000',\n",
       "       'Starting at $15,490', 'Starting at $18,990',\n",
       "       'Starting at $23,990', 'Starting at $28,990',\n",
       "       'Starting at $27,990', 'Starting at $22,990',\n",
       "       'Starting at $26,990', 'Starting at $29,990',\n",
       "       'Starting at $17,990', 'Starting at $32,990',\n",
       "       'Starting at $39,990', 'Starting at $28,000',\n",
       "       'Starting at $33,000', 'Starting at $29,000',\n",
       "       'Starting at $32,000', 'Starting at $40,000',\n",
       "       'Starting at $37,990', 'Starting at $42,990', '$28,530-$34,490',\n",
       "       '$84,995', '$87,895-$90,390', '$3,000,000', '$1,700,000',\n",
       "       '$1,100,000', '$1,300,000', '$74,390', '$102,390', '$77,890',\n",
       "       '$134,300', '$2.6 million', '$1.5 million', '$3.0 million',\n",
       "       '$3.2 million', '$1.7 million', '$2.8 million', '$2.2 million',\n",
       "       '$2.5 million', '$1.6 million', '$4.8 million', '$1.1 million',\n",
       "       '$600,000', '$750,000', 'Starting at $35,900',\n",
       "       'Starting at $47,700', 'Starting at $77,900', '$155,000',\n",
       "       '$59,900', 'Starting at $61,900', 'Starting at $77,400',\n",
       "       'Starting at $169,000', 'Starting at $67,500',\n",
       "       'Starting at $70,000', 'Starting at $180,000',\n",
       "       'Starting at $74,900', 'Starting at $84,900',\n",
       "       'Starting at $94,900', 'Starting at $139,900',\n",
       "       'Starting at $149,900', 'Starting at $33,295',\n",
       "       'Starting at $46,295', 'Starting at $39,995',\n",
       "       'Starting at $55,795', 'Starting at $84,995',\n",
       "       'Starting at $76,295', 'Starting at $35,795',\n",
       "       'Starting at $41,795', 'Starting at $59,995',\n",
       "       'Starting at £27,995', 'Starting at £31,995',\n",
       "       'Starting at £36,995', 'Starting at £41,995',\n",
       "       'Starting at £54,995', 'Starting at $32,145',\n",
       "       'Starting at $32,995', 'Starting at $26,995',\n",
       "       'Starting at $45,995', 'Starting at $37,499',\n",
       "       'Starting at $29,999', 'Starting at $37,400',\n",
       "       'Starting at $72,900', 'Starting at $36,900',\n",
       "       'Starting at $62,900', 'Starting at $68,900',\n",
       "       'Starting at $40,520', 'Starting at $25,620',\n",
       "       'Starting at $31,320', 'Starting at $25,120',\n",
       "       'Starting at $33,920', 'Starting at $59,900',\n",
       "       'Starting at $71,900', 'Starting at $1.9 million',\n",
       "       'Starting at $120,000', 'Starting at $109,995',\n",
       "       'Starting at £34,995', 'Starting at $22,450',\n",
       "       'Starting at $24,450', 'Starting at $44,990',\n",
       "       'Starting at $15,299', 'Starting at $14,499',\n",
       "       'Starting at $18,499', 'Starting at $21,299',\n",
       "       'Starting at $25,299', 'Starting at $16,299',\n",
       "       'Starting at $26,299', 'Starting at $29,299',\n",
       "       'Starting at £15,995', 'Starting at £20,495',\n",
       "       'Starting at £24,495', 'Starting at £25,495',\n",
       "       'Starting at £24,595', 'Starting at £22,595',\n",
       "       'Starting at £1,000,000', 'Starting at £500,000',\n",
       "       'Starting at €400,000', 'Starting at £300,000',\n",
       "       'Starting at €40,000', 'Starting at €200,000',\n",
       "       'Starting at €150,000', 'Starting at €130,000',\n",
       "       'Starting at $420,000', 'Starting at $200,000',\n",
       "       'Starting at $211,000', 'Starting at $3.2 million',\n",
       "       'Starting at $275,000', 'Starting at $375,000',\n",
       "       'Starting at $100,000', 'Starting at $25,295',\n",
       "       'Starting at $20,075', 'Starting at $26,225',\n",
       "       'Starting at $34,625', 'Starting at $24,525',\n",
       "       'Starting at $66,000', 'Starting at $49,995',\n",
       "       'Starting at $11,000', 'Starting at $15,000',\n",
       "       'Starting at $20,000', 'Starting at $17,000',\n",
       "       'Starting at $23,000', 'Starting at $25,000',\n",
       "       'Starting at $24,770', 'Starting at $21,700',\n",
       "       'Starting at $31,470', 'Starting at $36,295',\n",
       "       'Starting at $23,695', 'Starting at $156,000',\n",
       "       'Starting at $31,995', 'Starting at $25,995',\n",
       "       'Starting at $19,995', 'Starting at $35,295',\n",
       "       'Starting at $51,995', 'Starting at $20,995', '4.59 lakhs',\n",
       "       '6.49 lakhs', '14.69 lakhs', '24.69 lakhs',\n",
       "       '₹5.49 lakhs - ₹9.39 lakhs', '₹4.19 lakhs - ₹6.99 lakhs',\n",
       "       '₹5.49 lakhs - ₹7.49 lakhs', '₹10.55 Lakh - ₹16.78 Lakh'],\n",
       "      dtype=object)"
      ]
     },
     "execution_count": 14,
     "metadata": {},
     "output_type": "execute_result"
    }
   ],
   "source": [
    "df_car_models['Price'].unique()"
   ]
  },
  {
   "cell_type": "code",
   "execution_count": 15,
   "id": "c7df3a88",
   "metadata": {
    "execution": {
     "iopub.execute_input": "2023-06-01T19:46:09.998042Z",
     "iopub.status.busy": "2023-06-01T19:46:09.997633Z",
     "iopub.status.idle": "2023-06-01T19:46:10.004569Z",
     "shell.execute_reply": "2023-06-01T19:46:10.003723Z"
    },
    "papermill": {
     "duration": 0.027376,
     "end_time": "2023-06-01T19:46:10.006649",
     "exception": false,
     "start_time": "2023-06-01T19:46:09.979273",
     "status": "completed"
    },
    "tags": []
   },
   "outputs": [
    {
     "data": {
      "text/plain": [
       "array(['2018 - Present', '2020 - Present', '2021 - Present',\n",
       "       '2019 - 2020', '2017 - 2020', '2016 - 2019', '2015 - 2018',\n",
       "       '2014 - 2016', '2019 - present', '2020 - present',\n",
       "       '2001 - present', '2018 - present', '2018-2021', '2019-2021',\n",
       "       '2015-2021', '2021', '2010-2021', '1953-2021', '2013-2021',\n",
       "       '2005-2021', '1935-2021', '1995-2021', '1999-2021', '2004-2021',\n",
       "       '2019-2022', '2020-2022', '2022', '2019-present', '2016-present',\n",
       "       '2018-present', '2017-present', '1974-2022', '1980-2022',\n",
       "       '1973-2022', '2018-2022', '2007-2022', '2017-2021', '2020-2021',\n",
       "       '2014-2021', '2016-2021', '2016-2018', '2017-2018', '2019',\n",
       "       '2018-2020', '2022- present', '1989-Present', '1998-Present',\n",
       "       '1993-2020', '2019-Present', '2015-Present', '2003-Present',\n",
       "       '1996-Present', '2017 - 2022', '2018 - 2022', '2016 - 2022',\n",
       "       '2019 - 2022', '2019 - 2021', '2020 - 2022', '2014 - Present',\n",
       "       '2017 - Present', '2011 - Present', '2012-2023', '2017-2023',\n",
       "       '2015-2023', '2020-2023', '2023-2024', '2011', '1984-2020', '2018',\n",
       "       '1992-2017', '2016-Present', '2005-2015', '1991-1995', '1993-1995',\n",
       "       '2014 - present', '2013 - present', '2017 - present',\n",
       "       '2008 - present', '2011-Present', '1999-2015', '2017-Present',\n",
       "       '2020-Present', '2022-Present', '2015-2018', '2014-2016',\n",
       "       '2013-2014', '2011-2013', '2007-2008', '2006-2007', '2002-2004',\n",
       "       '2004-2006', '2021-Present', '2023-Present', '2021-2022',\n",
       "       '1961-1962', '2011-2012', '2012-2014', '2011-2014', '1951-1953',\n",
       "       '2005-2013', '2009-2013', '2009-2014', '2011-2023', '2014-present',\n",
       "       '2020-present', '1974-1990', '1990-2001', '2001-2010', '2003-2013',\n",
       "       '1968-1978', '1966-1972', '2021-present', '2022-present',\n",
       "       '2023-present', '1999-2009', '1998-present', '1999-present',\n",
       "       '1935-present', '1995-present', '2013-present'], dtype=object)"
      ]
     },
     "execution_count": 15,
     "metadata": {},
     "output_type": "execute_result"
    }
   ],
   "source": [
    "df_car_models['Model Year Range'].unique()"
   ]
  },
  {
   "cell_type": "code",
   "execution_count": 16,
   "id": "3defd9ff",
   "metadata": {
    "execution": {
     "iopub.execute_input": "2023-06-01T19:46:10.042368Z",
     "iopub.status.busy": "2023-06-01T19:46:10.041953Z",
     "iopub.status.idle": "2023-06-01T19:46:10.049518Z",
     "shell.execute_reply": "2023-06-01T19:46:10.048464Z"
    },
    "papermill": {
     "duration": 0.028375,
     "end_time": "2023-06-01T19:46:10.052084",
     "exception": false,
     "start_time": "2023-06-01T19:46:10.023709",
     "status": "completed"
    },
    "tags": []
   },
   "outputs": [
    {
     "data": {
      "text/plain": [
       "array(['Coupe', 'Convertible', 'Hatchback', 'SUV', 'MPV', 'Sedan',\n",
       "       'Pickup truck', 'Coupe/Convertible', 'Pickup Truck',\n",
       "       'Coupe, Convertible', 'Truck', 'Sports Car', 'Sedan, Hatchback',\n",
       "       'Wagon/SUV', 'Wagon', 'Van', 'Track Car', '4-seater', 'Crossover',\n",
       "       'Sports car', 'Minivan', 'Electric hypercar', 'City car', 'Coupé',\n",
       "       'Saloon', 'Roadster', '2-door sports car', '5-door SUV',\n",
       "       '2-door grand tourer', 'Hybrid', 'Electric car'], dtype=object)"
      ]
     },
     "execution_count": 16,
     "metadata": {},
     "output_type": "execute_result"
    }
   ],
   "source": [
    "df_car_models['Body Type'].unique()"
   ]
  },
  {
   "cell_type": "code",
   "execution_count": 17,
   "id": "f9215e13",
   "metadata": {
    "execution": {
     "iopub.execute_input": "2023-06-01T19:46:10.088527Z",
     "iopub.status.busy": "2023-06-01T19:46:10.088161Z",
     "iopub.status.idle": "2023-06-01T19:46:10.096206Z",
     "shell.execute_reply": "2023-06-01T19:46:10.094972Z"
    },
    "papermill": {
     "duration": 0.029008,
     "end_time": "2023-06-01T19:46:10.098385",
     "exception": false,
     "start_time": "2023-06-01T19:46:10.069377",
     "status": "completed"
    },
    "tags": []
   },
   "outputs": [
    {
     "data": {
      "text/plain": [
       "array(['6.5L V12', '3.9L V8', '4.0L V8', '6.3L V12',\n",
       "       '1.2L Turbo Petrol, 1.5L Turbo Diesel', '2.2L mHawk Diesel',\n",
       "       '2.0L Turbo Petrol, 2.2L mHawk Diesel', '1.5L mHawk75 Diesel',\n",
       "       '1.5L mHawk Diesel', '2.5L 4-cylinder / 3.5L V6',\n",
       "       '2.0L 4-cylinder', '2.5L 4-cylinder', '3.5L V6', '4.0L V6',\n",
       "       '2.7L 4-cylinder / 3.5L V6', '5.7L V8', 'Gas V6/V8',\n",
       "       'Gas V6/V8, Diesel V6', 'Gas I4/V6, Hybrid V6',\n",
       "       'Gas I3/I4, Hybrid I4', 'Gas I4/V6', 'Gas I4', 'Gas I3/I4', 'Gas',\n",
       "       'Gas, Diesel', 'Turbocharged Gas I4', 'Turbocharged Gas I6',\n",
       "       'Twin-Turbocharged Gas I6', 'Twin-Turbocharged Gas V8', 'Inline-4',\n",
       "       'V-8', '2.0 L 4-cylinder', 'Gas, Hybrid', 'Turbocharged flat-4',\n",
       "       'Twin-turbocharged flat-6', 'Turbocharged V6',\n",
       "       'Turbocharged inline-4', 'V12', 'V8', 'V6', 'Gas/Electric',\n",
       "       'Gas/Hybrid', 'Inline-4, Inline-4 Hybrid, Inline-6',\n",
       "       'Inline-4, Inline-4 Hybrid', 'Inline-4, Inline-4 Hybrid, V6',\n",
       "       'Inline-4, Inline-4 EV',\n",
       "       '2.0L 4-cylinder or 1.6L turbocharged 4-cylinder',\n",
       "       '2.4L 4-cylinder, 1.6L turbocharged 4-cylinder, or 2.0L turbocharged 4-cylinder',\n",
       "       '2.0L turbocharged 4-cylinder or 3.3L twin-turbocharged V6',\n",
       "       '2.4L 4-cylinder, 2.5L turbocharged 4-cylinder, or 3.3L V6',\n",
       "       '3.8L V6', 'Gasoline', 'H4', '2.4L I4', '1.5L I4', '1.2L I3',\n",
       "       '2.0L I4', 'Electric', 'V6/V8/HEMI', 'V6/V8', '4-cylinder',\n",
       "       '3-cylinder', 'turbocharged inline-4', 'Gas V6', 'Gas V8',\n",
       "       'Gas V10', 'W16', 'Twin-turbocharged V6',\n",
       "       'Twin-turbocharged V6 or V8', 'Naturally aspirated V8',\n",
       "       'Twin-turbocharged V8 + 3 electric motors',\n",
       "       'Twin-turbocharged inline-6', 'Twin-turbocharged V8',\n",
       "       'Twin-turbocharged inline-4', 'Hybrid', 'Diesel', 'Inline 6',\n",
       "       'W12', 'Straight 6', 'V9', 'V10', 'Fuel cell', 'Inline-6', 'Boxer',\n",
       "       '1.2L naturally aspirated petrol',\n",
       "       '1.2L turbocharged petrol, 1.5L turbocharged diesel',\n",
       "       '2.0L turbocharged petrol', '1.2L turbocharged petrol',\n",
       "       '2.0L turbocharged diesel'], dtype=object)"
      ]
     },
     "execution_count": 17,
     "metadata": {},
     "output_type": "execute_result"
    }
   ],
   "source": [
    "df_car_models['Engine Type'].unique()"
   ]
  },
  {
   "cell_type": "code",
   "execution_count": 18,
   "id": "c1641256",
   "metadata": {
    "execution": {
     "iopub.execute_input": "2023-06-01T19:46:10.135535Z",
     "iopub.status.busy": "2023-06-01T19:46:10.135123Z",
     "iopub.status.idle": "2023-06-01T19:46:10.142826Z",
     "shell.execute_reply": "2023-06-01T19:46:10.141737Z"
    },
    "papermill": {
     "duration": 0.028557,
     "end_time": "2023-06-01T19:46:10.144930",
     "exception": false,
     "start_time": "2023-06-01T19:46:10.116373",
     "status": "completed"
    },
    "tags": []
   },
   "outputs": [
    {
     "data": {
      "text/plain": [
       "array(['12', '8', '3/4', '4', '3', '4 / 6', '6', '4/6/2008', '6/8', '4/6',\n",
       "       '4, 6, 2008', '6, 8', '4, 6', '4, 5, 2006', '4 or 6', '0', '6-8',\n",
       "       '10', '16', '6 or 8', 'V6', '1', '3, 4'], dtype=object)"
      ]
     },
     "execution_count": 18,
     "metadata": {},
     "output_type": "execute_result"
    }
   ],
   "source": [
    "df_car_models['Number of Cylinders'].unique()"
   ]
  },
  {
   "cell_type": "code",
   "execution_count": 19,
   "id": "3a6d86b6",
   "metadata": {
    "execution": {
     "iopub.execute_input": "2023-06-01T19:46:10.181977Z",
     "iopub.status.busy": "2023-06-01T19:46:10.181570Z",
     "iopub.status.idle": "2023-06-01T19:46:10.189798Z",
     "shell.execute_reply": "2023-06-01T19:46:10.188958Z"
    },
    "papermill": {
     "duration": 0.029319,
     "end_time": "2023-06-01T19:46:10.191850",
     "exception": false,
     "start_time": "2023-06-01T19:46:10.162531",
     "status": "completed"
    },
    "tags": []
   },
   "outputs": [
    {
     "data": {
      "text/plain": [
       "4             161\n",
       "6              57\n",
       "8              51\n",
       "0              25\n",
       "12             22\n",
       "3              21\n",
       "4, 6           10\n",
       "6-8             9\n",
       "1               7\n",
       "16              4\n",
       "6, 8            4\n",
       "4/6             4\n",
       "6/8             4\n",
       "4, 6, 2008      3\n",
       "10              3\n",
       "3/4             3\n",
       "4 or 6          2\n",
       "4 / 6           2\n",
       "4, 5, 2006      1\n",
       "4/6/2008        1\n",
       "6 or 8          1\n",
       "V6              1\n",
       "3, 4            1\n",
       "Name: Number of Cylinders, dtype: int64"
      ]
     },
     "execution_count": 19,
     "metadata": {},
     "output_type": "execute_result"
    }
   ],
   "source": [
    "df_car_models['Number of Cylinders'].value_counts()"
   ]
  },
  {
   "cell_type": "code",
   "execution_count": 20,
   "id": "5adef4b7",
   "metadata": {
    "execution": {
     "iopub.execute_input": "2023-06-01T19:46:10.229994Z",
     "iopub.status.busy": "2023-06-01T19:46:10.229469Z",
     "iopub.status.idle": "2023-06-01T19:46:10.238492Z",
     "shell.execute_reply": "2023-06-01T19:46:10.237446Z"
    },
    "papermill": {
     "duration": 0.030134,
     "end_time": "2023-06-01T19:46:10.240585",
     "exception": false,
     "start_time": "2023-06-01T19:46:10.210451",
     "status": "completed"
    },
    "tags": []
   },
   "outputs": [],
   "source": [
    "# inconsistant rows of \n",
    "inconsistant_df_temp=pd.concat([df_car_models[df_car_models['Number of Cylinders']=='4, 6, 2008'],\n",
    "                                df_car_models[df_car_models['Number of Cylinders']=='4/6/2008'],\n",
    "                               df_car_models[df_car_models['Number of Cylinders']=='4, 5, 2006']], axis=0)\n"
   ]
  },
  {
   "cell_type": "code",
   "execution_count": 21,
   "id": "1d0c1917",
   "metadata": {
    "execution": {
     "iopub.execute_input": "2023-06-01T19:46:10.277961Z",
     "iopub.status.busy": "2023-06-01T19:46:10.277281Z",
     "iopub.status.idle": "2023-06-01T19:46:10.295969Z",
     "shell.execute_reply": "2023-06-01T19:46:10.294904Z"
    },
    "papermill": {
     "duration": 0.039931,
     "end_time": "2023-06-01T19:46:10.298266",
     "exception": false,
     "start_time": "2023-06-01T19:46:10.258335",
     "status": "completed"
    },
    "tags": []
   },
   "outputs": [
    {
     "data": {
      "text/html": [
       "<div>\n",
       "<style scoped>\n",
       "    .dataframe tbody tr th:only-of-type {\n",
       "        vertical-align: middle;\n",
       "    }\n",
       "\n",
       "    .dataframe tbody tr th {\n",
       "        vertical-align: top;\n",
       "    }\n",
       "\n",
       "    .dataframe thead th {\n",
       "        text-align: right;\n",
       "    }\n",
       "</style>\n",
       "<table border=\"1\" class=\"dataframe\">\n",
       "  <thead>\n",
       "    <tr style=\"text-align: right;\">\n",
       "      <th></th>\n",
       "      <th>Company</th>\n",
       "      <th>Model</th>\n",
       "      <th>Horsepower</th>\n",
       "      <th>Torque</th>\n",
       "      <th>Transmission Type</th>\n",
       "      <th>Drivetrain</th>\n",
       "      <th>Fuel Economy</th>\n",
       "      <th>Number of Doors</th>\n",
       "      <th>Price</th>\n",
       "      <th>Model Year Range</th>\n",
       "      <th>Body Type</th>\n",
       "      <th>Engine Type</th>\n",
       "      <th>Number of Cylinders</th>\n",
       "    </tr>\n",
       "  </thead>\n",
       "  <tbody>\n",
       "    <tr>\n",
       "      <th>30</th>\n",
       "      <td>Chevrolet</td>\n",
       "      <td>Camaro</td>\n",
       "      <td>275-650</td>\n",
       "      <td>295-650</td>\n",
       "      <td>Manual, Automatic</td>\n",
       "      <td>RWD</td>\n",
       "      <td>16-23 mpg</td>\n",
       "      <td>2</td>\n",
       "      <td>$25,000-$72,000</td>\n",
       "      <td>2010-2021</td>\n",
       "      <td>Coupe</td>\n",
       "      <td>Gas</td>\n",
       "      <td>4, 6, 2008</td>\n",
       "    </tr>\n",
       "    <tr>\n",
       "      <th>70</th>\n",
       "      <td>Volkswagen</td>\n",
       "      <td>Passat</td>\n",
       "      <td>174-276</td>\n",
       "      <td>206-295</td>\n",
       "      <td>Automatic, Manual</td>\n",
       "      <td>FWD</td>\n",
       "      <td>23-34 mpg</td>\n",
       "      <td>4, 5</td>\n",
       "      <td>$24,990</td>\n",
       "      <td>1973-2022</td>\n",
       "      <td>Sedan</td>\n",
       "      <td>Gas, Diesel</td>\n",
       "      <td>4, 6, 2008</td>\n",
       "    </tr>\n",
       "    <tr>\n",
       "      <th>71</th>\n",
       "      <td>Volkswagen</td>\n",
       "      <td>Atlas</td>\n",
       "      <td>235-276</td>\n",
       "      <td>258-266</td>\n",
       "      <td>Automatic</td>\n",
       "      <td>FWD, AWD</td>\n",
       "      <td>18-22 mpg</td>\n",
       "      <td>4, 5, 2007</td>\n",
       "      <td>$31,545</td>\n",
       "      <td>2018-2022</td>\n",
       "      <td>SUV</td>\n",
       "      <td>Gas, Hybrid</td>\n",
       "      <td>4, 6, 2008</td>\n",
       "    </tr>\n",
       "    <tr>\n",
       "      <th>23</th>\n",
       "      <td>Ford</td>\n",
       "      <td>Mustang</td>\n",
       "      <td>310-760 hp</td>\n",
       "      <td>350-625 lb-ft</td>\n",
       "      <td>6-speed manual/10-speed automatic</td>\n",
       "      <td>RWD</td>\n",
       "      <td>16-21 mpg city / 24-32 mpg highway</td>\n",
       "      <td>2</td>\n",
       "      <td>$28,450-$61,600</td>\n",
       "      <td>2015-2021</td>\n",
       "      <td>Coupe/Convertible</td>\n",
       "      <td>Gas V6/V8</td>\n",
       "      <td>4/6/2008</td>\n",
       "    </tr>\n",
       "    <tr>\n",
       "      <th>38</th>\n",
       "      <td>Chevrolet</td>\n",
       "      <td>Colorado</td>\n",
       "      <td>200-308</td>\n",
       "      <td>191-369</td>\n",
       "      <td>Manual, Automatic</td>\n",
       "      <td>RWD/4WD</td>\n",
       "      <td>17-22 mpg</td>\n",
       "      <td>2/4</td>\n",
       "      <td>$26,000-$45,000</td>\n",
       "      <td>2004-2021</td>\n",
       "      <td>Truck</td>\n",
       "      <td>Gas, Diesel</td>\n",
       "      <td>4, 5, 2006</td>\n",
       "    </tr>\n",
       "  </tbody>\n",
       "</table>\n",
       "</div>"
      ],
      "text/plain": [
       "       Company     Model  Horsepower         Torque  \\\n",
       "30   Chevrolet    Camaro     275-650        295-650   \n",
       "70  Volkswagen    Passat     174-276        206-295   \n",
       "71  Volkswagen     Atlas     235-276        258-266   \n",
       "23        Ford   Mustang  310-760 hp  350-625 lb-ft   \n",
       "38   Chevrolet  Colorado     200-308        191-369   \n",
       "\n",
       "                    Transmission Type Drivetrain  \\\n",
       "30                  Manual, Automatic        RWD   \n",
       "70                  Automatic, Manual        FWD   \n",
       "71                          Automatic   FWD, AWD   \n",
       "23  6-speed manual/10-speed automatic        RWD   \n",
       "38                  Manual, Automatic    RWD/4WD   \n",
       "\n",
       "                          Fuel Economy Number of Doors            Price  \\\n",
       "30                           16-23 mpg               2  $25,000-$72,000   \n",
       "70                           23-34 mpg            4, 5          $24,990   \n",
       "71                           18-22 mpg      4, 5, 2007          $31,545   \n",
       "23  16-21 mpg city / 24-32 mpg highway               2  $28,450-$61,600   \n",
       "38                           17-22 mpg             2/4  $26,000-$45,000   \n",
       "\n",
       "   Model Year Range          Body Type  Engine Type Number of Cylinders  \n",
       "30        2010-2021              Coupe          Gas          4, 6, 2008  \n",
       "70        1973-2022              Sedan  Gas, Diesel          4, 6, 2008  \n",
       "71        2018-2022                SUV  Gas, Hybrid          4, 6, 2008  \n",
       "23        2015-2021  Coupe/Convertible    Gas V6/V8            4/6/2008  \n",
       "38        2004-2021              Truck  Gas, Diesel          4, 5, 2006  "
      ]
     },
     "execution_count": 21,
     "metadata": {},
     "output_type": "execute_result"
    }
   ],
   "source": [
    "inconsistant_df_temp"
   ]
  },
  {
   "cell_type": "markdown",
   "id": "64bdfc6d",
   "metadata": {
    "papermill": {
     "duration": 0.017852,
     "end_time": "2023-06-01T19:46:10.334331",
     "exception": false,
     "start_time": "2023-06-01T19:46:10.316479",
     "status": "completed"
    },
    "tags": []
   },
   "source": [
    "#### All the columns have inconsistencies\n"
   ]
  },
  {
   "cell_type": "code",
   "execution_count": 22,
   "id": "5fbfc1f1",
   "metadata": {
    "execution": {
     "iopub.execute_input": "2023-06-01T19:46:10.373319Z",
     "iopub.status.busy": "2023-06-01T19:46:10.372223Z",
     "iopub.status.idle": "2023-06-01T19:46:10.380086Z",
     "shell.execute_reply": "2023-06-01T19:46:10.379261Z"
    },
    "papermill": {
     "duration": 0.02964,
     "end_time": "2023-06-01T19:46:10.382454",
     "exception": false,
     "start_time": "2023-06-01T19:46:10.352814",
     "status": "completed"
    },
    "tags": []
   },
   "outputs": [
    {
     "name": "stderr",
     "output_type": "stream",
     "text": [
      "/tmp/ipykernel_20/3037808526.py:2: FutureWarning: The default value of regex will change from True to False in a future version. In addition, single character regular expressions will *not* be treated as literal strings when regex=True.\n",
      "  df_car_models['Price']=df_car_models['Price'].str.replace('$', '')\n"
     ]
    }
   ],
   "source": [
    "df_car_models['Price']=df_car_models['Price'].str.replace(',', '')\n",
    "df_car_models['Price']=df_car_models['Price'].str.replace('$', '')"
   ]
  },
  {
   "cell_type": "code",
   "execution_count": 23,
   "id": "a5c54dff",
   "metadata": {
    "execution": {
     "iopub.execute_input": "2023-06-01T19:46:10.420646Z",
     "iopub.status.busy": "2023-06-01T19:46:10.419839Z",
     "iopub.status.idle": "2023-06-01T19:46:10.424873Z",
     "shell.execute_reply": "2023-06-01T19:46:10.424056Z"
    },
    "papermill": {
     "duration": 0.026518,
     "end_time": "2023-06-01T19:46:10.427048",
     "exception": false,
     "start_time": "2023-06-01T19:46:10.400530",
     "status": "completed"
    },
    "tags": []
   },
   "outputs": [],
   "source": [
    "cleaned_prices = [price.replace('Starting at ', '') for price in df_car_models[\"Price\"]]"
   ]
  },
  {
   "cell_type": "code",
   "execution_count": 24,
   "id": "d18c8990",
   "metadata": {
    "execution": {
     "iopub.execute_input": "2023-06-01T19:46:10.465381Z",
     "iopub.status.busy": "2023-06-01T19:46:10.464784Z",
     "iopub.status.idle": "2023-06-01T19:46:10.478054Z",
     "shell.execute_reply": "2023-06-01T19:46:10.476917Z"
    },
    "papermill": {
     "duration": 0.035372,
     "end_time": "2023-06-01T19:46:10.480647",
     "exception": false,
     "start_time": "2023-06-01T19:46:10.445275",
     "status": "completed"
    },
    "tags": []
   },
   "outputs": [],
   "source": [
    "import re\n",
    "\n",
    "def convert_to_usd(value):\n",
    "    \n",
    "    value=str(value).replace(' ','')  \n",
    "    if '£' in value:\n",
    "        value = float(value.replace('£', '')) / 1.05\n",
    "    \n",
    "    elif '€' in value:\n",
    "        value = float(value.replace('€', '')) / 1.2     \n",
    "        \n",
    "    elif ('Rs.' in value) or ('₹' in value):\n",
    "        if 'Lakh' in value or 'lakhs' in value:\n",
    "            if \"-\" in value:\n",
    "                min_val, max_val = value.split('-')\n",
    "                min_val=str(min_val).replace('lakhs','').replace('Lakh','')\n",
    "                value=float(min_val.replace('Rs.', '').replace('₹','')) *100000/74.5\n",
    "                \n",
    "            else:\n",
    "                min_val=min_val.replace('lakhs','').replace('Lakh','')\n",
    "                value = float(value.replace('Rs.', '').replace('₹','')) *100000/74.5\n",
    "        else:\n",
    "            value = float(value.replace('Rs.', '')) * 74.5  \n",
    "\n",
    "    elif ('Lakh' in value) or ('lakhs' in value):\n",
    "        value=float(value.replace('lakhs', '').replace('Lakh','')) * 100000\n",
    "        \n",
    "    elif 'million' in value:\n",
    "        value = float(value.replace('million', '')) * 1000000\n",
    "\n",
    "    elif 'Billion' in value:\n",
    "        value = float(value.replace('Billion', '')) * 1000000000\n",
    "        \n",
    "    elif \"-\" in value:\n",
    "        min_val, max_val = value.split('-')\n",
    "        value=float(min_val)\n",
    "\n",
    "    return float(value)\n",
    "\n",
    "\n",
    "converted_prices = [convert_to_usd(price) for price in cleaned_prices]"
   ]
  },
  {
   "cell_type": "code",
   "execution_count": 25,
   "id": "13a579b7",
   "metadata": {
    "execution": {
     "iopub.execute_input": "2023-06-01T19:46:10.519245Z",
     "iopub.status.busy": "2023-06-01T19:46:10.518539Z",
     "iopub.status.idle": "2023-06-01T19:46:10.523712Z",
     "shell.execute_reply": "2023-06-01T19:46:10.522929Z"
    },
    "papermill": {
     "duration": 0.02694,
     "end_time": "2023-06-01T19:46:10.525767",
     "exception": false,
     "start_time": "2023-06-01T19:46:10.498827",
     "status": "completed"
    },
    "tags": []
   },
   "outputs": [],
   "source": [
    "df_car_models['cleaned_prices']=converted_prices"
   ]
  },
  {
   "cell_type": "code",
   "execution_count": 26,
   "id": "3d6f7557",
   "metadata": {
    "execution": {
     "iopub.execute_input": "2023-06-01T19:46:10.564972Z",
     "iopub.status.busy": "2023-06-01T19:46:10.564074Z",
     "iopub.status.idle": "2023-06-01T19:46:10.583565Z",
     "shell.execute_reply": "2023-06-01T19:46:10.582491Z"
    },
    "papermill": {
     "duration": 0.04192,
     "end_time": "2023-06-01T19:46:10.585879",
     "exception": false,
     "start_time": "2023-06-01T19:46:10.543959",
     "status": "completed"
    },
    "tags": []
   },
   "outputs": [
    {
     "data": {
      "text/html": [
       "<div>\n",
       "<style scoped>\n",
       "    .dataframe tbody tr th:only-of-type {\n",
       "        vertical-align: middle;\n",
       "    }\n",
       "\n",
       "    .dataframe tbody tr th {\n",
       "        vertical-align: top;\n",
       "    }\n",
       "\n",
       "    .dataframe thead th {\n",
       "        text-align: right;\n",
       "    }\n",
       "</style>\n",
       "<table border=\"1\" class=\"dataframe\">\n",
       "  <thead>\n",
       "    <tr style=\"text-align: right;\">\n",
       "      <th></th>\n",
       "      <th>Company</th>\n",
       "      <th>Model</th>\n",
       "      <th>Horsepower</th>\n",
       "      <th>Torque</th>\n",
       "      <th>Transmission Type</th>\n",
       "      <th>Drivetrain</th>\n",
       "      <th>Fuel Economy</th>\n",
       "      <th>Number of Doors</th>\n",
       "      <th>Price</th>\n",
       "      <th>Model Year Range</th>\n",
       "      <th>Body Type</th>\n",
       "      <th>Engine Type</th>\n",
       "      <th>Number of Cylinders</th>\n",
       "      <th>cleaned_prices</th>\n",
       "    </tr>\n",
       "  </thead>\n",
       "  <tbody>\n",
       "    <tr>\n",
       "      <th>399</th>\n",
       "      <td>Tata Motors</td>\n",
       "      <td>Safari</td>\n",
       "      <td>170 bhp</td>\n",
       "      <td>350 Nm</td>\n",
       "      <td>6-speed manual, 6-speed automatic</td>\n",
       "      <td>All-wheel drive</td>\n",
       "      <td>12.7 kmpl</td>\n",
       "      <td>7</td>\n",
       "      <td>24.69 lakhs</td>\n",
       "      <td>2021-present</td>\n",
       "      <td>SUV</td>\n",
       "      <td>2.0L turbocharged petrol</td>\n",
       "      <td>4</td>\n",
       "      <td>2.469000e+06</td>\n",
       "    </tr>\n",
       "    <tr>\n",
       "      <th>400</th>\n",
       "      <td>Tata Motors</td>\n",
       "      <td>Altroz</td>\n",
       "      <td>90 hp</td>\n",
       "      <td>113 Nm</td>\n",
       "      <td>5-speed manual, AMT</td>\n",
       "      <td>Front-wheel drive</td>\n",
       "      <td>19.6 kmpl / 22.4 kmpl</td>\n",
       "      <td>5</td>\n",
       "      <td>₹5.49 lakhs - ₹9.39 lakhs</td>\n",
       "      <td>2020-present</td>\n",
       "      <td>Hatchback</td>\n",
       "      <td>1.2L turbocharged petrol</td>\n",
       "      <td>3</td>\n",
       "      <td>7.369128e+03</td>\n",
       "    </tr>\n",
       "    <tr>\n",
       "      <th>401</th>\n",
       "      <td>Tata Motors</td>\n",
       "      <td>Tiago</td>\n",
       "      <td>70 hp</td>\n",
       "      <td>95 Nm</td>\n",
       "      <td>5-speed manual</td>\n",
       "      <td>Front-wheel drive</td>\n",
       "      <td>23.84 kmpl / 26.59 kmpl</td>\n",
       "      <td>5</td>\n",
       "      <td>₹4.19 lakhs - ₹6.99 lakhs</td>\n",
       "      <td>2016-present</td>\n",
       "      <td>Hatchback</td>\n",
       "      <td>1.2L naturally aspirated petrol</td>\n",
       "      <td>3</td>\n",
       "      <td>5.624161e+03</td>\n",
       "    </tr>\n",
       "    <tr>\n",
       "      <th>402</th>\n",
       "      <td>Tata Motors</td>\n",
       "      <td>Tigor</td>\n",
       "      <td>70 hp</td>\n",
       "      <td>95 Nm</td>\n",
       "      <td>5-speed manual</td>\n",
       "      <td>Front-wheel drive</td>\n",
       "      <td>23.84 kmpl / 26.59 kmpl</td>\n",
       "      <td>5</td>\n",
       "      <td>₹5.49 lakhs - ₹7.49 lakhs</td>\n",
       "      <td>2017-present</td>\n",
       "      <td>Sedan</td>\n",
       "      <td>1.2L naturally aspirated petrol</td>\n",
       "      <td>3</td>\n",
       "      <td>7.369128e+03</td>\n",
       "    </tr>\n",
       "    <tr>\n",
       "      <th>403</th>\n",
       "      <td>Tata Motors</td>\n",
       "      <td>Thar</td>\n",
       "      <td>117 bhp @ 3500 rpm</td>\n",
       "      <td>250 Nm @ 1500-2000 rpm</td>\n",
       "      <td>5-speed manual, 6-speed automatic</td>\n",
       "      <td>Rear-wheel drive, all-wheel drive</td>\n",
       "      <td>15.2 kmpl / 18 kmpl</td>\n",
       "      <td>5</td>\n",
       "      <td>₹10.55 Lakh - ₹16.78 Lakh</td>\n",
       "      <td>2020-present</td>\n",
       "      <td>SUV</td>\n",
       "      <td>2.0L turbocharged diesel</td>\n",
       "      <td>4</td>\n",
       "      <td>1.416107e+04</td>\n",
       "    </tr>\n",
       "  </tbody>\n",
       "</table>\n",
       "</div>"
      ],
      "text/plain": [
       "         Company   Model          Horsepower                  Torque  \\\n",
       "399  Tata Motors  Safari             170 bhp                  350 Nm   \n",
       "400  Tata Motors  Altroz               90 hp                  113 Nm   \n",
       "401  Tata Motors   Tiago               70 hp                   95 Nm   \n",
       "402  Tata Motors   Tigor               70 hp                   95 Nm   \n",
       "403  Tata Motors    Thar  117 bhp @ 3500 rpm  250 Nm @ 1500-2000 rpm   \n",
       "\n",
       "                     Transmission Type                         Drivetrain  \\\n",
       "399  6-speed manual, 6-speed automatic                    All-wheel drive   \n",
       "400                5-speed manual, AMT                  Front-wheel drive   \n",
       "401                     5-speed manual                  Front-wheel drive   \n",
       "402                     5-speed manual                  Front-wheel drive   \n",
       "403  5-speed manual, 6-speed automatic  Rear-wheel drive, all-wheel drive   \n",
       "\n",
       "                Fuel Economy Number of Doors                      Price  \\\n",
       "399                12.7 kmpl               7                24.69 lakhs   \n",
       "400    19.6 kmpl / 22.4 kmpl               5  ₹5.49 lakhs - ₹9.39 lakhs   \n",
       "401  23.84 kmpl / 26.59 kmpl               5  ₹4.19 lakhs - ₹6.99 lakhs   \n",
       "402  23.84 kmpl / 26.59 kmpl               5  ₹5.49 lakhs - ₹7.49 lakhs   \n",
       "403      15.2 kmpl / 18 kmpl               5  ₹10.55 Lakh - ₹16.78 Lakh   \n",
       "\n",
       "    Model Year Range  Body Type                      Engine Type  \\\n",
       "399     2021-present        SUV         2.0L turbocharged petrol   \n",
       "400     2020-present  Hatchback         1.2L turbocharged petrol   \n",
       "401     2016-present  Hatchback  1.2L naturally aspirated petrol   \n",
       "402     2017-present      Sedan  1.2L naturally aspirated petrol   \n",
       "403     2020-present        SUV         2.0L turbocharged diesel   \n",
       "\n",
       "    Number of Cylinders  cleaned_prices  \n",
       "399                   4    2.469000e+06  \n",
       "400                   3    7.369128e+03  \n",
       "401                   3    5.624161e+03  \n",
       "402                   3    7.369128e+03  \n",
       "403                   4    1.416107e+04  "
      ]
     },
     "execution_count": 26,
     "metadata": {},
     "output_type": "execute_result"
    }
   ],
   "source": [
    "df_car_models.tail()"
   ]
  },
  {
   "cell_type": "code",
   "execution_count": 27,
   "id": "109b0869",
   "metadata": {
    "execution": {
     "iopub.execute_input": "2023-06-01T19:46:10.624939Z",
     "iopub.status.busy": "2023-06-01T19:46:10.624298Z",
     "iopub.status.idle": "2023-06-01T19:46:10.630560Z",
     "shell.execute_reply": "2023-06-01T19:46:10.629521Z"
    },
    "papermill": {
     "duration": 0.028484,
     "end_time": "2023-06-01T19:46:10.632945",
     "exception": false,
     "start_time": "2023-06-01T19:46:10.604461",
     "status": "completed"
    },
    "tags": []
   },
   "outputs": [],
   "source": [
    "df_car_models['Horsepower'] = df_car_models['Horsepower'].str.replace(',', '') "
   ]
  },
  {
   "cell_type": "code",
   "execution_count": 28,
   "id": "f937b2a6",
   "metadata": {
    "execution": {
     "iopub.execute_input": "2023-06-01T19:46:10.671630Z",
     "iopub.status.busy": "2023-06-01T19:46:10.671234Z",
     "iopub.status.idle": "2023-06-01T19:46:10.678321Z",
     "shell.execute_reply": "2023-06-01T19:46:10.677251Z"
    },
    "papermill": {
     "duration": 0.029268,
     "end_time": "2023-06-01T19:46:10.680770",
     "exception": false,
     "start_time": "2023-06-01T19:46:10.651502",
     "status": "completed"
    },
    "tags": []
   },
   "outputs": [],
   "source": [
    "# Horsepower has unit of hp, bhp and ps\n",
    "# bhp is almost equivalent to hp (1bhp=0.99hp)\n",
    "# ps is 0.9863 times of hp\n",
    "df_car_models['Horsepower'] = df_car_models['Horsepower'].str.extract(r'(\\d+)', expand=False).astype(int)"
   ]
  },
  {
   "cell_type": "code",
   "execution_count": 29,
   "id": "189eefec",
   "metadata": {
    "execution": {
     "iopub.execute_input": "2023-06-01T19:46:10.720903Z",
     "iopub.status.busy": "2023-06-01T19:46:10.719805Z",
     "iopub.status.idle": "2023-06-01T19:46:10.728463Z",
     "shell.execute_reply": "2023-06-01T19:46:10.727143Z"
    },
    "papermill": {
     "duration": 0.030759,
     "end_time": "2023-06-01T19:46:10.730770",
     "exception": false,
     "start_time": "2023-06-01T19:46:10.700011",
     "status": "completed"
    },
    "tags": []
   },
   "outputs": [
    {
     "data": {
      "text/plain": [
       "(2000, 68)"
      ]
     },
     "execution_count": 29,
     "metadata": {},
     "output_type": "execute_result"
    }
   ],
   "source": [
    "df_car_models['Horsepower'].max(),df_car_models['Horsepower'].min()"
   ]
  },
  {
   "cell_type": "code",
   "execution_count": 30,
   "id": "e92b8dc4",
   "metadata": {
    "execution": {
     "iopub.execute_input": "2023-06-01T19:46:10.772196Z",
     "iopub.status.busy": "2023-06-01T19:46:10.771088Z",
     "iopub.status.idle": "2023-06-01T19:46:10.778231Z",
     "shell.execute_reply": "2023-06-01T19:46:10.776908Z"
    },
    "papermill": {
     "duration": 0.030516,
     "end_time": "2023-06-01T19:46:10.780656",
     "exception": false,
     "start_time": "2023-06-01T19:46:10.750140",
     "status": "completed"
    },
    "tags": []
   },
   "outputs": [
    {
     "name": "stdout",
     "output_type": "stream",
     "text": [
      "2000 68\n"
     ]
    }
   ],
   "source": [
    "print(df_car_models['Horsepower'].max(),df_car_models['Horsepower'].min())"
   ]
  },
  {
   "cell_type": "code",
   "execution_count": 31,
   "id": "7d3fbf6c",
   "metadata": {
    "execution": {
     "iopub.execute_input": "2023-06-01T19:46:10.820911Z",
     "iopub.status.busy": "2023-06-01T19:46:10.820224Z",
     "iopub.status.idle": "2023-06-01T19:46:10.832308Z",
     "shell.execute_reply": "2023-06-01T19:46:10.831532Z"
    },
    "papermill": {
     "duration": 0.034585,
     "end_time": "2023-06-01T19:46:10.834483",
     "exception": false,
     "start_time": "2023-06-01T19:46:10.799898",
     "status": "completed"
    },
    "tags": []
   },
   "outputs": [
    {
     "data": {
      "text/plain": [
       "count     397.000000\n",
       "mean      338.788413\n",
       "std       269.130879\n",
       "min        68.000000\n",
       "25%       170.000000\n",
       "50%       255.000000\n",
       "75%       395.000000\n",
       "max      2000.000000\n",
       "Name: Horsepower, dtype: float64"
      ]
     },
     "execution_count": 31,
     "metadata": {},
     "output_type": "execute_result"
    }
   ],
   "source": [
    "df_car_models['Horsepower'].describe()"
   ]
  },
  {
   "cell_type": "markdown",
   "id": "449b0655",
   "metadata": {
    "papermill": {
     "duration": 0.019067,
     "end_time": "2023-06-01T19:46:10.872547",
     "exception": false,
     "start_time": "2023-06-01T19:46:10.853480",
     "status": "completed"
    },
    "tags": []
   },
   "source": [
    "### **Which company releases more models?**"
   ]
  },
  {
   "cell_type": "code",
   "execution_count": 32,
   "id": "ad14c853",
   "metadata": {
    "execution": {
     "iopub.execute_input": "2023-06-01T19:46:10.913272Z",
     "iopub.status.busy": "2023-06-01T19:46:10.912895Z",
     "iopub.status.idle": "2023-06-01T19:46:10.921155Z",
     "shell.execute_reply": "2023-06-01T19:46:10.920122Z"
    },
    "papermill": {
     "duration": 0.03225,
     "end_time": "2023-06-01T19:46:10.924589",
     "exception": false,
     "start_time": "2023-06-01T19:46:10.892339",
     "status": "completed"
    },
    "tags": []
   },
   "outputs": [
    {
     "name": "stdout",
     "output_type": "stream",
     "text": [
      "Number of Companies\n"
     ]
    },
    {
     "data": {
      "text/plain": [
       "61"
      ]
     },
     "execution_count": 32,
     "metadata": {},
     "output_type": "execute_result"
    }
   ],
   "source": [
    "print(\"Number of Companies\")\n",
    "blocks=df_car_models['Company'].unique()\n",
    "len(blocks)"
   ]
  },
  {
   "cell_type": "code",
   "execution_count": 33,
   "id": "4d8c6af6",
   "metadata": {
    "execution": {
     "iopub.execute_input": "2023-06-01T19:46:10.964864Z",
     "iopub.status.busy": "2023-06-01T19:46:10.964458Z",
     "iopub.status.idle": "2023-06-01T19:46:10.974703Z",
     "shell.execute_reply": "2023-06-01T19:46:10.973266Z"
    },
    "papermill": {
     "duration": 0.033627,
     "end_time": "2023-06-01T19:46:10.977493",
     "exception": false,
     "start_time": "2023-06-01T19:46:10.943866",
     "status": "completed"
    },
    "tags": []
   },
   "outputs": [
    {
     "name": "stdout",
     "output_type": "stream",
     "text": [
      "Top 5 Companies and their Total Number of Models:\n"
     ]
    },
    {
     "data": {
      "text/plain": [
       "Chevrolet     18\n",
       "Toyota        16\n",
       "Suzuki        16\n",
       "Koenigsegg    12\n",
       "Renault       11\n",
       "Name: Company, dtype: int64"
      ]
     },
     "execution_count": 33,
     "metadata": {},
     "output_type": "execute_result"
    }
   ],
   "source": [
    "# top 5 companies and number of models \n",
    "print(\"Top 5 Companies and their Total Number of Models:\")\n",
    "value_count =df_car_models['Company'].value_counts()\n",
    "value_count.head()"
   ]
  },
  {
   "cell_type": "code",
   "execution_count": 34,
   "id": "b8ca4032",
   "metadata": {
    "execution": {
     "iopub.execute_input": "2023-06-01T19:46:11.018763Z",
     "iopub.status.busy": "2023-06-01T19:46:11.018368Z",
     "iopub.status.idle": "2023-06-01T19:46:11.930781Z",
     "shell.execute_reply": "2023-06-01T19:46:11.929872Z"
    },
    "papermill": {
     "duration": 0.935884,
     "end_time": "2023-06-01T19:46:11.932912",
     "exception": false,
     "start_time": "2023-06-01T19:46:10.997028",
     "status": "completed"
    },
    "tags": []
   },
   "outputs": [
    {
     "data": {
      "image/png": "[encoded data removed]",
      "text/plain": [
       "<Figure size 2000x1000 with 1 Axes>"
      ]
     },
     "metadata": {},
     "output_type": "display_data"
    }
   ],
   "source": [
    "from matplotlib import pyplot as plt\n",
    "\n",
    "plt.figure(figsize=(20, 10))\n",
    "sorted_value=value_count.sort_values(ascending=False)\n",
    "plt.bar(sorted_value.index, sorted_value.values)\n",
    "plt.xticks(range(len(sorted_value)), sorted_value.index,rotation=90)\n",
    "plt.show()"
   ]
  },
  {
   "cell_type": "code",
   "execution_count": null,
   "id": "006a2a87",
   "metadata": {
    "papermill": {
     "duration": 0.02039,
     "end_time": "2023-06-01T19:46:11.974174",
     "exception": false,
     "start_time": "2023-06-01T19:46:11.953784",
     "status": "completed"
    },
    "tags": []
   },
   "outputs": [],
   "source": []
  },
  {
   "cell_type": "markdown",
   "id": "d8476434",
   "metadata": {
    "papermill": {
     "duration": 0.020466,
     "end_time": "2023-06-01T19:46:12.015186",
     "exception": false,
     "start_time": "2023-06-01T19:46:11.994720",
     "status": "completed"
    },
    "tags": []
   },
   "source": [
    "### Top 3 luxry and top 3 affordable cars?"
   ]
  },
  {
   "cell_type": "code",
   "execution_count": 35,
   "id": "b2b27054",
   "metadata": {
    "execution": {
     "iopub.execute_input": "2023-06-01T19:46:12.059386Z",
     "iopub.status.busy": "2023-06-01T19:46:12.057962Z",
     "iopub.status.idle": "2023-06-01T19:46:12.110091Z",
     "shell.execute_reply": "2023-06-01T19:46:12.108808Z"
    },
    "papermill": {
     "duration": 0.076996,
     "end_time": "2023-06-01T19:46:12.112896",
     "exception": false,
     "start_time": "2023-06-01T19:46:12.035900",
     "status": "completed"
    },
    "tags": []
   },
   "outputs": [],
   "source": [
    "length_ = len(blocks)\n",
    "avg_cost_company_model=list()\n",
    "for i in range(0,length_):\n",
    "    avg_cost_company_model.append(int(df_car_models[df_car_models['Company']==blocks[i]]['cleaned_prices'].mean()))"
   ]
  },
  {
   "cell_type": "code",
   "execution_count": 36,
   "id": "ccae4ae9",
   "metadata": {
    "execution": {
     "iopub.execute_input": "2023-06-01T19:46:12.156532Z",
     "iopub.status.busy": "2023-06-01T19:46:12.156165Z",
     "iopub.status.idle": "2023-06-01T19:46:12.163694Z",
     "shell.execute_reply": "2023-06-01T19:46:12.162275Z"
    },
    "papermill": {
     "duration": 0.032548,
     "end_time": "2023-06-01T19:46:12.166528",
     "exception": false,
     "start_time": "2023-06-01T19:46:12.133980",
     "status": "completed"
    },
    "tags": []
   },
   "outputs": [
    {
     "data": {
      "text/plain": [
       "[427565, 18445, 31328, 28752, 34425]"
      ]
     },
     "execution_count": 36,
     "metadata": {},
     "output_type": "execute_result"
    }
   ],
   "source": [
    "avg_cost_company_model[:5]"
   ]
  },
  {
   "cell_type": "code",
   "execution_count": 37,
   "id": "f9fedbc4",
   "metadata": {
    "execution": {
     "iopub.execute_input": "2023-06-01T19:46:12.213340Z",
     "iopub.status.busy": "2023-06-01T19:46:12.212962Z",
     "iopub.status.idle": "2023-06-01T19:46:12.932160Z",
     "shell.execute_reply": "2023-06-01T19:46:12.931310Z"
    },
    "papermill": {
     "duration": 0.745702,
     "end_time": "2023-06-01T19:46:12.934861",
     "exception": false,
     "start_time": "2023-06-01T19:46:12.189159",
     "status": "completed"
    },
    "tags": []
   },
   "outputs": [
    {
     "data": {
      "image/png": "[encoded data removed]",
      "text/plain": [
       "<Figure size 2000x1000 with 1 Axes>"
      ]
     },
     "metadata": {},
     "output_type": "display_data"
    }
   ],
   "source": [
    "plt.figure(figsize=(20, 10))\n",
    "plt.bar(blocks,avg_cost_company_model)\n",
    "plt.xticks(range(len(avg_cost_company_model)), blocks,rotation=90)\n",
    "plt.show()"
   ]
  },
  {
   "cell_type": "code",
   "execution_count": 38,
   "id": "0fbae53a",
   "metadata": {
    "execution": {
     "iopub.execute_input": "2023-06-01T19:46:12.981288Z",
     "iopub.status.busy": "2023-06-01T19:46:12.980323Z",
     "iopub.status.idle": "2023-06-01T19:46:12.995101Z",
     "shell.execute_reply": "2023-06-01T19:46:12.994018Z"
    },
    "papermill": {
     "duration": 0.04037,
     "end_time": "2023-06-01T19:46:12.997300",
     "exception": false,
     "start_time": "2023-06-01T19:46:12.956930",
     "status": "completed"
    },
    "tags": []
   },
   "outputs": [
    {
     "data": {
      "text/html": [
       "<div>\n",
       "<style scoped>\n",
       "    .dataframe tbody tr th:only-of-type {\n",
       "        vertical-align: middle;\n",
       "    }\n",
       "\n",
       "    .dataframe tbody tr th {\n",
       "        vertical-align: top;\n",
       "    }\n",
       "\n",
       "    .dataframe thead th {\n",
       "        text-align: right;\n",
       "    }\n",
       "</style>\n",
       "<table border=\"1\" class=\"dataframe\">\n",
       "  <thead>\n",
       "    <tr style=\"text-align: right;\">\n",
       "      <th></th>\n",
       "      <th>Company</th>\n",
       "      <th>Avg_car_cost</th>\n",
       "    </tr>\n",
       "  </thead>\n",
       "  <tbody>\n",
       "    <tr>\n",
       "      <th>0</th>\n",
       "      <td>Ferrari</td>\n",
       "      <td>427565</td>\n",
       "    </tr>\n",
       "    <tr>\n",
       "      <th>1</th>\n",
       "      <td>Mahindra</td>\n",
       "      <td>18445</td>\n",
       "    </tr>\n",
       "    <tr>\n",
       "      <th>2</th>\n",
       "      <td>Toyota</td>\n",
       "      <td>31328</td>\n",
       "    </tr>\n",
       "    <tr>\n",
       "      <th>3</th>\n",
       "      <td>Ford</td>\n",
       "      <td>28752</td>\n",
       "    </tr>\n",
       "    <tr>\n",
       "      <th>4</th>\n",
       "      <td>Chevrolet</td>\n",
       "      <td>34425</td>\n",
       "    </tr>\n",
       "  </tbody>\n",
       "</table>\n",
       "</div>"
      ],
      "text/plain": [
       "     Company  Avg_car_cost\n",
       "0    Ferrari        427565\n",
       "1   Mahindra         18445\n",
       "2     Toyota         31328\n",
       "3       Ford         28752\n",
       "4  Chevrolet         34425"
      ]
     },
     "execution_count": 38,
     "metadata": {},
     "output_type": "execute_result"
    }
   ],
   "source": [
    "df=pd.DataFrame([],columns=['Company','Avg_car_cost'])\n",
    "df['Company']=blocks\n",
    "df['Avg_car_cost']=avg_cost_company_model\n",
    "df.head()"
   ]
  },
  {
   "cell_type": "code",
   "execution_count": 39,
   "id": "a0469ade",
   "metadata": {
    "execution": {
     "iopub.execute_input": "2023-06-01T19:46:13.044980Z",
     "iopub.status.busy": "2023-06-01T19:46:13.044179Z",
     "iopub.status.idle": "2023-06-01T19:46:13.055346Z",
     "shell.execute_reply": "2023-06-01T19:46:13.054496Z"
    },
    "papermill": {
     "duration": 0.037989,
     "end_time": "2023-06-01T19:46:13.057785",
     "exception": false,
     "start_time": "2023-06-01T19:46:13.019796",
     "status": "completed"
    },
    "tags": []
   },
   "outputs": [
    {
     "data": {
      "text/html": [
       "<div>\n",
       "<style scoped>\n",
       "    .dataframe tbody tr th:only-of-type {\n",
       "        vertical-align: middle;\n",
       "    }\n",
       "\n",
       "    .dataframe tbody tr th {\n",
       "        vertical-align: top;\n",
       "    }\n",
       "\n",
       "    .dataframe thead th {\n",
       "        text-align: right;\n",
       "    }\n",
       "</style>\n",
       "<table border=\"1\" class=\"dataframe\">\n",
       "  <thead>\n",
       "    <tr style=\"text-align: right;\">\n",
       "      <th></th>\n",
       "      <th>Company</th>\n",
       "      <th>Avg_car_cost</th>\n",
       "    </tr>\n",
       "  </thead>\n",
       "  <tbody>\n",
       "    <tr>\n",
       "      <th>37</th>\n",
       "      <td>Pagani</td>\n",
       "      <td>2580000</td>\n",
       "    </tr>\n",
       "    <tr>\n",
       "      <th>38</th>\n",
       "      <td>Koenigsegg</td>\n",
       "      <td>1970833</td>\n",
       "    </tr>\n",
       "    <tr>\n",
       "      <th>35</th>\n",
       "      <td>Bugatti</td>\n",
       "      <td>1775000</td>\n",
       "    </tr>\n",
       "  </tbody>\n",
       "</table>\n",
       "</div>"
      ],
      "text/plain": [
       "       Company  Avg_car_cost\n",
       "37      Pagani       2580000\n",
       "38  Koenigsegg       1970833\n",
       "35     Bugatti       1775000"
      ]
     },
     "execution_count": 39,
     "metadata": {},
     "output_type": "execute_result"
    }
   ],
   "source": [
    "#Top 3 luxury car based on avg price of cars\n",
    "df_sorted=df.sort_values(by='Avg_car_cost',ascending=False)\n",
    "df_sorted.head(3)"
   ]
  },
  {
   "cell_type": "code",
   "execution_count": 40,
   "id": "8d59dcac",
   "metadata": {
    "execution": {
     "iopub.execute_input": "2023-06-01T19:46:13.108570Z",
     "iopub.status.busy": "2023-06-01T19:46:13.107844Z",
     "iopub.status.idle": "2023-06-01T19:46:13.117547Z",
     "shell.execute_reply": "2023-06-01T19:46:13.116429Z"
    },
    "papermill": {
     "duration": 0.038876,
     "end_time": "2023-06-01T19:46:13.120158",
     "exception": false,
     "start_time": "2023-06-01T19:46:13.081282",
     "status": "completed"
    },
    "tags": []
   },
   "outputs": [
    {
     "data": {
      "text/html": [
       "<div>\n",
       "<style scoped>\n",
       "    .dataframe tbody tr th:only-of-type {\n",
       "        vertical-align: middle;\n",
       "    }\n",
       "\n",
       "    .dataframe tbody tr th {\n",
       "        vertical-align: top;\n",
       "    }\n",
       "\n",
       "    .dataframe thead th {\n",
       "        text-align: right;\n",
       "    }\n",
       "</style>\n",
       "<table border=\"1\" class=\"dataframe\">\n",
       "  <thead>\n",
       "    <tr style=\"text-align: right;\">\n",
       "      <th></th>\n",
       "      <th>Company</th>\n",
       "      <th>Avg_car_cost</th>\n",
       "    </tr>\n",
       "  </thead>\n",
       "  <tbody>\n",
       "    <tr>\n",
       "      <th>55</th>\n",
       "      <td>Vauxhall</td>\n",
       "      <td>20974</td>\n",
       "    </tr>\n",
       "    <tr>\n",
       "      <th>18</th>\n",
       "      <td>Mitsubishi</td>\n",
       "      <td>20868</td>\n",
       "    </tr>\n",
       "    <tr>\n",
       "      <th>1</th>\n",
       "      <td>Mahindra</td>\n",
       "      <td>18445</td>\n",
       "    </tr>\n",
       "  </tbody>\n",
       "</table>\n",
       "</div>"
      ],
      "text/plain": [
       "       Company  Avg_car_cost\n",
       "55    Vauxhall         20974\n",
       "18  Mitsubishi         20868\n",
       "1     Mahindra         18445"
      ]
     },
     "execution_count": 40,
     "metadata": {},
     "output_type": "execute_result"
    }
   ],
   "source": [
    "# Top 3 Affordable cars\n",
    "df_sorted.tail(3)"
   ]
  },
  {
   "cell_type": "code",
   "execution_count": 41,
   "id": "494b62cd",
   "metadata": {
    "execution": {
     "iopub.execute_input": "2023-06-01T19:46:13.168302Z",
     "iopub.status.busy": "2023-06-01T19:46:13.167651Z",
     "iopub.status.idle": "2023-06-01T19:46:13.181994Z",
     "shell.execute_reply": "2023-06-01T19:46:13.180989Z"
    },
    "papermill": {
     "duration": 0.041137,
     "end_time": "2023-06-01T19:46:13.184479",
     "exception": false,
     "start_time": "2023-06-01T19:46:13.143342",
     "status": "completed"
    },
    "tags": []
   },
   "outputs": [
    {
     "data": {
      "text/html": [
       "<div>\n",
       "<style scoped>\n",
       "    .dataframe tbody tr th:only-of-type {\n",
       "        vertical-align: middle;\n",
       "    }\n",
       "\n",
       "    .dataframe tbody tr th {\n",
       "        vertical-align: top;\n",
       "    }\n",
       "\n",
       "    .dataframe thead th {\n",
       "        text-align: right;\n",
       "    }\n",
       "</style>\n",
       "<table border=\"1\" class=\"dataframe\">\n",
       "  <thead>\n",
       "    <tr style=\"text-align: right;\">\n",
       "      <th></th>\n",
       "      <th>Company</th>\n",
       "      <th>Model</th>\n",
       "      <th>cleaned_prices</th>\n",
       "    </tr>\n",
       "  </thead>\n",
       "  <tbody>\n",
       "    <tr>\n",
       "      <th>252</th>\n",
       "      <td>Koenigsegg</td>\n",
       "      <td>CCXR Trevita</td>\n",
       "      <td>4800000.0</td>\n",
       "    </tr>\n",
       "    <tr>\n",
       "      <th>348</th>\n",
       "      <td>Lamborghini</td>\n",
       "      <td>Sian</td>\n",
       "      <td>3200000.0</td>\n",
       "    </tr>\n",
       "    <tr>\n",
       "      <th>244</th>\n",
       "      <td>Pagani</td>\n",
       "      <td>Huayra Imola</td>\n",
       "      <td>3200000.0</td>\n",
       "    </tr>\n",
       "  </tbody>\n",
       "</table>\n",
       "</div>"
      ],
      "text/plain": [
       "         Company         Model  cleaned_prices\n",
       "252   Koenigsegg  CCXR Trevita       4800000.0\n",
       "348  Lamborghini          Sian       3200000.0\n",
       "244       Pagani  Huayra Imola       3200000.0"
      ]
     },
     "execution_count": 41,
     "metadata": {},
     "output_type": "execute_result"
    }
   ],
   "source": [
    "#Top 3 luxury models\n",
    "df_cost=df_car_models.sort_values(by='cleaned_prices',ascending=False)\n",
    "df_cost[['Company','Model','cleaned_prices']].head(3)"
   ]
  },
  {
   "cell_type": "code",
   "execution_count": 42,
   "id": "25c93832",
   "metadata": {
    "execution": {
     "iopub.execute_input": "2023-06-01T19:46:13.232713Z",
     "iopub.status.busy": "2023-06-01T19:46:13.232056Z",
     "iopub.status.idle": "2023-06-01T19:46:13.246021Z",
     "shell.execute_reply": "2023-06-01T19:46:13.244860Z"
    },
    "papermill": {
     "duration": 0.040563,
     "end_time": "2023-06-01T19:46:13.248446",
     "exception": false,
     "start_time": "2023-06-01T19:46:13.207883",
     "status": "completed"
    },
    "tags": []
   },
   "outputs": [
    {
     "data": {
      "text/html": [
       "<div>\n",
       "<style scoped>\n",
       "    .dataframe tbody tr th:only-of-type {\n",
       "        vertical-align: middle;\n",
       "    }\n",
       "\n",
       "    .dataframe tbody tr th {\n",
       "        vertical-align: top;\n",
       "    }\n",
       "\n",
       "    .dataframe thead th {\n",
       "        text-align: right;\n",
       "    }\n",
       "</style>\n",
       "<table border=\"1\" class=\"dataframe\">\n",
       "  <thead>\n",
       "    <tr style=\"text-align: right;\">\n",
       "      <th></th>\n",
       "      <th>Company</th>\n",
       "      <th>Model</th>\n",
       "      <th>cleaned_prices</th>\n",
       "    </tr>\n",
       "  </thead>\n",
       "  <tbody>\n",
       "    <tr>\n",
       "      <th>400</th>\n",
       "      <td>Tata Motors</td>\n",
       "      <td>Altroz</td>\n",
       "      <td>7369.127517</td>\n",
       "    </tr>\n",
       "    <tr>\n",
       "      <th>402</th>\n",
       "      <td>Tata Motors</td>\n",
       "      <td>Tigor</td>\n",
       "      <td>7369.127517</td>\n",
       "    </tr>\n",
       "    <tr>\n",
       "      <th>401</th>\n",
       "      <td>Tata Motors</td>\n",
       "      <td>Tiago</td>\n",
       "      <td>5624.161074</td>\n",
       "    </tr>\n",
       "  </tbody>\n",
       "</table>\n",
       "</div>"
      ],
      "text/plain": [
       "         Company   Model  cleaned_prices\n",
       "400  Tata Motors  Altroz     7369.127517\n",
       "402  Tata Motors   Tigor     7369.127517\n",
       "401  Tata Motors   Tiago     5624.161074"
      ]
     },
     "execution_count": 42,
     "metadata": {},
     "output_type": "execute_result"
    }
   ],
   "source": [
    "# Top 3 affordable cars for the middle class\n",
    "df_cost[['Company','Model','cleaned_prices']].tail(3)"
   ]
  }
 ],
 "metadata": {
  "kernelspec": {
   "display_name": "Python 3",
   "language": "python",
   "name": "python3"
  },
  "language_info": {
   "codemirror_mode": {
    "name": "ipython",
    "version": 3
   },
   "file_extension": ".py",
   "mimetype": "text/x-python",
   "name": "python",
   "nbconvert_exporter": "python",
   "pygments_lexer": "ipython3",
   "version": "3.10.10"
  },
  "papermill": {
   "default_parameters": {},
   "duration": 18.869786,
   "end_time": "2023-06-01T19:46:14.195510",
   "environment_variables": {},
   "exception": null,
   "input_path": "__notebook__.ipynb",
   "output_path": "__notebook__.ipynb",
   "parameters": {},
   "start_time": "2023-06-01T19:45:55.325724",
   "version": "2.4.0"
  }
 },
 "nbformat": 4,
 "nbformat_minor": 5
}
