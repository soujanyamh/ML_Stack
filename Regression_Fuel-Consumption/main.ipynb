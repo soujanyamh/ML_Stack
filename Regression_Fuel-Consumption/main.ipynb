{
 "cells": [
  {
   "cell_type": "code",
   "execution_count": 1,
   "id": "1163b875",
   "metadata": {
    "_cell_guid": "b1076dfc-b9ad-4769-8c92-a6c4dae69d19",
    "_uuid": "8f2839f25d086af736a60e9eeb907d3b93b6e0e5",
    "execution": {
     "iopub.execute_input": "2023-02-14T21:32:55.287283Z",
     "iopub.status.busy": "2023-02-14T21:32:55.286247Z",
     "iopub.status.idle": "2023-02-14T21:32:55.307557Z",
     "shell.execute_reply": "2023-02-14T21:32:55.306331Z"
    },
    "papermill": {
     "duration": 0.034407,
     "end_time": "2023-02-14T21:32:55.310701",
     "exception": false,
     "start_time": "2023-02-14T21:32:55.276294",
     "status": "completed"
    },
    "tags": []
   },
   "outputs": [
    {
     "name": "stdout",
     "output_type": "stream",
     "text": [
      "/kaggle/input/fuel-consumption/Fuel_Consumption_2000-2022.csv\n"
     ]
    }
   ],
   "source": [
    "import numpy as np\n",
    "import pandas as pd\n",
    "import os\n",
    "for dirname, _, filenames in os.walk('/kaggle/input'):\n",
    "    for filename in filenames:\n",
    "        print(os.path.join(dirname, filename))"
   ]
  },
  {
   "cell_type": "code",
   "execution_count": 2,
   "id": "064353bc",
   "metadata": {
    "execution": {
     "iopub.execute_input": "2023-02-14T21:32:55.327180Z",
     "iopub.status.busy": "2023-02-14T21:32:55.326397Z",
     "iopub.status.idle": "2023-02-14T21:32:55.430392Z",
     "shell.execute_reply": "2023-02-14T21:32:55.429118Z"
    },
    "papermill": {
     "duration": 0.115229,
     "end_time": "2023-02-14T21:32:55.432851",
     "exception": false,
     "start_time": "2023-02-14T21:32:55.317622",
     "status": "completed"
    },
    "tags": []
   },
   "outputs": [
    {
     "data": {
      "text/html": [
       "<div>\n",
       "<style scoped>\n",
       "    .dataframe tbody tr th:only-of-type {\n",
       "        vertical-align: middle;\n",
       "    }\n",
       "\n",
       "    .dataframe tbody tr th {\n",
       "        vertical-align: top;\n",
       "    }\n",
       "\n",
       "    .dataframe thead th {\n",
       "        text-align: right;\n",
       "    }\n",
       "</style>\n",
       "<table border=\"1\" class=\"dataframe\">\n",
       "  <thead>\n",
       "    <tr style=\"text-align: right;\">\n",
       "      <th></th>\n",
       "      <th>YEAR</th>\n",
       "      <th>MAKE</th>\n",
       "      <th>MODEL</th>\n",
       "      <th>VEHICLE CLASS</th>\n",
       "      <th>ENGINE SIZE</th>\n",
       "      <th>CYLINDERS</th>\n",
       "      <th>TRANSMISSION</th>\n",
       "      <th>FUEL</th>\n",
       "      <th>FUEL CONSUMPTION</th>\n",
       "      <th>HWY (L/100 km)</th>\n",
       "      <th>COMB (L/100 km)</th>\n",
       "      <th>COMB (mpg)</th>\n",
       "      <th>EMISSIONS</th>\n",
       "    </tr>\n",
       "  </thead>\n",
       "  <tbody>\n",
       "    <tr>\n",
       "      <th>0</th>\n",
       "      <td>2000</td>\n",
       "      <td>ACURA</td>\n",
       "      <td>1.6EL</td>\n",
       "      <td>COMPACT</td>\n",
       "      <td>1.6</td>\n",
       "      <td>4</td>\n",
       "      <td>A4</td>\n",
       "      <td>X</td>\n",
       "      <td>9.2</td>\n",
       "      <td>6.7</td>\n",
       "      <td>8.1</td>\n",
       "      <td>35</td>\n",
       "      <td>186</td>\n",
       "    </tr>\n",
       "    <tr>\n",
       "      <th>1</th>\n",
       "      <td>2000</td>\n",
       "      <td>ACURA</td>\n",
       "      <td>1.6EL</td>\n",
       "      <td>COMPACT</td>\n",
       "      <td>1.6</td>\n",
       "      <td>4</td>\n",
       "      <td>M5</td>\n",
       "      <td>X</td>\n",
       "      <td>8.5</td>\n",
       "      <td>6.5</td>\n",
       "      <td>7.6</td>\n",
       "      <td>37</td>\n",
       "      <td>175</td>\n",
       "    </tr>\n",
       "    <tr>\n",
       "      <th>2</th>\n",
       "      <td>2000</td>\n",
       "      <td>ACURA</td>\n",
       "      <td>3.2TL</td>\n",
       "      <td>MID-SIZE</td>\n",
       "      <td>3.2</td>\n",
       "      <td>6</td>\n",
       "      <td>AS5</td>\n",
       "      <td>Z</td>\n",
       "      <td>12.2</td>\n",
       "      <td>7.4</td>\n",
       "      <td>10.0</td>\n",
       "      <td>28</td>\n",
       "      <td>230</td>\n",
       "    </tr>\n",
       "    <tr>\n",
       "      <th>3</th>\n",
       "      <td>2000</td>\n",
       "      <td>ACURA</td>\n",
       "      <td>3.5RL</td>\n",
       "      <td>MID-SIZE</td>\n",
       "      <td>3.5</td>\n",
       "      <td>6</td>\n",
       "      <td>A4</td>\n",
       "      <td>Z</td>\n",
       "      <td>13.4</td>\n",
       "      <td>9.2</td>\n",
       "      <td>11.5</td>\n",
       "      <td>25</td>\n",
       "      <td>264</td>\n",
       "    </tr>\n",
       "    <tr>\n",
       "      <th>4</th>\n",
       "      <td>2000</td>\n",
       "      <td>ACURA</td>\n",
       "      <td>INTEGRA</td>\n",
       "      <td>SUBCOMPACT</td>\n",
       "      <td>1.8</td>\n",
       "      <td>4</td>\n",
       "      <td>A4</td>\n",
       "      <td>X</td>\n",
       "      <td>10.0</td>\n",
       "      <td>7.0</td>\n",
       "      <td>8.6</td>\n",
       "      <td>33</td>\n",
       "      <td>198</td>\n",
       "    </tr>\n",
       "  </tbody>\n",
       "</table>\n",
       "</div>"
      ],
      "text/plain": [
       "   YEAR   MAKE    MODEL VEHICLE CLASS  ENGINE SIZE  CYLINDERS TRANSMISSION  \\\n",
       "0  2000  ACURA    1.6EL       COMPACT          1.6          4           A4   \n",
       "1  2000  ACURA    1.6EL       COMPACT          1.6          4           M5   \n",
       "2  2000  ACURA    3.2TL      MID-SIZE          3.2          6          AS5   \n",
       "3  2000  ACURA    3.5RL      MID-SIZE          3.5          6           A4   \n",
       "4  2000  ACURA  INTEGRA    SUBCOMPACT          1.8          4           A4   \n",
       "\n",
       "  FUEL  FUEL CONSUMPTION  HWY (L/100 km)  COMB (L/100 km)  COMB (mpg)  \\\n",
       "0    X               9.2             6.7              8.1          35   \n",
       "1    X               8.5             6.5              7.6          37   \n",
       "2    Z              12.2             7.4             10.0          28   \n",
       "3    Z              13.4             9.2             11.5          25   \n",
       "4    X              10.0             7.0              8.6          33   \n",
       "\n",
       "   EMISSIONS  \n",
       "0        186  \n",
       "1        175  \n",
       "2        230  \n",
       "3        264  \n",
       "4        198  "
      ]
     },
     "execution_count": 2,
     "metadata": {},
     "output_type": "execute_result"
    }
   ],
   "source": [
    "df = pd.read_csv('/kaggle/input/fuel-consumption/Fuel_Consumption_2000-2022.csv')\n",
    "df.head()"
   ]
  },
  {
   "cell_type": "markdown",
   "id": "765971e1",
   "metadata": {
    "papermill": {
     "duration": 0.006527,
     "end_time": "2023-02-14T21:32:55.446352",
     "exception": false,
     "start_time": "2023-02-14T21:32:55.439825",
     "status": "completed"
    },
    "tags": []
   },
   "source": [
    "# Data Processing"
   ]
  },
  {
   "cell_type": "code",
   "execution_count": 3,
   "id": "9cf2e0c3",
   "metadata": {
    "execution": {
     "iopub.execute_input": "2023-02-14T21:32:55.462374Z",
     "iopub.status.busy": "2023-02-14T21:32:55.461476Z",
     "iopub.status.idle": "2023-02-14T21:32:55.496937Z",
     "shell.execute_reply": "2023-02-14T21:32:55.494941Z"
    },
    "papermill": {
     "duration": 0.046512,
     "end_time": "2023-02-14T21:32:55.499681",
     "exception": false,
     "start_time": "2023-02-14T21:32:55.453169",
     "status": "completed"
    },
    "tags": []
   },
   "outputs": [
    {
     "name": "stdout",
     "output_type": "stream",
     "text": [
      "<class 'pandas.core.frame.DataFrame'>\n",
      "RangeIndex: 22556 entries, 0 to 22555\n",
      "Data columns (total 13 columns):\n",
      " #   Column            Non-Null Count  Dtype  \n",
      "---  ------            --------------  -----  \n",
      " 0   YEAR              22556 non-null  int64  \n",
      " 1   MAKE              22556 non-null  object \n",
      " 2   MODEL             22556 non-null  object \n",
      " 3   VEHICLE CLASS     22556 non-null  object \n",
      " 4   ENGINE SIZE       22556 non-null  float64\n",
      " 5   CYLINDERS         22556 non-null  int64  \n",
      " 6   TRANSMISSION      22556 non-null  object \n",
      " 7   FUEL              22556 non-null  object \n",
      " 8   FUEL CONSUMPTION  22556 non-null  float64\n",
      " 9   HWY (L/100 km)    22556 non-null  float64\n",
      " 10  COMB (L/100 km)   22556 non-null  float64\n",
      " 11  COMB (mpg)        22556 non-null  int64  \n",
      " 12  EMISSIONS         22556 non-null  int64  \n",
      "dtypes: float64(4), int64(4), object(5)\n",
      "memory usage: 2.2+ MB\n"
     ]
    }
   ],
   "source": [
    "df.info()"
   ]
  },
  {
   "cell_type": "code",
   "execution_count": 4,
   "id": "aaaddb4d",
   "metadata": {
    "execution": {
     "iopub.execute_input": "2023-02-14T21:32:55.515571Z",
     "iopub.status.busy": "2023-02-14T21:32:55.515104Z",
     "iopub.status.idle": "2023-02-14T21:32:55.532854Z",
     "shell.execute_reply": "2023-02-14T21:32:55.531634Z"
    },
    "papermill": {
     "duration": 0.028929,
     "end_time": "2023-02-14T21:32:55.535651",
     "exception": false,
     "start_time": "2023-02-14T21:32:55.506722",
     "status": "completed"
    },
    "tags": []
   },
   "outputs": [
    {
     "data": {
      "text/plain": [
       "YEAR                0\n",
       "MAKE                0\n",
       "MODEL               0\n",
       "VEHICLE CLASS       0\n",
       "ENGINE SIZE         0\n",
       "CYLINDERS           0\n",
       "TRANSMISSION        0\n",
       "FUEL                0\n",
       "FUEL CONSUMPTION    0\n",
       "HWY (L/100 km)      0\n",
       "COMB (L/100 km)     0\n",
       "COMB (mpg)          0\n",
       "EMISSIONS           0\n",
       "dtype: int64"
      ]
     },
     "execution_count": 4,
     "metadata": {},
     "output_type": "execute_result"
    }
   ],
   "source": [
    "df.isnull().sum()"
   ]
  },
  {
   "cell_type": "code",
   "execution_count": 5,
   "id": "a63d063c",
   "metadata": {
    "execution": {
     "iopub.execute_input": "2023-02-14T21:32:55.552241Z",
     "iopub.status.busy": "2023-02-14T21:32:55.551802Z",
     "iopub.status.idle": "2023-02-14T21:32:55.601403Z",
     "shell.execute_reply": "2023-02-14T21:32:55.600542Z"
    },
    "papermill": {
     "duration": 0.060458,
     "end_time": "2023-02-14T21:32:55.603830",
     "exception": false,
     "start_time": "2023-02-14T21:32:55.543372",
     "status": "completed"
    },
    "tags": []
   },
   "outputs": [
    {
     "data": {
      "text/html": [
       "<div>\n",
       "<style scoped>\n",
       "    .dataframe tbody tr th:only-of-type {\n",
       "        vertical-align: middle;\n",
       "    }\n",
       "\n",
       "    .dataframe tbody tr th {\n",
       "        vertical-align: top;\n",
       "    }\n",
       "\n",
       "    .dataframe thead th {\n",
       "        text-align: right;\n",
       "    }\n",
       "</style>\n",
       "<table border=\"1\" class=\"dataframe\">\n",
       "  <thead>\n",
       "    <tr style=\"text-align: right;\">\n",
       "      <th></th>\n",
       "      <th>count</th>\n",
       "      <th>mean</th>\n",
       "      <th>std</th>\n",
       "      <th>min</th>\n",
       "      <th>25%</th>\n",
       "      <th>50%</th>\n",
       "      <th>75%</th>\n",
       "      <th>max</th>\n",
       "    </tr>\n",
       "  </thead>\n",
       "  <tbody>\n",
       "    <tr>\n",
       "      <th>YEAR</th>\n",
       "      <td>22556.0</td>\n",
       "      <td>2011.554442</td>\n",
       "      <td>6.298269</td>\n",
       "      <td>2000.0</td>\n",
       "      <td>2006.0</td>\n",
       "      <td>2012.0</td>\n",
       "      <td>2017.000</td>\n",
       "      <td>2022.0</td>\n",
       "    </tr>\n",
       "    <tr>\n",
       "      <th>ENGINE SIZE</th>\n",
       "      <td>22556.0</td>\n",
       "      <td>3.356646</td>\n",
       "      <td>1.335425</td>\n",
       "      <td>0.8</td>\n",
       "      <td>2.3</td>\n",
       "      <td>3.0</td>\n",
       "      <td>4.200</td>\n",
       "      <td>8.4</td>\n",
       "    </tr>\n",
       "    <tr>\n",
       "      <th>CYLINDERS</th>\n",
       "      <td>22556.0</td>\n",
       "      <td>5.854141</td>\n",
       "      <td>1.819597</td>\n",
       "      <td>2.0</td>\n",
       "      <td>4.0</td>\n",
       "      <td>6.0</td>\n",
       "      <td>8.000</td>\n",
       "      <td>16.0</td>\n",
       "    </tr>\n",
       "    <tr>\n",
       "      <th>FUEL CONSUMPTION</th>\n",
       "      <td>22556.0</td>\n",
       "      <td>12.763513</td>\n",
       "      <td>3.500999</td>\n",
       "      <td>3.5</td>\n",
       "      <td>10.4</td>\n",
       "      <td>12.3</td>\n",
       "      <td>14.725</td>\n",
       "      <td>30.6</td>\n",
       "    </tr>\n",
       "    <tr>\n",
       "      <th>HWY (L/100 km)</th>\n",
       "      <td>22556.0</td>\n",
       "      <td>8.919126</td>\n",
       "      <td>2.274764</td>\n",
       "      <td>3.2</td>\n",
       "      <td>7.3</td>\n",
       "      <td>8.4</td>\n",
       "      <td>10.200</td>\n",
       "      <td>20.9</td>\n",
       "    </tr>\n",
       "    <tr>\n",
       "      <th>COMB (L/100 km)</th>\n",
       "      <td>22556.0</td>\n",
       "      <td>11.034341</td>\n",
       "      <td>2.910920</td>\n",
       "      <td>3.6</td>\n",
       "      <td>9.1</td>\n",
       "      <td>10.6</td>\n",
       "      <td>12.700</td>\n",
       "      <td>26.1</td>\n",
       "    </tr>\n",
       "    <tr>\n",
       "      <th>COMB (mpg)</th>\n",
       "      <td>22556.0</td>\n",
       "      <td>27.374534</td>\n",
       "      <td>7.376982</td>\n",
       "      <td>11.0</td>\n",
       "      <td>22.0</td>\n",
       "      <td>27.0</td>\n",
       "      <td>31.000</td>\n",
       "      <td>78.0</td>\n",
       "    </tr>\n",
       "    <tr>\n",
       "      <th>EMISSIONS</th>\n",
       "      <td>22556.0</td>\n",
       "      <td>250.068452</td>\n",
       "      <td>59.355276</td>\n",
       "      <td>83.0</td>\n",
       "      <td>209.0</td>\n",
       "      <td>243.0</td>\n",
       "      <td>288.000</td>\n",
       "      <td>608.0</td>\n",
       "    </tr>\n",
       "  </tbody>\n",
       "</table>\n",
       "</div>"
      ],
      "text/plain": [
       "                    count         mean        std     min     25%     50%  \\\n",
       "YEAR              22556.0  2011.554442   6.298269  2000.0  2006.0  2012.0   \n",
       "ENGINE SIZE       22556.0     3.356646   1.335425     0.8     2.3     3.0   \n",
       "CYLINDERS         22556.0     5.854141   1.819597     2.0     4.0     6.0   \n",
       "FUEL CONSUMPTION  22556.0    12.763513   3.500999     3.5    10.4    12.3   \n",
       "HWY (L/100 km)    22556.0     8.919126   2.274764     3.2     7.3     8.4   \n",
       "COMB (L/100 km)   22556.0    11.034341   2.910920     3.6     9.1    10.6   \n",
       "COMB (mpg)        22556.0    27.374534   7.376982    11.0    22.0    27.0   \n",
       "EMISSIONS         22556.0   250.068452  59.355276    83.0   209.0   243.0   \n",
       "\n",
       "                       75%     max  \n",
       "YEAR              2017.000  2022.0  \n",
       "ENGINE SIZE          4.200     8.4  \n",
       "CYLINDERS            8.000    16.0  \n",
       "FUEL CONSUMPTION    14.725    30.6  \n",
       "HWY (L/100 km)      10.200    20.9  \n",
       "COMB (L/100 km)     12.700    26.1  \n",
       "COMB (mpg)          31.000    78.0  \n",
       "EMISSIONS          288.000   608.0  "
      ]
     },
     "execution_count": 5,
     "metadata": {},
     "output_type": "execute_result"
    }
   ],
   "source": [
    "df.describe().T"
   ]
  },
  {
   "cell_type": "code",
   "execution_count": 6,
   "id": "8dc0f2ca",
   "metadata": {
    "execution": {
     "iopub.execute_input": "2023-02-14T21:32:55.621247Z",
     "iopub.status.busy": "2023-02-14T21:32:55.620080Z",
     "iopub.status.idle": "2023-02-14T21:32:55.630311Z",
     "shell.execute_reply": "2023-02-14T21:32:55.629128Z"
    },
    "papermill": {
     "duration": 0.021763,
     "end_time": "2023-02-14T21:32:55.633076",
     "exception": false,
     "start_time": "2023-02-14T21:32:55.611313",
     "status": "completed"
    },
    "tags": []
   },
   "outputs": [
    {
     "data": {
      "text/plain": [
       "CHEVROLET        1725\n",
       "BMW              1490\n",
       "GMC              1357\n",
       "FORD             1276\n",
       "MERCEDES-BENZ     935\n",
       "                 ... \n",
       "ALFA ROMEO          8\n",
       "SRT                 4\n",
       "GENESIS             4\n",
       "BUGATTI             3\n",
       "PLYMOUTH            2\n",
       "Name: MAKE, Length: 87, dtype: int64"
      ]
     },
     "execution_count": 6,
     "metadata": {},
     "output_type": "execute_result"
    }
   ],
   "source": [
    "df['MAKE'].value_counts()"
   ]
  },
  {
   "cell_type": "code",
   "execution_count": 7,
   "id": "29dda196",
   "metadata": {
    "execution": {
     "iopub.execute_input": "2023-02-14T21:32:55.650491Z",
     "iopub.status.busy": "2023-02-14T21:32:55.649848Z",
     "iopub.status.idle": "2023-02-14T21:32:56.106532Z",
     "shell.execute_reply": "2023-02-14T21:32:56.105126Z"
    },
    "papermill": {
     "duration": 0.468786,
     "end_time": "2023-02-14T21:32:56.109476",
     "exception": false,
     "start_time": "2023-02-14T21:32:55.640690",
     "status": "completed"
    },
    "tags": []
   },
   "outputs": [
    {
     "data": {
      "image/png": "[encoded data removed]",
      "text/plain": [
       "<Figure size 640x480 with 1 Axes>"
      ]
     },
     "metadata": {},
     "output_type": "display_data"
    }
   ],
   "source": [
    "df['TRANSMISSION'].value_counts().plot.barh();"
   ]
  },
  {
   "cell_type": "code",
   "execution_count": 8,
   "id": "a3d8e303",
   "metadata": {
    "execution": {
     "iopub.execute_input": "2023-02-14T21:32:56.129011Z",
     "iopub.status.busy": "2023-02-14T21:32:56.128573Z",
     "iopub.status.idle": "2023-02-14T21:33:11.926270Z",
     "shell.execute_reply": "2023-02-14T21:33:11.924942Z"
    },
    "papermill": {
     "duration": 15.810507,
     "end_time": "2023-02-14T21:33:11.929369",
     "exception": false,
     "start_time": "2023-02-14T21:32:56.118862",
     "status": "completed"
    },
    "tags": []
   },
   "outputs": [
    {
     "data": {
      "image/png": "[encoded data removed]",
      "text/plain": [
       "<Figure size 640x480 with 1 Axes>"
      ]
     },
     "metadata": {},
     "output_type": "display_data"
    }
   ],
   "source": [
    "import seaborn as sns\n",
    "sns.barplot(x = 'VEHICLE CLASS', y= 'FUEL CONSUMPTION',hue = 'YEAR' ,data = df);"
   ]
  },
  {
   "cell_type": "code",
   "execution_count": 9,
   "id": "19e3eb39",
   "metadata": {
    "execution": {
     "iopub.execute_input": "2023-02-14T21:33:11.949513Z",
     "iopub.status.busy": "2023-02-14T21:33:11.949104Z",
     "iopub.status.idle": "2023-02-14T21:33:12.250795Z",
     "shell.execute_reply": "2023-02-14T21:33:12.249342Z"
    },
    "papermill": {
     "duration": 0.315555,
     "end_time": "2023-02-14T21:33:12.253898",
     "exception": false,
     "start_time": "2023-02-14T21:33:11.938343",
     "status": "completed"
    },
    "tags": []
   },
   "outputs": [],
   "source": [
    "x = df.drop(['MAKE','MODEL','VEHICLE CLASS','TRANSMISSION','FUEL','FUEL CONSUMPTION'],axis = 1)\n",
    "X_ = df[['MAKE','MODEL','VEHICLE CLASS','TRANSMISSION','FUEL']]\n",
    "dms = pd.get_dummies(X_)\n",
    "X = pd.concat([x,dms],axis=1)\n",
    "Y = df['FUEL CONSUMPTION']"
   ]
  },
  {
   "cell_type": "code",
   "execution_count": 10,
   "id": "f3d2d9c4",
   "metadata": {
    "execution": {
     "iopub.execute_input": "2023-02-14T21:33:12.274509Z",
     "iopub.status.busy": "2023-02-14T21:33:12.273837Z",
     "iopub.status.idle": "2023-02-14T21:33:12.306780Z",
     "shell.execute_reply": "2023-02-14T21:33:12.305680Z"
    },
    "papermill": {
     "duration": 0.046431,
     "end_time": "2023-02-14T21:33:12.309546",
     "exception": false,
     "start_time": "2023-02-14T21:33:12.263115",
     "status": "completed"
    },
    "tags": []
   },
   "outputs": [
    {
     "data": {
      "text/html": [
       "<div>\n",
       "<style scoped>\n",
       "    .dataframe tbody tr th:only-of-type {\n",
       "        vertical-align: middle;\n",
       "    }\n",
       "\n",
       "    .dataframe tbody tr th {\n",
       "        vertical-align: top;\n",
       "    }\n",
       "\n",
       "    .dataframe thead th {\n",
       "        text-align: right;\n",
       "    }\n",
       "</style>\n",
       "<table border=\"1\" class=\"dataframe\">\n",
       "  <thead>\n",
       "    <tr style=\"text-align: right;\">\n",
       "      <th></th>\n",
       "      <th>YEAR</th>\n",
       "      <th>ENGINE SIZE</th>\n",
       "      <th>CYLINDERS</th>\n",
       "      <th>HWY (L/100 km)</th>\n",
       "      <th>COMB (L/100 km)</th>\n",
       "      <th>COMB (mpg)</th>\n",
       "      <th>EMISSIONS</th>\n",
       "      <th>MAKE_ACURA</th>\n",
       "      <th>MAKE_ALFA ROMEO</th>\n",
       "      <th>MAKE_ASTON MARTIN</th>\n",
       "      <th>...</th>\n",
       "      <th>TRANSMISSION_AV8</th>\n",
       "      <th>TRANSMISSION_M4</th>\n",
       "      <th>TRANSMISSION_M5</th>\n",
       "      <th>TRANSMISSION_M6</th>\n",
       "      <th>TRANSMISSION_M7</th>\n",
       "      <th>FUEL_D</th>\n",
       "      <th>FUEL_E</th>\n",
       "      <th>FUEL_N</th>\n",
       "      <th>FUEL_X</th>\n",
       "      <th>FUEL_Z</th>\n",
       "    </tr>\n",
       "  </thead>\n",
       "  <tbody>\n",
       "    <tr>\n",
       "      <th>0</th>\n",
       "      <td>2000</td>\n",
       "      <td>1.6</td>\n",
       "      <td>4</td>\n",
       "      <td>6.7</td>\n",
       "      <td>8.1</td>\n",
       "      <td>35</td>\n",
       "      <td>186</td>\n",
       "      <td>1</td>\n",
       "      <td>0</td>\n",
       "      <td>0</td>\n",
       "      <td>...</td>\n",
       "      <td>0</td>\n",
       "      <td>0</td>\n",
       "      <td>0</td>\n",
       "      <td>0</td>\n",
       "      <td>0</td>\n",
       "      <td>0</td>\n",
       "      <td>0</td>\n",
       "      <td>0</td>\n",
       "      <td>1</td>\n",
       "      <td>0</td>\n",
       "    </tr>\n",
       "    <tr>\n",
       "      <th>1</th>\n",
       "      <td>2000</td>\n",
       "      <td>1.6</td>\n",
       "      <td>4</td>\n",
       "      <td>6.5</td>\n",
       "      <td>7.6</td>\n",
       "      <td>37</td>\n",
       "      <td>175</td>\n",
       "      <td>1</td>\n",
       "      <td>0</td>\n",
       "      <td>0</td>\n",
       "      <td>...</td>\n",
       "      <td>0</td>\n",
       "      <td>0</td>\n",
       "      <td>1</td>\n",
       "      <td>0</td>\n",
       "      <td>0</td>\n",
       "      <td>0</td>\n",
       "      <td>0</td>\n",
       "      <td>0</td>\n",
       "      <td>1</td>\n",
       "      <td>0</td>\n",
       "    </tr>\n",
       "    <tr>\n",
       "      <th>2</th>\n",
       "      <td>2000</td>\n",
       "      <td>3.2</td>\n",
       "      <td>6</td>\n",
       "      <td>7.4</td>\n",
       "      <td>10.0</td>\n",
       "      <td>28</td>\n",
       "      <td>230</td>\n",
       "      <td>1</td>\n",
       "      <td>0</td>\n",
       "      <td>0</td>\n",
       "      <td>...</td>\n",
       "      <td>0</td>\n",
       "      <td>0</td>\n",
       "      <td>0</td>\n",
       "      <td>0</td>\n",
       "      <td>0</td>\n",
       "      <td>0</td>\n",
       "      <td>0</td>\n",
       "      <td>0</td>\n",
       "      <td>0</td>\n",
       "      <td>1</td>\n",
       "    </tr>\n",
       "    <tr>\n",
       "      <th>3</th>\n",
       "      <td>2000</td>\n",
       "      <td>3.5</td>\n",
       "      <td>6</td>\n",
       "      <td>9.2</td>\n",
       "      <td>11.5</td>\n",
       "      <td>25</td>\n",
       "      <td>264</td>\n",
       "      <td>1</td>\n",
       "      <td>0</td>\n",
       "      <td>0</td>\n",
       "      <td>...</td>\n",
       "      <td>0</td>\n",
       "      <td>0</td>\n",
       "      <td>0</td>\n",
       "      <td>0</td>\n",
       "      <td>0</td>\n",
       "      <td>0</td>\n",
       "      <td>0</td>\n",
       "      <td>0</td>\n",
       "      <td>0</td>\n",
       "      <td>1</td>\n",
       "    </tr>\n",
       "    <tr>\n",
       "      <th>4</th>\n",
       "      <td>2000</td>\n",
       "      <td>1.8</td>\n",
       "      <td>4</td>\n",
       "      <td>7.0</td>\n",
       "      <td>8.6</td>\n",
       "      <td>33</td>\n",
       "      <td>198</td>\n",
       "      <td>1</td>\n",
       "      <td>0</td>\n",
       "      <td>0</td>\n",
       "      <td>...</td>\n",
       "      <td>0</td>\n",
       "      <td>0</td>\n",
       "      <td>0</td>\n",
       "      <td>0</td>\n",
       "      <td>0</td>\n",
       "      <td>0</td>\n",
       "      <td>0</td>\n",
       "      <td>0</td>\n",
       "      <td>1</td>\n",
       "      <td>0</td>\n",
       "    </tr>\n",
       "    <tr>\n",
       "      <th>...</th>\n",
       "      <td>...</td>\n",
       "      <td>...</td>\n",
       "      <td>...</td>\n",
       "      <td>...</td>\n",
       "      <td>...</td>\n",
       "      <td>...</td>\n",
       "      <td>...</td>\n",
       "      <td>...</td>\n",
       "      <td>...</td>\n",
       "      <td>...</td>\n",
       "      <td>...</td>\n",
       "      <td>...</td>\n",
       "      <td>...</td>\n",
       "      <td>...</td>\n",
       "      <td>...</td>\n",
       "      <td>...</td>\n",
       "      <td>...</td>\n",
       "      <td>...</td>\n",
       "      <td>...</td>\n",
       "      <td>...</td>\n",
       "      <td>...</td>\n",
       "    </tr>\n",
       "    <tr>\n",
       "      <th>22551</th>\n",
       "      <td>2022</td>\n",
       "      <td>2.0</td>\n",
       "      <td>4</td>\n",
       "      <td>7.7</td>\n",
       "      <td>9.4</td>\n",
       "      <td>30</td>\n",
       "      <td>219</td>\n",
       "      <td>0</td>\n",
       "      <td>0</td>\n",
       "      <td>0</td>\n",
       "      <td>...</td>\n",
       "      <td>0</td>\n",
       "      <td>0</td>\n",
       "      <td>0</td>\n",
       "      <td>0</td>\n",
       "      <td>0</td>\n",
       "      <td>0</td>\n",
       "      <td>0</td>\n",
       "      <td>0</td>\n",
       "      <td>0</td>\n",
       "      <td>1</td>\n",
       "    </tr>\n",
       "    <tr>\n",
       "      <th>22552</th>\n",
       "      <td>2022</td>\n",
       "      <td>2.0</td>\n",
       "      <td>4</td>\n",
       "      <td>8.1</td>\n",
       "      <td>9.4</td>\n",
       "      <td>30</td>\n",
       "      <td>219</td>\n",
       "      <td>0</td>\n",
       "      <td>0</td>\n",
       "      <td>0</td>\n",
       "      <td>...</td>\n",
       "      <td>0</td>\n",
       "      <td>0</td>\n",
       "      <td>0</td>\n",
       "      <td>0</td>\n",
       "      <td>0</td>\n",
       "      <td>0</td>\n",
       "      <td>0</td>\n",
       "      <td>0</td>\n",
       "      <td>0</td>\n",
       "      <td>1</td>\n",
       "    </tr>\n",
       "    <tr>\n",
       "      <th>22553</th>\n",
       "      <td>2022</td>\n",
       "      <td>2.0</td>\n",
       "      <td>4</td>\n",
       "      <td>8.7</td>\n",
       "      <td>9.9</td>\n",
       "      <td>29</td>\n",
       "      <td>232</td>\n",
       "      <td>0</td>\n",
       "      <td>0</td>\n",
       "      <td>0</td>\n",
       "      <td>...</td>\n",
       "      <td>0</td>\n",
       "      <td>0</td>\n",
       "      <td>0</td>\n",
       "      <td>0</td>\n",
       "      <td>0</td>\n",
       "      <td>0</td>\n",
       "      <td>0</td>\n",
       "      <td>0</td>\n",
       "      <td>0</td>\n",
       "      <td>1</td>\n",
       "    </tr>\n",
       "    <tr>\n",
       "      <th>22554</th>\n",
       "      <td>2022</td>\n",
       "      <td>2.0</td>\n",
       "      <td>4</td>\n",
       "      <td>8.4</td>\n",
       "      <td>10.1</td>\n",
       "      <td>28</td>\n",
       "      <td>236</td>\n",
       "      <td>0</td>\n",
       "      <td>0</td>\n",
       "      <td>0</td>\n",
       "      <td>...</td>\n",
       "      <td>0</td>\n",
       "      <td>0</td>\n",
       "      <td>0</td>\n",
       "      <td>0</td>\n",
       "      <td>0</td>\n",
       "      <td>0</td>\n",
       "      <td>0</td>\n",
       "      <td>0</td>\n",
       "      <td>0</td>\n",
       "      <td>1</td>\n",
       "    </tr>\n",
       "    <tr>\n",
       "      <th>22555</th>\n",
       "      <td>2022</td>\n",
       "      <td>2.0</td>\n",
       "      <td>4</td>\n",
       "      <td>8.9</td>\n",
       "      <td>10.8</td>\n",
       "      <td>26</td>\n",
       "      <td>252</td>\n",
       "      <td>0</td>\n",
       "      <td>0</td>\n",
       "      <td>0</td>\n",
       "      <td>...</td>\n",
       "      <td>0</td>\n",
       "      <td>0</td>\n",
       "      <td>0</td>\n",
       "      <td>0</td>\n",
       "      <td>0</td>\n",
       "      <td>0</td>\n",
       "      <td>0</td>\n",
       "      <td>0</td>\n",
       "      <td>0</td>\n",
       "      <td>1</td>\n",
       "    </tr>\n",
       "  </tbody>\n",
       "</table>\n",
       "<p>22556 rows × 4403 columns</p>\n",
       "</div>"
      ],
      "text/plain": [
       "       YEAR  ENGINE SIZE  CYLINDERS  HWY (L/100 km)  COMB (L/100 km)  \\\n",
       "0      2000          1.6          4             6.7              8.1   \n",
       "1      2000          1.6          4             6.5              7.6   \n",
       "2      2000          3.2          6             7.4             10.0   \n",
       "3      2000          3.5          6             9.2             11.5   \n",
       "4      2000          1.8          4             7.0              8.6   \n",
       "...     ...          ...        ...             ...              ...   \n",
       "22551  2022          2.0          4             7.7              9.4   \n",
       "22552  2022          2.0          4             8.1              9.4   \n",
       "22553  2022          2.0          4             8.7              9.9   \n",
       "22554  2022          2.0          4             8.4             10.1   \n",
       "22555  2022          2.0          4             8.9             10.8   \n",
       "\n",
       "       COMB (mpg)  EMISSIONS  MAKE_ACURA  MAKE_ALFA ROMEO  MAKE_ASTON MARTIN  \\\n",
       "0              35        186           1                0                  0   \n",
       "1              37        175           1                0                  0   \n",
       "2              28        230           1                0                  0   \n",
       "3              25        264           1                0                  0   \n",
       "4              33        198           1                0                  0   \n",
       "...           ...        ...         ...              ...                ...   \n",
       "22551          30        219           0                0                  0   \n",
       "22552          30        219           0                0                  0   \n",
       "22553          29        232           0                0                  0   \n",
       "22554          28        236           0                0                  0   \n",
       "22555          26        252           0                0                  0   \n",
       "\n",
       "       ...  TRANSMISSION_AV8  TRANSMISSION_M4  TRANSMISSION_M5  \\\n",
       "0      ...                 0                0                0   \n",
       "1      ...                 0                0                1   \n",
       "2      ...                 0                0                0   \n",
       "3      ...                 0                0                0   \n",
       "4      ...                 0                0                0   \n",
       "...    ...               ...              ...              ...   \n",
       "22551  ...                 0                0                0   \n",
       "22552  ...                 0                0                0   \n",
       "22553  ...                 0                0                0   \n",
       "22554  ...                 0                0                0   \n",
       "22555  ...                 0                0                0   \n",
       "\n",
       "       TRANSMISSION_M6  TRANSMISSION_M7  FUEL_D  FUEL_E  FUEL_N  FUEL_X  \\\n",
       "0                    0                0       0       0       0       1   \n",
       "1                    0                0       0       0       0       1   \n",
       "2                    0                0       0       0       0       0   \n",
       "3                    0                0       0       0       0       0   \n",
       "4                    0                0       0       0       0       1   \n",
       "...                ...              ...     ...     ...     ...     ...   \n",
       "22551                0                0       0       0       0       0   \n",
       "22552                0                0       0       0       0       0   \n",
       "22553                0                0       0       0       0       0   \n",
       "22554                0                0       0       0       0       0   \n",
       "22555                0                0       0       0       0       0   \n",
       "\n",
       "       FUEL_Z  \n",
       "0           0  \n",
       "1           0  \n",
       "2           1  \n",
       "3           1  \n",
       "4           0  \n",
       "...       ...  \n",
       "22551       1  \n",
       "22552       1  \n",
       "22553       1  \n",
       "22554       1  \n",
       "22555       1  \n",
       "\n",
       "[22556 rows x 4403 columns]"
      ]
     },
     "execution_count": 10,
     "metadata": {},
     "output_type": "execute_result"
    }
   ],
   "source": [
    "X"
   ]
  },
  {
   "cell_type": "code",
   "execution_count": 11,
   "id": "9eea85b8",
   "metadata": {
    "execution": {
     "iopub.execute_input": "2023-02-14T21:33:12.330620Z",
     "iopub.status.busy": "2023-02-14T21:33:12.330215Z",
     "iopub.status.idle": "2023-02-14T21:33:12.340650Z",
     "shell.execute_reply": "2023-02-14T21:33:12.339420Z"
    },
    "papermill": {
     "duration": 0.023948,
     "end_time": "2023-02-14T21:33:12.343435",
     "exception": false,
     "start_time": "2023-02-14T21:33:12.319487",
     "status": "completed"
    },
    "tags": []
   },
   "outputs": [
    {
     "data": {
      "text/plain": [
       "0         9.2\n",
       "1         8.5\n",
       "2        12.2\n",
       "3        13.4\n",
       "4        10.0\n",
       "         ... \n",
       "22551    10.7\n",
       "22552    10.5\n",
       "22553    11.0\n",
       "22554    11.5\n",
       "22555    12.4\n",
       "Name: FUEL CONSUMPTION, Length: 22556, dtype: float64"
      ]
     },
     "execution_count": 11,
     "metadata": {},
     "output_type": "execute_result"
    }
   ],
   "source": [
    "Y"
   ]
  },
  {
   "cell_type": "code",
   "execution_count": 12,
   "id": "fde6b184",
   "metadata": {
    "execution": {
     "iopub.execute_input": "2023-02-14T21:33:12.364725Z",
     "iopub.status.busy": "2023-02-14T21:33:12.363912Z",
     "iopub.status.idle": "2023-02-14T21:33:12.602635Z",
     "shell.execute_reply": "2023-02-14T21:33:12.601182Z"
    },
    "papermill": {
     "duration": 0.252416,
     "end_time": "2023-02-14T21:33:12.605466",
     "exception": false,
     "start_time": "2023-02-14T21:33:12.353050",
     "status": "completed"
    },
    "tags": []
   },
   "outputs": [],
   "source": [
    "from sklearn.model_selection import train_test_split,GridSearchCV\n",
    "from sklearn.preprocessing import StandardScaler\n",
    "from sklearn.metrics import mean_squared_error"
   ]
  },
  {
   "cell_type": "code",
   "execution_count": 13,
   "id": "f2f9c920",
   "metadata": {
    "execution": {
     "iopub.execute_input": "2023-02-14T21:33:12.626460Z",
     "iopub.status.busy": "2023-02-14T21:33:12.626041Z",
     "iopub.status.idle": "2023-02-14T21:33:13.045487Z",
     "shell.execute_reply": "2023-02-14T21:33:13.044214Z"
    },
    "papermill": {
     "duration": 0.433255,
     "end_time": "2023-02-14T21:33:13.048410",
     "exception": false,
     "start_time": "2023-02-14T21:33:12.615155",
     "status": "completed"
    },
    "tags": []
   },
   "outputs": [],
   "source": [
    "x_train,x_test,y_train,y_test = train_test_split(X,Y,test_size=0.35,random_state=42)"
   ]
  },
  {
   "cell_type": "code",
   "execution_count": 14,
   "id": "3ebf5d36",
   "metadata": {
    "execution": {
     "iopub.execute_input": "2023-02-14T21:33:13.071134Z",
     "iopub.status.busy": "2023-02-14T21:33:13.070653Z",
     "iopub.status.idle": "2023-02-14T21:33:14.648307Z",
     "shell.execute_reply": "2023-02-14T21:33:14.646798Z"
    },
    "papermill": {
     "duration": 1.593188,
     "end_time": "2023-02-14T21:33:14.651349",
     "exception": false,
     "start_time": "2023-02-14T21:33:13.058161",
     "status": "completed"
    },
    "tags": []
   },
   "outputs": [],
   "source": [
    "sc = StandardScaler()\n",
    "X_train = sc.fit_transform(x_train)\n",
    "X_test = sc.transform(x_test)"
   ]
  },
  {
   "cell_type": "markdown",
   "id": "a35404ec",
   "metadata": {
    "papermill": {
     "duration": 0.009371,
     "end_time": "2023-02-14T21:33:14.670523",
     "exception": false,
     "start_time": "2023-02-14T21:33:14.661152",
     "status": "completed"
    },
    "tags": []
   },
   "source": [
    "# 3 ML Models"
   ]
  },
  {
   "cell_type": "markdown",
   "id": "c312226b",
   "metadata": {
    "papermill": {
     "duration": 0.00926,
     "end_time": "2023-02-14T21:33:14.689791",
     "exception": false,
     "start_time": "2023-02-14T21:33:14.680531",
     "status": "completed"
    },
    "tags": []
   },
   "source": [
    "## GBM"
   ]
  },
  {
   "cell_type": "code",
   "execution_count": 15,
   "id": "0a6ae66e",
   "metadata": {
    "execution": {
     "iopub.execute_input": "2023-02-14T21:33:14.711043Z",
     "iopub.status.busy": "2023-02-14T21:33:14.710615Z",
     "iopub.status.idle": "2023-02-14T21:34:12.965292Z",
     "shell.execute_reply": "2023-02-14T21:34:12.963649Z"
    },
    "papermill": {
     "duration": 58.276965,
     "end_time": "2023-02-14T21:34:12.976357",
     "exception": false,
     "start_time": "2023-02-14T21:33:14.699392",
     "status": "completed"
    },
    "tags": []
   },
   "outputs": [
    {
     "data": {
      "text/plain": [
       "0.2359640394185178"
      ]
     },
     "execution_count": 15,
     "metadata": {},
     "output_type": "execute_result"
    }
   ],
   "source": [
    "from sklearn.ensemble import GradientBoostingRegressor\n",
    "gbr = GradientBoostingRegressor().fit(X_train,y_train)\n",
    "y_pred = gbr.predict(X_test)\n",
    "np.sqrt(mean_squared_error(y_test,y_pred))"
   ]
  },
  {
   "cell_type": "markdown",
   "id": "797c531b",
   "metadata": {
    "papermill": {
     "duration": 0.009841,
     "end_time": "2023-02-14T21:34:12.995669",
     "exception": false,
     "start_time": "2023-02-14T21:34:12.985828",
     "status": "completed"
    },
    "tags": []
   },
   "source": [
    "## Decision Tree"
   ]
  },
  {
   "cell_type": "code",
   "execution_count": 16,
   "id": "ac27ab97",
   "metadata": {
    "execution": {
     "iopub.execute_input": "2023-02-14T21:34:13.018376Z",
     "iopub.status.busy": "2023-02-14T21:34:13.017938Z",
     "iopub.status.idle": "2023-02-14T21:34:15.001652Z",
     "shell.execute_reply": "2023-02-14T21:34:15.000051Z"
    },
    "papermill": {
     "duration": 1.998692,
     "end_time": "2023-02-14T21:34:15.004200",
     "exception": false,
     "start_time": "2023-02-14T21:34:13.005508",
     "status": "completed"
    },
    "tags": []
   },
   "outputs": [
    {
     "data": {
      "text/plain": [
       "0.09694510502454673"
      ]
     },
     "execution_count": 16,
     "metadata": {},
     "output_type": "execute_result"
    }
   ],
   "source": [
    "from sklearn.tree import DecisionTreeRegressor\n",
    "dt = DecisionTreeRegressor().fit(X_train,y_train)\n",
    "y_pred = dt.predict(X_test)\n",
    "np.sqrt(mean_squared_error(y_test,y_pred))"
   ]
  },
  {
   "cell_type": "markdown",
   "id": "2fe5ab13",
   "metadata": {
    "papermill": {
     "duration": 0.009429,
     "end_time": "2023-02-14T21:34:15.023265",
     "exception": false,
     "start_time": "2023-02-14T21:34:15.013836",
     "status": "completed"
    },
    "tags": []
   },
   "source": [
    "## CatBoost"
   ]
  },
  {
   "cell_type": "code",
   "execution_count": 17,
   "id": "4239f7f9",
   "metadata": {
    "execution": {
     "iopub.execute_input": "2023-02-14T21:34:15.045681Z",
     "iopub.status.busy": "2023-02-14T21:34:15.044969Z",
     "iopub.status.idle": "2023-02-14T21:34:27.565703Z",
     "shell.execute_reply": "2023-02-14T21:34:27.564112Z"
    },
    "papermill": {
     "duration": 12.535343,
     "end_time": "2023-02-14T21:34:27.568543",
     "exception": false,
     "start_time": "2023-02-14T21:34:15.033200",
     "status": "completed"
    },
    "tags": []
   },
   "outputs": [
    {
     "data": {
      "text/plain": [
       "0.10312205272363459"
      ]
     },
     "execution_count": 17,
     "metadata": {},
     "output_type": "execute_result"
    }
   ],
   "source": [
    "from catboost import CatBoostRegressor\n",
    "cat = CatBoostRegressor(verbose=False).fit(X_train,y_train)\n",
    "y_pred = cat.predict(X_test)\n",
    "np.sqrt(mean_squared_error(y_test,y_pred))"
   ]
  },
  {
   "cell_type": "markdown",
   "id": "3ca907ab",
   "metadata": {
    "papermill": {
     "duration": 0.009653,
     "end_time": "2023-02-14T21:34:27.588773",
     "exception": false,
     "start_time": "2023-02-14T21:34:27.579120",
     "status": "completed"
    },
    "tags": []
   },
   "source": [
    "# Model Tuning"
   ]
  },
  {
   "cell_type": "code",
   "execution_count": 18,
   "id": "22016808",
   "metadata": {
    "execution": {
     "iopub.execute_input": "2023-02-14T21:34:27.610550Z",
     "iopub.status.busy": "2023-02-14T21:34:27.610118Z",
     "iopub.status.idle": "2023-02-14T21:56:43.785646Z",
     "shell.execute_reply": "2023-02-14T21:56:43.783558Z"
    },
    "papermill": {
     "duration": 1336.190602,
     "end_time": "2023-02-14T21:56:43.789190",
     "exception": false,
     "start_time": "2023-02-14T21:34:27.598588",
     "status": "completed"
    },
    "tags": []
   },
   "outputs": [
    {
     "name": "stdout",
     "output_type": "stream",
     "text": [
      "Fitting 5 folds for each of 18 candidates, totalling 90 fits\n"
     ]
    }
   ],
   "source": [
    "cat_params = {\"iterations\": [200,500,100],\n",
    "              \"learning_rate\":[0.01,0.1],\n",
    "              \"depth\":[3,6,8]}\n",
    "cat_tuned = GridSearchCV(cat,cat_params,cv=5,verbose=2,n_jobs=-1).fit(X_train,y_train)"
   ]
  },
  {
   "cell_type": "code",
   "execution_count": 19,
   "id": "a1e607ec",
   "metadata": {
    "execution": {
     "iopub.execute_input": "2023-02-14T21:56:43.812520Z",
     "iopub.status.busy": "2023-02-14T21:56:43.812036Z",
     "iopub.status.idle": "2023-02-14T21:56:43.821476Z",
     "shell.execute_reply": "2023-02-14T21:56:43.820241Z"
    },
    "papermill": {
     "duration": 0.024452,
     "end_time": "2023-02-14T21:56:43.823994",
     "exception": false,
     "start_time": "2023-02-14T21:56:43.799542",
     "status": "completed"
    },
    "tags": []
   },
   "outputs": [
    {
     "data": {
      "text/plain": [
       "{'depth': 8, 'iterations': 500, 'learning_rate': 0.1}"
      ]
     },
     "execution_count": 19,
     "metadata": {},
     "output_type": "execute_result"
    }
   ],
   "source": [
    "cat_tuned.best_params_"
   ]
  },
  {
   "cell_type": "code",
   "execution_count": 20,
   "id": "6cbb6f0c",
   "metadata": {
    "execution": {
     "iopub.execute_input": "2023-02-14T21:56:43.846995Z",
     "iopub.status.busy": "2023-02-14T21:56:43.846553Z",
     "iopub.status.idle": "2023-02-14T21:56:59.787261Z",
     "shell.execute_reply": "2023-02-14T21:56:59.785951Z"
    },
    "papermill": {
     "duration": 15.955797,
     "end_time": "2023-02-14T21:56:59.789799",
     "exception": false,
     "start_time": "2023-02-14T21:56:43.834002",
     "status": "completed"
    },
    "tags": []
   },
   "outputs": [
    {
     "data": {
      "text/plain": [
       "0.10099151833455185"
      ]
     },
     "execution_count": 20,
     "metadata": {},
     "output_type": "execute_result"
    }
   ],
   "source": [
    "final_cat = CatBoostRegressor(depth=8,iterations = 500, learning_rate = 0.1,verbose = False).fit(X_train,y_train)\n",
    "y_pred = final_cat.predict(X_test)\n",
    "np.sqrt(mean_squared_error(y_test,y_pred))"
   ]
  },
  {
   "cell_type": "code",
   "execution_count": 21,
   "id": "0082a2d5",
   "metadata": {
    "execution": {
     "iopub.execute_input": "2023-02-14T21:56:59.811852Z",
     "iopub.status.busy": "2023-02-14T21:56:59.811450Z",
     "iopub.status.idle": "2023-02-14T21:56:59.816308Z",
     "shell.execute_reply": "2023-02-14T21:56:59.815201Z"
    },
    "papermill": {
     "duration": 0.018503,
     "end_time": "2023-02-14T21:56:59.818576",
     "exception": false,
     "start_time": "2023-02-14T21:56:59.800073",
     "status": "completed"
    },
    "tags": []
   },
   "outputs": [],
   "source": [
    "# 0.1031 -> 0.1009 I wanted to do tuning on catboost here. There was a small error, though."
   ]
  }
 ],
 "metadata": {
  "kernelspec": {
   "display_name": "Python 3",
   "language": "python",
   "name": "python3"
  },
  "language_info": {
   "codemirror_mode": {
    "name": "ipython",
    "version": 3
   },
   "file_extension": ".py",
   "mimetype": "text/x-python",
   "name": "python",
   "nbconvert_exporter": "python",
   "pygments_lexer": "ipython3",
   "version": "3.7.12"
  },
  "papermill": {
   "default_parameters": {},
   "duration": 1456.849995,
   "end_time": "2023-02-14T21:57:02.454476",
   "environment_variables": {},
   "exception": null,
   "input_path": "__notebook__.ipynb",
   "output_path": "__notebook__.ipynb",
   "parameters": {},
   "start_time": "2023-02-14T21:32:45.604481",
   "version": "2.3.4"
  }
 },
 "nbformat": 4,
 "nbformat_minor": 5
}
